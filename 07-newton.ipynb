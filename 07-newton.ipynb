{
 "cells": [
  {
   "cell_type": "markdown",
   "metadata": {
    "internals": {
     "slide_helper": "subslide_end",
     "slide_type": "subslide"
    },
    "slide_helper": "slide_end",
    "slideshow": {
     "slide_type": "slide"
    }
   },
   "source": [
    "# Newton's method\n"
   ]
  },
  {
   "cell_type": "markdown",
   "metadata": {},
   "source": [
    "We get started by loading our package that brings in plotting and other features, including those provided by the `Roots` package:\n"
   ]
  },
  {
   "cell_type": "code",
   "execution_count": 1,
   "metadata": {},
   "outputs": [
    {
     "name": "stderr",
     "output_type": "stream",
     "text": [
      "┌ Info: For saving to png with the Plotly backend PlotlyBase has to be installed.\n",
      "└ @ Plots /Users/verzani/.julia/packages/Plots/1KWPG/src/backends.jl:318\n"
     ]
    },
    {
     "data": {
      "text/plain": [
       "Plots.PlotlyBackend()"
      ]
     },
     "execution_count": 1,
     "metadata": {},
     "output_type": "execute_result"
    }
   ],
   "source": [
    "using MTH229\n",
    "using Plots\n",
    "plotly()"
   ]
  },
  {
   "cell_type": "markdown",
   "metadata": {},
   "source": [
    "---\n"
   ]
  },
  {
   "cell_type": "markdown",
   "metadata": {
    "internals": {
     "slide_type": "subslide"
    },
    "slide_helper": "slide_end",
    "slideshow": {
     "slide_type": "subslide"
    }
   },
   "source": [
    "### Quick background\n"
   ]
  },
  {
   "cell_type": "markdown",
   "metadata": {},
   "source": [
    "Read about this material here: [Newton's Method](http://mth229.github.io/newton.html).\n"
   ]
  },
  {
   "cell_type": "markdown",
   "metadata": {},
   "source": [
    "For the impatient, symbolic math - as is done behind the scenes at the Wolfram alpha web site - is pretty nice. For so many problems it can easily do what is tedious work. However, for some questions, only numeric solutions are possible. For example, there is no general formula to solve a fifth order polynomial the way there is a quadratic formula for solving quadratic polynomials. Even an innocuous polynomial like $f(x) = x^5 - x - 1$ has no easy algebraic solution for is one root.\n"
   ]
  },
  {
   "cell_type": "markdown",
   "metadata": {},
   "source": [
    "A graph shows what looks like just one answer between $1$ and $2$, closer to $1$\n"
   ]
  },
  {
   "cell_type": "code",
   "execution_count": 2,
   "metadata": {},
   "outputs": [
    {
     "data": {
      "application/vnd.plotly.v1+json": {
       "data": [
        {
         "colorbar": {
          "title": ""
         },
         "legendgroup": "y1",
         "line": {
          "color": "rgba(0, 154, 250, 1.000)",
          "dash": "solid",
          "shape": "linear",
          "width": 1
         },
         "mode": "lines",
         "name": "y1",
         "showlegend": true,
         "type": "scatter",
         "x": [
          -2,
          -1.9902341809802118,
          -1.9804683619604238,
          -1.9707025429406357,
          -1.9609367239208475,
          -1.9157871748465551,
          -1.8706376257722628,
          -1.8254880766979704,
          -1.780338527623678,
          -1.6900394294750933,
          -1.5997403313265088,
          -1.5454743371892579,
          -1.4912083430520067,
          -1.4369423489147555,
          -1.3826763547775045,
          -1.2909139399572207,
          -1.1991515251369371,
          -0.9997921198677943,
          -0.8160003818614874,
          -0.6189562143740406,
          -0.3906612226458709,
          -0.18777957555591424,
          -0.009870653839119958,
          0.18409782662127785,
          0.3792191150112484,
          0.5949506504976171,
          0.8002137629793739,
          0.9069267685123881,
          1.0136397740454022,
          1.1034693943563914,
          1.1932990146673805,
          1.3029707993064186,
          1.4126425839454564,
          1.4641899400878007,
          1.5157372962301452,
          1.5672846523724897,
          1.618832008514834,
          1.7014148704021854,
          1.7839977322895368,
          1.8665805941768883,
          1.9491634560642397,
          1.9618725920481799,
          1.9745817280321198,
          1.9872908640160598,
          2
         ],
         "xaxis": "x",
         "y": [
          -31,
          -30.23609283087137,
          -29.487222797111645,
          -28.753169629097478,
          -28.033715218847895,
          -24.891140687128047,
          -22.035313367004242,
          -19.446437509968874,
          -17.105650159015095,
          -13.097418022175589,
          -9.87751360697585,
          -8.271285066538608,
          -6.882596242232013,
          -5.689335947887031,
          -4.670944779031652,
          -3.2940637129497214,
          -2.2803839187278245,
          -0.9991689115228464,
          -0.5457856622504695,
          -0.4718884946582056,
          -0.618437942024968,
          -0.8124539001866694,
          -0.9901293462545779,
          -1.1838863592789481,
          -1.3713766768689948,
          -1.5204080192749667,
          -1.4720957423786838,
          -1.2933610269302744,
          -0.9435549200210946,
          -0.4674009784367432,
          0.22631677596252664,
          1.45257804329838,
          3.212861824318545,
          4.265376624496926,
          5.484809779317712,
          6.889410819347255,
          8.498713469529442,
          11.556339258213907,
          15.286557214788807,
          19.79205379987303,
          25.1854726289243,
          26.102034731264347,
          27.0429908640389,
          28.008818176555447,
          29
         ],
         "yaxis": "y",
         "zmax": null,
         "zmin": null
        },
        {
         "colorbar": {
          "title": ""
         },
         "legendgroup": "y2",
         "line": {
          "color": "rgba(227, 111, 71, 1.000)",
          "dash": "solid",
          "shape": "linear",
          "width": 1
         },
         "mode": "lines",
         "name": "y2",
         "showlegend": true,
         "type": "scatter",
         "x": [
          -2,
          -1.9609367239208475,
          -1.5997403313265088,
          -1.3826763547775045,
          -1.1991515251369371,
          -0.9997921198677943,
          -0.8160003818614874,
          -0.6189562143740406,
          -0.3906612226458709,
          -0.18777957555591424,
          -0.009870653839119958,
          0.18409782662127785,
          0.3792191150112484,
          0.5949506504976171,
          0.8002137629793739,
          1.0136397740454022,
          1.1932990146673805,
          1.4126425839454564,
          1.618832008514834,
          1.9491634560642397,
          2
         ],
         "xaxis": "x",
         "y": [
          0,
          0,
          0,
          0,
          0,
          0,
          0,
          0,
          0,
          0,
          0,
          0,
          0,
          0,
          0,
          0,
          0,
          0,
          0,
          0,
          0
         ],
         "yaxis": "y",
         "zmax": null,
         "zmin": null
        }
       ],
       "layout": {
        "annotations": [],
        "height": 400,
        "legend_position": {
         "bgcolor": "rgba(255, 255, 255, 1.000)",
         "bordercolor": "rgba(0, 0, 0, 1.000)",
         "borderwidth": 1,
         "font": {
          "color": "rgba(0, 0, 0, 1.000)",
          "family": "sans-serif",
          "size": 11
         },
         "title": {
          "font": {
           "color": "rgba(0, 0, 0, 1.000)",
           "family": "sans-serif",
           "size": 15
          },
          "text": ""
         },
         "tracegroupgap": 0,
         "traceorder": "normal",
         "x": 1,
         "xanchor": "auto",
         "y": 1,
         "yanchor": "auto"
        },
        "margin": {
         "b": 20,
         "l": 0,
         "r": 0,
         "t": 20
        },
        "paper_bgcolor": "rgba(255, 255, 255, 1.000)",
        "plot_bgcolor": "rgba(255, 255, 255, 1.000)",
        "showlegend": true,
        "width": 600,
        "xaxis": {
         "anchor": "y",
         "domain": [
          0.05100612423447069,
          0.9934383202099737
         ],
         "gridcolor": "rgba(0, 0, 0, 0.100)",
         "gridwidth": 0.5,
         "linecolor": "rgba(0, 0, 0, 1.000)",
         "mirror": false,
         "range": [
          -2.12,
          2.12
         ],
         "showgrid": true,
         "showline": true,
         "showticklabels": true,
         "tickangle": 0,
         "tickcolor": "rgb(0, 0, 0)",
         "tickfont": {
          "color": "rgba(0, 0, 0, 1.000)",
          "family": "sans-serif",
          "size": 11
         },
         "tickmode": "array",
         "ticks": "inside",
         "ticktext": [
          "−2",
          "−1",
          "0",
          "1",
          "2"
         ],
         "tickvals": [
          -2,
          -1,
          0,
          1,
          2
         ],
         "title": "",
         "titlefont": {
          "color": "rgba(0, 0, 0, 1.000)",
          "family": "sans-serif",
          "size": 15
         },
         "type": "-",
         "visible": true,
         "zeroline": false,
         "zerolinecolor": "rgba(0, 0, 0, 1.000)"
        },
        "yaxis": {
         "anchor": "x",
         "domain": [
          0.03762029746281716,
          0.9901574803149606
         ],
         "gridcolor": "rgba(0, 0, 0, 0.100)",
         "gridwidth": 0.5,
         "linecolor": "rgba(0, 0, 0, 1.000)",
         "mirror": false,
         "range": [
          -32.8,
          30.8
         ],
         "showgrid": true,
         "showline": true,
         "showticklabels": true,
         "tickangle": 0,
         "tickcolor": "rgb(0, 0, 0)",
         "tickfont": {
          "color": "rgba(0, 0, 0, 1.000)",
          "family": "sans-serif",
          "size": 11
         },
         "tickmode": "array",
         "ticks": "inside",
         "ticktext": [
          "−30",
          "−20",
          "−10",
          "0",
          "10",
          "20",
          "30"
         ],
         "tickvals": [
          -30,
          -20,
          -10,
          0,
          10,
          20,
          30
         ],
         "title": "",
         "titlefont": {
          "color": "rgba(0, 0, 0, 1.000)",
          "family": "sans-serif",
          "size": 15
         },
         "type": "-",
         "visible": true,
         "zeroline": false,
         "zerolinecolor": "rgba(0, 0, 0, 1.000)"
        }
       }
      },
      "text/html": [
       "    <div id=\"5c8e4f5f-ac97-46c7-8735-5be5c53228ac\" style=\"width:600px;height:400px;\"></div>\n",
       "    <script>\n",
       "        requirejs.config({\n",
       "        paths: {\n",
       "            Plotly: 'https://cdn.plot.ly/plotly-2.6.3.min'\n",
       "        }\n",
       "    });\n",
       "    require(['Plotly'], function (Plotly) {\n",
       "\n",
       "        Plotly.newPlot('5c8e4f5f-ac97-46c7-8735-5be5c53228ac', [\n",
       "    {\n",
       "        \"xaxis\": \"x\",\n",
       "        \"colorbar\": {\n",
       "            \"title\": \"\"\n",
       "        },\n",
       "        \"yaxis\": \"y\",\n",
       "        \"x\": [\n",
       "            -2.0,\n",
       "            -1.9902341809802118,\n",
       "            -1.9804683619604238,\n",
       "            -1.9707025429406357,\n",
       "            -1.9609367239208475,\n",
       "            -1.9157871748465551,\n",
       "            -1.8706376257722628,\n",
       "            -1.8254880766979704,\n",
       "            -1.780338527623678,\n",
       "            -1.6900394294750933,\n",
       "            -1.5997403313265088,\n",
       "            -1.5454743371892579,\n",
       "            -1.4912083430520067,\n",
       "            -1.4369423489147555,\n",
       "            -1.3826763547775045,\n",
       "            -1.2909139399572207,\n",
       "            -1.1991515251369371,\n",
       "            -0.9997921198677943,\n",
       "            -0.8160003818614874,\n",
       "            -0.6189562143740406,\n",
       "            -0.3906612226458709,\n",
       "            -0.18777957555591424,\n",
       "            -0.009870653839119958,\n",
       "            0.18409782662127785,\n",
       "            0.3792191150112484,\n",
       "            0.5949506504976171,\n",
       "            0.8002137629793739,\n",
       "            0.9069267685123881,\n",
       "            1.0136397740454022,\n",
       "            1.1034693943563914,\n",
       "            1.1932990146673805,\n",
       "            1.3029707993064186,\n",
       "            1.4126425839454564,\n",
       "            1.4641899400878007,\n",
       "            1.5157372962301452,\n",
       "            1.5672846523724897,\n",
       "            1.618832008514834,\n",
       "            1.7014148704021854,\n",
       "            1.7839977322895368,\n",
       "            1.8665805941768883,\n",
       "            1.9491634560642397,\n",
       "            1.9618725920481799,\n",
       "            1.9745817280321198,\n",
       "            1.9872908640160598,\n",
       "            2.0\n",
       "        ],\n",
       "        \"showlegend\": true,\n",
       "        \"mode\": \"lines\",\n",
       "        \"name\": \"y1\",\n",
       "        \"zmin\": null,\n",
       "        \"legendgroup\": \"y1\",\n",
       "        \"zmax\": null,\n",
       "        \"line\": {\n",
       "            \"color\": \"rgba(0, 154, 250, 1.000)\",\n",
       "            \"shape\": \"linear\",\n",
       "            \"dash\": \"solid\",\n",
       "            \"width\": 1\n",
       "        },\n",
       "        \"y\": [\n",
       "            -31.0,\n",
       "            -30.23609283087137,\n",
       "            -29.487222797111645,\n",
       "            -28.753169629097478,\n",
       "            -28.033715218847895,\n",
       "            -24.891140687128047,\n",
       "            -22.035313367004242,\n",
       "            -19.446437509968874,\n",
       "            -17.105650159015095,\n",
       "            -13.097418022175589,\n",
       "            -9.87751360697585,\n",
       "            -8.271285066538608,\n",
       "            -6.882596242232013,\n",
       "            -5.689335947887031,\n",
       "            -4.670944779031652,\n",
       "            -3.2940637129497214,\n",
       "            -2.2803839187278245,\n",
       "            -0.9991689115228464,\n",
       "            -0.5457856622504695,\n",
       "            -0.4718884946582056,\n",
       "            -0.618437942024968,\n",
       "            -0.8124539001866694,\n",
       "            -0.9901293462545779,\n",
       "            -1.1838863592789481,\n",
       "            -1.3713766768689948,\n",
       "            -1.5204080192749667,\n",
       "            -1.4720957423786838,\n",
       "            -1.2933610269302744,\n",
       "            -0.9435549200210946,\n",
       "            -0.4674009784367432,\n",
       "            0.22631677596252664,\n",
       "            1.45257804329838,\n",
       "            3.212861824318545,\n",
       "            4.265376624496926,\n",
       "            5.484809779317712,\n",
       "            6.889410819347255,\n",
       "            8.498713469529442,\n",
       "            11.556339258213907,\n",
       "            15.286557214788807,\n",
       "            19.79205379987303,\n",
       "            25.1854726289243,\n",
       "            26.102034731264347,\n",
       "            27.0429908640389,\n",
       "            28.008818176555447,\n",
       "            29.0\n",
       "        ],\n",
       "        \"type\": \"scatter\"\n",
       "    },\n",
       "    {\n",
       "        \"xaxis\": \"x\",\n",
       "        \"colorbar\": {\n",
       "            \"title\": \"\"\n",
       "        },\n",
       "        \"yaxis\": \"y\",\n",
       "        \"x\": [\n",
       "            -2.0,\n",
       "            -1.9609367239208475,\n",
       "            -1.5997403313265088,\n",
       "            -1.3826763547775045,\n",
       "            -1.1991515251369371,\n",
       "            -0.9997921198677943,\n",
       "            -0.8160003818614874,\n",
       "            -0.6189562143740406,\n",
       "            -0.3906612226458709,\n",
       "            -0.18777957555591424,\n",
       "            -0.009870653839119958,\n",
       "            0.18409782662127785,\n",
       "            0.3792191150112484,\n",
       "            0.5949506504976171,\n",
       "            0.8002137629793739,\n",
       "            1.0136397740454022,\n",
       "            1.1932990146673805,\n",
       "            1.4126425839454564,\n",
       "            1.618832008514834,\n",
       "            1.9491634560642397,\n",
       "            2.0\n",
       "        ],\n",
       "        \"showlegend\": true,\n",
       "        \"mode\": \"lines\",\n",
       "        \"name\": \"y2\",\n",
       "        \"zmin\": null,\n",
       "        \"legendgroup\": \"y2\",\n",
       "        \"zmax\": null,\n",
       "        \"line\": {\n",
       "            \"color\": \"rgba(227, 111, 71, 1.000)\",\n",
       "            \"shape\": \"linear\",\n",
       "            \"dash\": \"solid\",\n",
       "            \"width\": 1\n",
       "        },\n",
       "        \"y\": [\n",
       "            0.0,\n",
       "            0.0,\n",
       "            0.0,\n",
       "            0.0,\n",
       "            0.0,\n",
       "            0.0,\n",
       "            0.0,\n",
       "            0.0,\n",
       "            0.0,\n",
       "            0.0,\n",
       "            0.0,\n",
       "            0.0,\n",
       "            0.0,\n",
       "            0.0,\n",
       "            0.0,\n",
       "            0.0,\n",
       "            0.0,\n",
       "            0.0,\n",
       "            0.0,\n",
       "            0.0,\n",
       "            0.0\n",
       "        ],\n",
       "        \"type\": \"scatter\"\n",
       "    }\n",
       "]\n",
       ", {\n",
       "    \"showlegend\": true,\n",
       "    \"xaxis\": {\n",
       "        \"showticklabels\": true,\n",
       "        \"gridwidth\": 0.5,\n",
       "        \"tickvals\": [\n",
       "            -2.0,\n",
       "            -1.0,\n",
       "            0.0,\n",
       "            1.0,\n",
       "            2.0\n",
       "        ],\n",
       "        \"range\": [\n",
       "            -2.12,\n",
       "            2.12\n",
       "        ],\n",
       "        \"domain\": [\n",
       "            0.05100612423447069,\n",
       "            0.9934383202099737\n",
       "        ],\n",
       "        \"mirror\": false,\n",
       "        \"tickangle\": 0,\n",
       "        \"showline\": true,\n",
       "        \"ticktext\": [\n",
       "            \"−2\",\n",
       "            \"−1\",\n",
       "            \"0\",\n",
       "            \"1\",\n",
       "            \"2\"\n",
       "        ],\n",
       "        \"zeroline\": false,\n",
       "        \"tickfont\": {\n",
       "            \"color\": \"rgba(0, 0, 0, 1.000)\",\n",
       "            \"family\": \"sans-serif\",\n",
       "            \"size\": 11\n",
       "        },\n",
       "        \"zerolinecolor\": \"rgba(0, 0, 0, 1.000)\",\n",
       "        \"anchor\": \"y\",\n",
       "        \"visible\": true,\n",
       "        \"ticks\": \"inside\",\n",
       "        \"tickmode\": \"array\",\n",
       "        \"linecolor\": \"rgba(0, 0, 0, 1.000)\",\n",
       "        \"showgrid\": true,\n",
       "        \"title\": \"\",\n",
       "        \"gridcolor\": \"rgba(0, 0, 0, 0.100)\",\n",
       "        \"titlefont\": {\n",
       "            \"color\": \"rgba(0, 0, 0, 1.000)\",\n",
       "            \"family\": \"sans-serif\",\n",
       "            \"size\": 15\n",
       "        },\n",
       "        \"tickcolor\": \"rgb(0, 0, 0)\",\n",
       "        \"type\": \"-\"\n",
       "    },\n",
       "    \"paper_bgcolor\": \"rgba(255, 255, 255, 1.000)\",\n",
       "    \"annotations\": [],\n",
       "    \"height\": 400,\n",
       "    \"margin\": {\n",
       "        \"l\": 0,\n",
       "        \"b\": 20,\n",
       "        \"r\": 0,\n",
       "        \"t\": 20\n",
       "    },\n",
       "    \"plot_bgcolor\": \"rgba(255, 255, 255, 1.000)\",\n",
       "    \"yaxis\": {\n",
       "        \"showticklabels\": true,\n",
       "        \"gridwidth\": 0.5,\n",
       "        \"tickvals\": [\n",
       "            -30.0,\n",
       "            -20.0,\n",
       "            -10.0,\n",
       "            0.0,\n",
       "            10.0,\n",
       "            20.0,\n",
       "            30.0\n",
       "        ],\n",
       "        \"range\": [\n",
       "            -32.8,\n",
       "            30.8\n",
       "        ],\n",
       "        \"domain\": [\n",
       "            0.03762029746281716,\n",
       "            0.9901574803149606\n",
       "        ],\n",
       "        \"mirror\": false,\n",
       "        \"tickangle\": 0,\n",
       "        \"showline\": true,\n",
       "        \"ticktext\": [\n",
       "            \"−30\",\n",
       "            \"−20\",\n",
       "            \"−10\",\n",
       "            \"0\",\n",
       "            \"10\",\n",
       "            \"20\",\n",
       "            \"30\"\n",
       "        ],\n",
       "        \"zeroline\": false,\n",
       "        \"tickfont\": {\n",
       "            \"color\": \"rgba(0, 0, 0, 1.000)\",\n",
       "            \"family\": \"sans-serif\",\n",
       "            \"size\": 11\n",
       "        },\n",
       "        \"zerolinecolor\": \"rgba(0, 0, 0, 1.000)\",\n",
       "        \"anchor\": \"x\",\n",
       "        \"visible\": true,\n",
       "        \"ticks\": \"inside\",\n",
       "        \"tickmode\": \"array\",\n",
       "        \"linecolor\": \"rgba(0, 0, 0, 1.000)\",\n",
       "        \"showgrid\": true,\n",
       "        \"title\": \"\",\n",
       "        \"gridcolor\": \"rgba(0, 0, 0, 0.100)\",\n",
       "        \"titlefont\": {\n",
       "            \"color\": \"rgba(0, 0, 0, 1.000)\",\n",
       "            \"family\": \"sans-serif\",\n",
       "            \"size\": 15\n",
       "        },\n",
       "        \"tickcolor\": \"rgb(0, 0, 0)\",\n",
       "        \"type\": \"-\"\n",
       "    },\n",
       "    \"legend_position\": {\n",
       "        \"yanchor\": \"auto\",\n",
       "        \"xanchor\": \"auto\",\n",
       "        \"bordercolor\": \"rgba(0, 0, 0, 1.000)\",\n",
       "        \"bgcolor\": \"rgba(255, 255, 255, 1.000)\",\n",
       "        \"borderwidth\": 1,\n",
       "        \"tracegroupgap\": 0,\n",
       "        \"y\": 1.0,\n",
       "        \"font\": {\n",
       "            \"color\": \"rgba(0, 0, 0, 1.000)\",\n",
       "            \"family\": \"sans-serif\",\n",
       "            \"size\": 11\n",
       "        },\n",
       "        \"title\": {\n",
       "            \"font\": {\n",
       "                \"color\": \"rgba(0, 0, 0, 1.000)\",\n",
       "                \"family\": \"sans-serif\",\n",
       "                \"size\": 15\n",
       "            },\n",
       "            \"text\": \"\"\n",
       "        },\n",
       "        \"traceorder\": \"normal\",\n",
       "        \"x\": 1.0\n",
       "    },\n",
       "    \"width\": 600\n",
       "}\n",
       ");\n",
       "\n",
       "    });\n",
       "    </script>\n"
      ]
     },
     "execution_count": 2,
     "metadata": {},
     "output_type": "execute_result"
    }
   ],
   "source": [
    "f(x) = x^5 - x - 1\n",
    "plot(f, -2, 2)\n",
    "plot!(zero, -2, 2)"
   ]
  },
  {
   "cell_type": "markdown",
   "metadata": {},
   "source": [
    "From this, we can call the bisection method to identify the value:\n"
   ]
  },
  {
   "cell_type": "code",
   "execution_count": 3,
   "metadata": {},
   "outputs": [
    {
     "data": {
      "text/plain": [
       "1.1673039782614187"
      ]
     },
     "execution_count": 3,
     "metadata": {},
     "output_type": "execute_result"
    }
   ],
   "source": [
    "fzero(f, -2, 2)"
   ]
  },
  {
   "cell_type": "markdown",
   "metadata": {},
   "source": [
    "We've seen the bisection method previously to find a root, but this is somewhat cumbersome to use as it needs a [bracketing](https://en.wikipedia.org/wiki/Bisection_method#The_method) interval to begin. Moreover, bisection can be computationally slow (by comparison).\n"
   ]
  },
  {
   "cell_type": "markdown",
   "metadata": {},
   "source": [
    "Here we discuss Newton's method. Like the bisection method it is an *iterative algorithm*. However instead of identifying a bracketing interval, we only need to identify a reasonable *initial* guess, $x_0$.\n"
   ]
  },
  {
   "cell_type": "markdown",
   "metadata": {},
   "source": [
    "Starting with $x_0$ the algorithm to produce $x_1$ is easy to describe:\n"
   ]
  },
  {
   "cell_type": "markdown",
   "metadata": {},
   "source": [
    "  * form the tangent line at $(x_0, f(x_0))$.\n",
    "  * let $x_1$ be the intersection point of this tangent line with the $x$ axis.\n"
   ]
  },
  {
   "cell_type": "markdown",
   "metadata": {},
   "source": [
    "If we can go from $x_0$ to $x_1$ we can repeat the update step to get $x_2$ and then $x_3$, ...\n"
   ]
  },
  {
   "cell_type": "markdown",
   "metadata": {},
   "source": [
    "Graphically, this figure illustrates the process:\n"
   ]
  },
  {
   "cell_type": "code",
   "execution_count": 4,
   "metadata": {},
   "outputs": [
    {
     "data": {
      "application/vnd.plotly.v1+json": {
       "data": [
        {
         "colorbar": {
          "title": ""
         },
         "legendgroup": "y1",
         "line": {
          "color": "rgba(0, 154, 250, 1.000)",
          "dash": "solid",
          "shape": "linear",
          "width": 3
         },
         "mode": "lines",
         "name": "y1",
         "showlegend": true,
         "type": "scatter",
         "x": [
          0.95,
          0.9534180366569258,
          0.9850227210089305,
          1.0040158189569683,
          1.020074241550518,
          1.0375181895115682,
          1.0535999665871199,
          1.0708413312422715,
          1.0908171430184863,
          1.1085692871388575,
          1.124136317789077,
          1.141108559829362,
          1.1581816725634841,
          1.1770581819185415,
          1.1950187042606952,
          1.2136934802289725,
          1.2294136637833957,
          1.2486062260952275,
          1.266647800745048,
          1.295551802405621,
          1.3
         ],
         "xaxis": "x",
         "y": [
          -1.1762190625000002,
          -1.1656165101119327,
          -1.057699273128725,
          -0.9837748072285943,
          -0.9155915726450703,
          -0.8353130037879055,
          -0.7552889539894123,
          -0.662766854221073,
          -0.5464172141425416,
          -0.4343427878209116,
          -0.32901049373834756,
          -0.20631418601552598,
          -0.07425016379331217,
          0.08232375628917077,
          0.2420822192796046,
          0.419877905879831,
          0.5791881885895342,
          0.7861756440293752,
          0.9938158813091977,
          1.3542889355193246,
          1.4129300000000002
         ],
         "yaxis": "y",
         "zmax": null,
         "zmin": null
        },
        {
         "colorbar": {
          "title": ""
         },
         "legendgroup": "y2",
         "line": {
          "color": "rgba(227, 111, 71, 1.000)",
          "dash": "solid",
          "shape": "linear",
          "width": 1
         },
         "mode": "lines",
         "name": "y2",
         "showlegend": true,
         "type": "scatter",
         "x": [
          0.95,
          0.9534180366569258,
          0.9850227210089305,
          1.0040158189569683,
          1.020074241550518,
          1.0375181895115682,
          1.0535999665871199,
          1.0708413312422715,
          1.0908171430184863,
          1.1085692871388575,
          1.124136317789077,
          1.141108559829362,
          1.1581816725634841,
          1.1770581819185415,
          1.1950187042606952,
          1.2136934802289725,
          1.2294136637833957,
          1.2486062260952275,
          1.266647800745048,
          1.295551802405621,
          1.3
         ],
         "xaxis": "x",
         "y": [
          0,
          0,
          0,
          0,
          0,
          0,
          0,
          0,
          0,
          0,
          0,
          0,
          0,
          0,
          0,
          0,
          0,
          0,
          0,
          0,
          0
         ],
         "yaxis": "y",
         "zmax": null,
         "zmin": null
        },
        {
         "colorbar": {
          "title": ""
         },
         "legendgroup": "y3",
         "line": {
          "color": "rgba(62, 164, 78, 1.000)",
          "dash": "solid",
          "shape": "linear",
          "width": 1
         },
         "mode": "lines",
         "name": "y3",
         "showlegend": true,
         "type": "scatter",
         "x": [
          1,
          1,
          1.25
         ],
         "xaxis": "x",
         "y": [
          0,
          -1,
          0
         ],
         "yaxis": "y",
         "zmax": null,
         "zmin": null
        },
        {
         "colorbar": {
          "title": ""
         },
         "legendgroup": "y4",
         "marker": {
          "color": "rgba(195, 113, 210, 1.000)",
          "line": {
           "color": "rgba(0, 0, 0, 1.000)",
           "width": 1
          },
          "size": 8,
          "symbol": "circle"
         },
         "mode": "markers",
         "name": "y4",
         "showlegend": true,
         "type": "scatter",
         "x": [
          1
         ],
         "xaxis": "x",
         "y": [
          0
         ],
         "yaxis": "y",
         "zmax": null,
         "zmin": null
        },
        {
         "colorbar": {
          "title": ""
         },
         "legendgroup": "y5",
         "line": {
          "color": "rgba(172, 142, 24, 1.000)",
          "dash": "solid",
          "shape": "linear",
          "width": 1
         },
         "mode": "lines",
         "name": "y5",
         "showlegend": true,
         "type": "scatter",
         "x": [
          1.25,
          1.25,
          1.1784593935169048
         ],
         "xaxis": "x",
         "y": [
          0,
          0.8017578125,
          0
         ],
         "yaxis": "y",
         "zmax": null,
         "zmin": null
        },
        {
         "colorbar": {
          "title": ""
         },
         "legendgroup": "y6",
         "marker": {
          "color": "rgba(0, 170, 174, 1.000)",
          "line": {
           "color": "rgba(0, 0, 0, 1.000)",
           "width": 1
          },
          "size": 8,
          "symbol": "circle"
         },
         "mode": "markers",
         "name": "y6",
         "showlegend": true,
         "type": "scatter",
         "x": [
          1.25
         ],
         "xaxis": "x",
         "y": [
          0
         ],
         "yaxis": "y",
         "zmax": null,
         "zmin": null
        },
        {
         "colorbar": {
          "title": ""
         },
         "legendgroup": "y7",
         "line": {
          "color": "rgba(237, 94, 147, 1.000)",
          "dash": "solid",
          "shape": "linear",
          "width": 1
         },
         "mode": "lines",
         "name": "y7",
         "showlegend": true,
         "type": "scatter",
         "x": [
          1.1784593935169048,
          1.1784593935169048,
          1.16753738939611
         ],
         "xaxis": "x",
         "y": [
          0,
          0.09440284131467558,
          0
         ],
         "yaxis": "y",
         "zmax": null,
         "zmin": null
        },
        {
         "colorbar": {
          "title": ""
         },
         "legendgroup": "y8",
         "marker": {
          "color": "rgba(198, 130, 37, 1.000)",
          "line": {
           "color": "rgba(0, 0, 0, 1.000)",
           "width": 1
          },
          "size": 8,
          "symbol": "circle"
         },
         "mode": "markers",
         "name": "y8",
         "showlegend": true,
         "type": "scatter",
         "x": [
          1.1784593935169048
         ],
         "xaxis": "x",
         "y": [
          0
         ],
         "yaxis": "y",
         "zmax": null,
         "zmin": null
        },
        {
         "colorbar": {
          "title": ""
         },
         "legendgroup": "y9",
         "line": {
          "color": "rgba(0, 169, 141, 1.000)",
          "dash": "solid",
          "shape": "linear",
          "width": 1
         },
         "mode": "lines",
         "name": "y9",
         "showlegend": true,
         "type": "scatter",
         "x": [
          1.16753738939611,
          1.16753738939611,
          1.1673040828230083
         ],
         "xaxis": "x",
         "y": [
          0,
          0.001934298548380342,
          0
         ],
         "yaxis": "y",
         "zmax": null,
         "zmin": null
        },
        {
         "colorbar": {
          "title": ""
         },
         "legendgroup": "y10",
         "marker": {
          "color": "rgba(142, 151, 30, 1.000)",
          "line": {
           "color": "rgba(0, 0, 0, 1.000)",
           "width": 1
          },
          "size": 8,
          "symbol": "circle"
         },
         "mode": "markers",
         "name": "y10",
         "showlegend": true,
         "type": "scatter",
         "x": [
          1.16753738939611
         ],
         "xaxis": "x",
         "y": [
          0
         ],
         "yaxis": "y",
         "zmax": null,
         "zmin": null
        },
        {
         "colorbar": {
          "title": ""
         },
         "legendgroup": "y11",
         "line": {
          "color": "rgba(0, 169, 204, 1.000)",
          "dash": "solid",
          "shape": "linear",
          "width": 1
         },
         "mode": "lines",
         "name": "y11",
         "showlegend": true,
         "type": "scatter",
         "x": [
          1.1673040828230083,
          1.1673040828230083,
          1.1673039782614396
         ],
         "xaxis": "x",
         "y": [
          0,
          8.661229708994966e-07,
          0
         ],
         "yaxis": "y",
         "zmax": null,
         "zmin": null
        },
        {
         "colorbar": {
          "title": ""
         },
         "legendgroup": "y12",
         "marker": {
          "color": "rgba(155, 127, 233, 1.000)",
          "line": {
           "color": "rgba(0, 0, 0, 1.000)",
           "width": 1
          },
          "size": 8,
          "symbol": "circle"
         },
         "mode": "markers",
         "name": "y12",
         "showlegend": true,
         "type": "scatter",
         "x": [
          1.1673040828230083
         ],
         "xaxis": "x",
         "y": [
          0
         ],
         "yaxis": "y",
         "zmax": null,
         "zmin": null
        },
        {
         "colorbar": {
          "title": ""
         },
         "legendgroup": "y13",
         "marker": {
          "color": "rgba(97, 141, 246, 1.000)",
          "line": {
           "color": "rgba(0, 0, 0, 1.000)",
           "width": 1
          },
          "size": 8,
          "symbol": "circle"
         },
         "mode": "markers",
         "name": "y13",
         "showlegend": true,
         "type": "scatter",
         "x": [
          1.1673039782614396
         ],
         "xaxis": "x",
         "y": [
          0
         ],
         "yaxis": "y",
         "zmax": null,
         "zmin": null
        }
       ],
       "layout": {
        "annotations": [],
        "height": 400,
        "margin": {
         "b": 20,
         "l": 0,
         "r": 0,
         "t": 20
        },
        "paper_bgcolor": "rgba(255, 255, 255, 1.000)",
        "plot_bgcolor": "rgba(255, 255, 255, 1.000)",
        "showlegend": false,
        "width": 600,
        "xaxis": {
         "anchor": "y",
         "domain": [
          0.0658209390492855,
          0.9934383202099738
         ],
         "gridcolor": "rgba(0, 0, 0, 0.100)",
         "gridwidth": 0.5,
         "linecolor": "rgba(0, 0, 0, 1.000)",
         "mirror": false,
         "range": [
          0.9395,
          1.3105
         ],
         "showgrid": true,
         "showline": true,
         "showticklabels": true,
         "tickangle": 0,
         "tickcolor": "rgb(0, 0, 0)",
         "tickfont": {
          "color": "rgba(0, 0, 0, 1.000)",
          "family": "sans-serif",
          "size": 11
         },
         "tickmode": "array",
         "ticks": "inside",
         "ticktext": [
          "1.0",
          "1.1",
          "1.2",
          "1.3"
         ],
         "tickvals": [
          1,
          1.1,
          1.2000000000000002,
          1.3
         ],
         "title": "",
         "titlefont": {
          "color": "rgba(0, 0, 0, 1.000)",
          "family": "sans-serif",
          "size": 15
         },
         "type": "-",
         "visible": true,
         "zeroline": false,
         "zerolinecolor": "rgba(0, 0, 0, 1.000)"
        },
        "yaxis": {
         "anchor": "x",
         "domain": [
          0.03762029746281716,
          0.9901574803149606
         ],
         "gridcolor": "rgba(0, 0, 0, 0.100)",
         "gridwidth": 0.5,
         "linecolor": "rgba(0, 0, 0, 1.000)",
         "mirror": false,
         "range": [
          -1.2538935343750002,
          1.4906044718750002
         ],
         "showgrid": true,
         "showline": true,
         "showticklabels": true,
         "tickangle": 0,
         "tickcolor": "rgb(0, 0, 0)",
         "tickfont": {
          "color": "rgba(0, 0, 0, 1.000)",
          "family": "sans-serif",
          "size": 11
         },
         "tickmode": "array",
         "ticks": "inside",
         "ticktext": [
          "−1.0",
          "−0.5",
          "0.0",
          "0.5",
          "1.0"
         ],
         "tickvals": [
          -1,
          -0.5,
          0,
          0.5,
          1
         ],
         "title": "",
         "titlefont": {
          "color": "rgba(0, 0, 0, 1.000)",
          "family": "sans-serif",
          "size": 15
         },
         "type": "-",
         "visible": true,
         "zeroline": false,
         "zerolinecolor": "rgba(0, 0, 0, 1.000)"
        }
       }
      },
      "text/html": [
       "    <div id=\"b59fd048-73e6-4cbf-b476-a831e83a69ac\" style=\"width:600px;height:400px;\"></div>\n",
       "    <script>\n",
       "        requirejs.config({\n",
       "        paths: {\n",
       "            Plotly: 'https://cdn.plot.ly/plotly-2.6.3.min'\n",
       "        }\n",
       "    });\n",
       "    require(['Plotly'], function (Plotly) {\n",
       "\n",
       "        Plotly.newPlot('b59fd048-73e6-4cbf-b476-a831e83a69ac', [\n",
       "    {\n",
       "        \"xaxis\": \"x\",\n",
       "        \"colorbar\": {\n",
       "            \"title\": \"\"\n",
       "        },\n",
       "        \"yaxis\": \"y\",\n",
       "        \"x\": [\n",
       "            0.95,\n",
       "            0.9534180366569258,\n",
       "            0.9850227210089305,\n",
       "            1.0040158189569683,\n",
       "            1.020074241550518,\n",
       "            1.0375181895115682,\n",
       "            1.0535999665871199,\n",
       "            1.0708413312422715,\n",
       "            1.0908171430184863,\n",
       "            1.1085692871388575,\n",
       "            1.124136317789077,\n",
       "            1.141108559829362,\n",
       "            1.1581816725634841,\n",
       "            1.1770581819185415,\n",
       "            1.1950187042606952,\n",
       "            1.2136934802289725,\n",
       "            1.2294136637833957,\n",
       "            1.2486062260952275,\n",
       "            1.266647800745048,\n",
       "            1.295551802405621,\n",
       "            1.3\n",
       "        ],\n",
       "        \"showlegend\": true,\n",
       "        \"mode\": \"lines\",\n",
       "        \"name\": \"y1\",\n",
       "        \"zmin\": null,\n",
       "        \"legendgroup\": \"y1\",\n",
       "        \"zmax\": null,\n",
       "        \"line\": {\n",
       "            \"color\": \"rgba(0, 154, 250, 1.000)\",\n",
       "            \"shape\": \"linear\",\n",
       "            \"dash\": \"solid\",\n",
       "            \"width\": 3\n",
       "        },\n",
       "        \"y\": [\n",
       "            -1.1762190625000002,\n",
       "            -1.1656165101119327,\n",
       "            -1.057699273128725,\n",
       "            -0.9837748072285943,\n",
       "            -0.9155915726450703,\n",
       "            -0.8353130037879055,\n",
       "            -0.7552889539894123,\n",
       "            -0.662766854221073,\n",
       "            -0.5464172141425416,\n",
       "            -0.4343427878209116,\n",
       "            -0.32901049373834756,\n",
       "            -0.20631418601552598,\n",
       "            -0.07425016379331217,\n",
       "            0.08232375628917077,\n",
       "            0.2420822192796046,\n",
       "            0.419877905879831,\n",
       "            0.5791881885895342,\n",
       "            0.7861756440293752,\n",
       "            0.9938158813091977,\n",
       "            1.3542889355193246,\n",
       "            1.4129300000000002\n",
       "        ],\n",
       "        \"type\": \"scatter\"\n",
       "    },\n",
       "    {\n",
       "        \"xaxis\": \"x\",\n",
       "        \"colorbar\": {\n",
       "            \"title\": \"\"\n",
       "        },\n",
       "        \"yaxis\": \"y\",\n",
       "        \"x\": [\n",
       "            0.95,\n",
       "            0.9534180366569258,\n",
       "            0.9850227210089305,\n",
       "            1.0040158189569683,\n",
       "            1.020074241550518,\n",
       "            1.0375181895115682,\n",
       "            1.0535999665871199,\n",
       "            1.0708413312422715,\n",
       "            1.0908171430184863,\n",
       "            1.1085692871388575,\n",
       "            1.124136317789077,\n",
       "            1.141108559829362,\n",
       "            1.1581816725634841,\n",
       "            1.1770581819185415,\n",
       "            1.1950187042606952,\n",
       "            1.2136934802289725,\n",
       "            1.2294136637833957,\n",
       "            1.2486062260952275,\n",
       "            1.266647800745048,\n",
       "            1.295551802405621,\n",
       "            1.3\n",
       "        ],\n",
       "        \"showlegend\": true,\n",
       "        \"mode\": \"lines\",\n",
       "        \"name\": \"y2\",\n",
       "        \"zmin\": null,\n",
       "        \"legendgroup\": \"y2\",\n",
       "        \"zmax\": null,\n",
       "        \"line\": {\n",
       "            \"color\": \"rgba(227, 111, 71, 1.000)\",\n",
       "            \"shape\": \"linear\",\n",
       "            \"dash\": \"solid\",\n",
       "            \"width\": 1\n",
       "        },\n",
       "        \"y\": [\n",
       "            0.0,\n",
       "            0.0,\n",
       "            0.0,\n",
       "            0.0,\n",
       "            0.0,\n",
       "            0.0,\n",
       "            0.0,\n",
       "            0.0,\n",
       "            0.0,\n",
       "            0.0,\n",
       "            0.0,\n",
       "            0.0,\n",
       "            0.0,\n",
       "            0.0,\n",
       "            0.0,\n",
       "            0.0,\n",
       "            0.0,\n",
       "            0.0,\n",
       "            0.0,\n",
       "            0.0,\n",
       "            0.0\n",
       "        ],\n",
       "        \"type\": \"scatter\"\n",
       "    },\n",
       "    {\n",
       "        \"xaxis\": \"x\",\n",
       "        \"colorbar\": {\n",
       "            \"title\": \"\"\n",
       "        },\n",
       "        \"yaxis\": \"y\",\n",
       "        \"x\": [\n",
       "            1.0,\n",
       "            1.0,\n",
       "            1.25\n",
       "        ],\n",
       "        \"showlegend\": true,\n",
       "        \"mode\": \"lines\",\n",
       "        \"name\": \"y3\",\n",
       "        \"zmin\": null,\n",
       "        \"legendgroup\": \"y3\",\n",
       "        \"zmax\": null,\n",
       "        \"line\": {\n",
       "            \"color\": \"rgba(62, 164, 78, 1.000)\",\n",
       "            \"shape\": \"linear\",\n",
       "            \"dash\": \"solid\",\n",
       "            \"width\": 1\n",
       "        },\n",
       "        \"y\": [\n",
       "            0.0,\n",
       "            -1.0,\n",
       "            0.0\n",
       "        ],\n",
       "        \"type\": \"scatter\"\n",
       "    },\n",
       "    {\n",
       "        \"xaxis\": \"x\",\n",
       "        \"colorbar\": {\n",
       "            \"title\": \"\"\n",
       "        },\n",
       "        \"yaxis\": \"y\",\n",
       "        \"x\": [\n",
       "            1.0\n",
       "        ],\n",
       "        \"showlegend\": true,\n",
       "        \"mode\": \"markers\",\n",
       "        \"name\": \"y4\",\n",
       "        \"zmin\": null,\n",
       "        \"legendgroup\": \"y4\",\n",
       "        \"marker\": {\n",
       "            \"symbol\": \"circle\",\n",
       "            \"color\": \"rgba(195, 113, 210, 1.000)\",\n",
       "            \"line\": {\n",
       "                \"color\": \"rgba(0, 0, 0, 1.000)\",\n",
       "                \"width\": 1\n",
       "            },\n",
       "            \"size\": 8\n",
       "        },\n",
       "        \"zmax\": null,\n",
       "        \"y\": [\n",
       "            0.0\n",
       "        ],\n",
       "        \"type\": \"scatter\"\n",
       "    },\n",
       "    {\n",
       "        \"xaxis\": \"x\",\n",
       "        \"colorbar\": {\n",
       "            \"title\": \"\"\n",
       "        },\n",
       "        \"yaxis\": \"y\",\n",
       "        \"x\": [\n",
       "            1.25,\n",
       "            1.25,\n",
       "            1.1784593935169048\n",
       "        ],\n",
       "        \"showlegend\": true,\n",
       "        \"mode\": \"lines\",\n",
       "        \"name\": \"y5\",\n",
       "        \"zmin\": null,\n",
       "        \"legendgroup\": \"y5\",\n",
       "        \"zmax\": null,\n",
       "        \"line\": {\n",
       "            \"color\": \"rgba(172, 142, 24, 1.000)\",\n",
       "            \"shape\": \"linear\",\n",
       "            \"dash\": \"solid\",\n",
       "            \"width\": 1\n",
       "        },\n",
       "        \"y\": [\n",
       "            0.0,\n",
       "            0.8017578125,\n",
       "            0.0\n",
       "        ],\n",
       "        \"type\": \"scatter\"\n",
       "    },\n",
       "    {\n",
       "        \"xaxis\": \"x\",\n",
       "        \"colorbar\": {\n",
       "            \"title\": \"\"\n",
       "        },\n",
       "        \"yaxis\": \"y\",\n",
       "        \"x\": [\n",
       "            1.25\n",
       "        ],\n",
       "        \"showlegend\": true,\n",
       "        \"mode\": \"markers\",\n",
       "        \"name\": \"y6\",\n",
       "        \"zmin\": null,\n",
       "        \"legendgroup\": \"y6\",\n",
       "        \"marker\": {\n",
       "            \"symbol\": \"circle\",\n",
       "            \"color\": \"rgba(0, 170, 174, 1.000)\",\n",
       "            \"line\": {\n",
       "                \"color\": \"rgba(0, 0, 0, 1.000)\",\n",
       "                \"width\": 1\n",
       "            },\n",
       "            \"size\": 8\n",
       "        },\n",
       "        \"zmax\": null,\n",
       "        \"y\": [\n",
       "            0.0\n",
       "        ],\n",
       "        \"type\": \"scatter\"\n",
       "    },\n",
       "    {\n",
       "        \"xaxis\": \"x\",\n",
       "        \"colorbar\": {\n",
       "            \"title\": \"\"\n",
       "        },\n",
       "        \"yaxis\": \"y\",\n",
       "        \"x\": [\n",
       "            1.1784593935169048,\n",
       "            1.1784593935169048,\n",
       "            1.16753738939611\n",
       "        ],\n",
       "        \"showlegend\": true,\n",
       "        \"mode\": \"lines\",\n",
       "        \"name\": \"y7\",\n",
       "        \"zmin\": null,\n",
       "        \"legendgroup\": \"y7\",\n",
       "        \"zmax\": null,\n",
       "        \"line\": {\n",
       "            \"color\": \"rgba(237, 94, 147, 1.000)\",\n",
       "            \"shape\": \"linear\",\n",
       "            \"dash\": \"solid\",\n",
       "            \"width\": 1\n",
       "        },\n",
       "        \"y\": [\n",
       "            0.0,\n",
       "            0.09440284131467558,\n",
       "            0.0\n",
       "        ],\n",
       "        \"type\": \"scatter\"\n",
       "    },\n",
       "    {\n",
       "        \"xaxis\": \"x\",\n",
       "        \"colorbar\": {\n",
       "            \"title\": \"\"\n",
       "        },\n",
       "        \"yaxis\": \"y\",\n",
       "        \"x\": [\n",
       "            1.1784593935169048\n",
       "        ],\n",
       "        \"showlegend\": true,\n",
       "        \"mode\": \"markers\",\n",
       "        \"name\": \"y8\",\n",
       "        \"zmin\": null,\n",
       "        \"legendgroup\": \"y8\",\n",
       "        \"marker\": {\n",
       "            \"symbol\": \"circle\",\n",
       "            \"color\": \"rgba(198, 130, 37, 1.000)\",\n",
       "            \"line\": {\n",
       "                \"color\": \"rgba(0, 0, 0, 1.000)\",\n",
       "                \"width\": 1\n",
       "            },\n",
       "            \"size\": 8\n",
       "        },\n",
       "        \"zmax\": null,\n",
       "        \"y\": [\n",
       "            0.0\n",
       "        ],\n",
       "        \"type\": \"scatter\"\n",
       "    },\n",
       "    {\n",
       "        \"xaxis\": \"x\",\n",
       "        \"colorbar\": {\n",
       "            \"title\": \"\"\n",
       "        },\n",
       "        \"yaxis\": \"y\",\n",
       "        \"x\": [\n",
       "            1.16753738939611,\n",
       "            1.16753738939611,\n",
       "            1.1673040828230083\n",
       "        ],\n",
       "        \"showlegend\": true,\n",
       "        \"mode\": \"lines\",\n",
       "        \"name\": \"y9\",\n",
       "        \"zmin\": null,\n",
       "        \"legendgroup\": \"y9\",\n",
       "        \"zmax\": null,\n",
       "        \"line\": {\n",
       "            \"color\": \"rgba(0, 169, 141, 1.000)\",\n",
       "            \"shape\": \"linear\",\n",
       "            \"dash\": \"solid\",\n",
       "            \"width\": 1\n",
       "        },\n",
       "        \"y\": [\n",
       "            0.0,\n",
       "            0.001934298548380342,\n",
       "            0.0\n",
       "        ],\n",
       "        \"type\": \"scatter\"\n",
       "    },\n",
       "    {\n",
       "        \"xaxis\": \"x\",\n",
       "        \"colorbar\": {\n",
       "            \"title\": \"\"\n",
       "        },\n",
       "        \"yaxis\": \"y\",\n",
       "        \"x\": [\n",
       "            1.16753738939611\n",
       "        ],\n",
       "        \"showlegend\": true,\n",
       "        \"mode\": \"markers\",\n",
       "        \"name\": \"y10\",\n",
       "        \"zmin\": null,\n",
       "        \"legendgroup\": \"y10\",\n",
       "        \"marker\": {\n",
       "            \"symbol\": \"circle\",\n",
       "            \"color\": \"rgba(142, 151, 30, 1.000)\",\n",
       "            \"line\": {\n",
       "                \"color\": \"rgba(0, 0, 0, 1.000)\",\n",
       "                \"width\": 1\n",
       "            },\n",
       "            \"size\": 8\n",
       "        },\n",
       "        \"zmax\": null,\n",
       "        \"y\": [\n",
       "            0.0\n",
       "        ],\n",
       "        \"type\": \"scatter\"\n",
       "    },\n",
       "    {\n",
       "        \"xaxis\": \"x\",\n",
       "        \"colorbar\": {\n",
       "            \"title\": \"\"\n",
       "        },\n",
       "        \"yaxis\": \"y\",\n",
       "        \"x\": [\n",
       "            1.1673040828230083,\n",
       "            1.1673040828230083,\n",
       "            1.1673039782614396\n",
       "        ],\n",
       "        \"showlegend\": true,\n",
       "        \"mode\": \"lines\",\n",
       "        \"name\": \"y11\",\n",
       "        \"zmin\": null,\n",
       "        \"legendgroup\": \"y11\",\n",
       "        \"zmax\": null,\n",
       "        \"line\": {\n",
       "            \"color\": \"rgba(0, 169, 204, 1.000)\",\n",
       "            \"shape\": \"linear\",\n",
       "            \"dash\": \"solid\",\n",
       "            \"width\": 1\n",
       "        },\n",
       "        \"y\": [\n",
       "            0.0,\n",
       "            8.661229708994966e-7,\n",
       "            0.0\n",
       "        ],\n",
       "        \"type\": \"scatter\"\n",
       "    },\n",
       "    {\n",
       "        \"xaxis\": \"x\",\n",
       "        \"colorbar\": {\n",
       "            \"title\": \"\"\n",
       "        },\n",
       "        \"yaxis\": \"y\",\n",
       "        \"x\": [\n",
       "            1.1673040828230083\n",
       "        ],\n",
       "        \"showlegend\": true,\n",
       "        \"mode\": \"markers\",\n",
       "        \"name\": \"y12\",\n",
       "        \"zmin\": null,\n",
       "        \"legendgroup\": \"y12\",\n",
       "        \"marker\": {\n",
       "            \"symbol\": \"circle\",\n",
       "            \"color\": \"rgba(155, 127, 233, 1.000)\",\n",
       "            \"line\": {\n",
       "                \"color\": \"rgba(0, 0, 0, 1.000)\",\n",
       "                \"width\": 1\n",
       "            },\n",
       "            \"size\": 8\n",
       "        },\n",
       "        \"zmax\": null,\n",
       "        \"y\": [\n",
       "            0.0\n",
       "        ],\n",
       "        \"type\": \"scatter\"\n",
       "    },\n",
       "    {\n",
       "        \"xaxis\": \"x\",\n",
       "        \"colorbar\": {\n",
       "            \"title\": \"\"\n",
       "        },\n",
       "        \"yaxis\": \"y\",\n",
       "        \"x\": [\n",
       "            1.1673039782614396\n",
       "        ],\n",
       "        \"showlegend\": true,\n",
       "        \"mode\": \"markers\",\n",
       "        \"name\": \"y13\",\n",
       "        \"zmin\": null,\n",
       "        \"legendgroup\": \"y13\",\n",
       "        \"marker\": {\n",
       "            \"symbol\": \"circle\",\n",
       "            \"color\": \"rgba(97, 141, 246, 1.000)\",\n",
       "            \"line\": {\n",
       "                \"color\": \"rgba(0, 0, 0, 1.000)\",\n",
       "                \"width\": 1\n",
       "            },\n",
       "            \"size\": 8\n",
       "        },\n",
       "        \"zmax\": null,\n",
       "        \"y\": [\n",
       "            0.0\n",
       "        ],\n",
       "        \"type\": \"scatter\"\n",
       "    }\n",
       "]\n",
       ", {\n",
       "    \"showlegend\": false,\n",
       "    \"xaxis\": {\n",
       "        \"showticklabels\": true,\n",
       "        \"gridwidth\": 0.5,\n",
       "        \"tickvals\": [\n",
       "            1.0,\n",
       "            1.1,\n",
       "            1.2000000000000002,\n",
       "            1.3\n",
       "        ],\n",
       "        \"range\": [\n",
       "            0.9395,\n",
       "            1.3105\n",
       "        ],\n",
       "        \"domain\": [\n",
       "            0.0658209390492855,\n",
       "            0.9934383202099738\n",
       "        ],\n",
       "        \"mirror\": false,\n",
       "        \"tickangle\": 0,\n",
       "        \"showline\": true,\n",
       "        \"ticktext\": [\n",
       "            \"1.0\",\n",
       "            \"1.1\",\n",
       "            \"1.2\",\n",
       "            \"1.3\"\n",
       "        ],\n",
       "        \"zeroline\": false,\n",
       "        \"tickfont\": {\n",
       "            \"color\": \"rgba(0, 0, 0, 1.000)\",\n",
       "            \"family\": \"sans-serif\",\n",
       "            \"size\": 11\n",
       "        },\n",
       "        \"zerolinecolor\": \"rgba(0, 0, 0, 1.000)\",\n",
       "        \"anchor\": \"y\",\n",
       "        \"visible\": true,\n",
       "        \"ticks\": \"inside\",\n",
       "        \"tickmode\": \"array\",\n",
       "        \"linecolor\": \"rgba(0, 0, 0, 1.000)\",\n",
       "        \"showgrid\": true,\n",
       "        \"title\": \"\",\n",
       "        \"gridcolor\": \"rgba(0, 0, 0, 0.100)\",\n",
       "        \"titlefont\": {\n",
       "            \"color\": \"rgba(0, 0, 0, 1.000)\",\n",
       "            \"family\": \"sans-serif\",\n",
       "            \"size\": 15\n",
       "        },\n",
       "        \"tickcolor\": \"rgb(0, 0, 0)\",\n",
       "        \"type\": \"-\"\n",
       "    },\n",
       "    \"paper_bgcolor\": \"rgba(255, 255, 255, 1.000)\",\n",
       "    \"annotations\": [],\n",
       "    \"height\": 400,\n",
       "    \"margin\": {\n",
       "        \"l\": 0,\n",
       "        \"b\": 20,\n",
       "        \"r\": 0,\n",
       "        \"t\": 20\n",
       "    },\n",
       "    \"plot_bgcolor\": \"rgba(255, 255, 255, 1.000)\",\n",
       "    \"yaxis\": {\n",
       "        \"showticklabels\": true,\n",
       "        \"gridwidth\": 0.5,\n",
       "        \"tickvals\": [\n",
       "            -1.0,\n",
       "            -0.5,\n",
       "            0.0,\n",
       "            0.5,\n",
       "            1.0\n",
       "        ],\n",
       "        \"range\": [\n",
       "            -1.2538935343750002,\n",
       "            1.4906044718750002\n",
       "        ],\n",
       "        \"domain\": [\n",
       "            0.03762029746281716,\n",
       "            0.9901574803149606\n",
       "        ],\n",
       "        \"mirror\": false,\n",
       "        \"tickangle\": 0,\n",
       "        \"showline\": true,\n",
       "        \"ticktext\": [\n",
       "            \"−1.0\",\n",
       "            \"−0.5\",\n",
       "            \"0.0\",\n",
       "            \"0.5\",\n",
       "            \"1.0\"\n",
       "        ],\n",
       "        \"zeroline\": false,\n",
       "        \"tickfont\": {\n",
       "            \"color\": \"rgba(0, 0, 0, 1.000)\",\n",
       "            \"family\": \"sans-serif\",\n",
       "            \"size\": 11\n",
       "        },\n",
       "        \"zerolinecolor\": \"rgba(0, 0, 0, 1.000)\",\n",
       "        \"anchor\": \"x\",\n",
       "        \"visible\": true,\n",
       "        \"ticks\": \"inside\",\n",
       "        \"tickmode\": \"array\",\n",
       "        \"linecolor\": \"rgba(0, 0, 0, 1.000)\",\n",
       "        \"showgrid\": true,\n",
       "        \"title\": \"\",\n",
       "        \"gridcolor\": \"rgba(0, 0, 0, 0.100)\",\n",
       "        \"titlefont\": {\n",
       "            \"color\": \"rgba(0, 0, 0, 1.000)\",\n",
       "            \"family\": \"sans-serif\",\n",
       "            \"size\": 15\n",
       "        },\n",
       "        \"tickcolor\": \"rgb(0, 0, 0)\",\n",
       "        \"type\": \"-\"\n",
       "    },\n",
       "    \"width\": 600\n",
       "}\n",
       ");\n",
       "\n",
       "    });\n",
       "    </script>\n"
      ]
     },
     "execution_count": 4,
     "metadata": {},
     "output_type": "execute_result"
    }
   ],
   "source": [
    "f(x) = x^5 - x - 1\n",
    "newton_vis(f, 1, 0.95, 1.3)"
   ]
  },
  {
   "cell_type": "markdown",
   "metadata": {},
   "source": [
    "In the figure, the sequence of guesses can be seen, basically $1$, $1.25$, $1.178\\dots$, $1.167\\dots$, ...\n"
   ]
  },
  {
   "cell_type": "markdown",
   "metadata": {},
   "source": [
    "To find these numerically, we first need an algebraic representation. For this problem, we can describe the tangent line's slope by *either* $f'(x_0)$ *or* by using \"rise over run\":\n"
   ]
  },
  {
   "cell_type": "markdown",
   "metadata": {},
   "source": [
    "$$ f'(x_0) = \\frac{f(x_0) - 0}{x_0 - x_1} $$\n"
   ]
  },
  {
   "cell_type": "markdown",
   "metadata": {},
   "source": [
    "Solving for $x_0$, this yields the update formula:\n"
   ]
  },
  {
   "cell_type": "markdown",
   "metadata": {},
   "source": [
    "$$ x_1 = x_0 - f(x_0) / f'(x_0). $$\n"
   ]
  },
  {
   "cell_type": "markdown",
   "metadata": {},
   "source": [
    "That is, the new guess shifts the old guess by an increment $f(x_0)/f'(x_0)$.\n"
   ]
  },
  {
   "cell_type": "markdown",
   "metadata": {},
   "source": [
    "In `Julia`, we can do one step with:\n"
   ]
  },
  {
   "cell_type": "code",
   "execution_count": 5,
   "metadata": {},
   "outputs": [
    {
     "data": {
      "text/plain": [
       "1.25"
      ]
     },
     "execution_count": 5,
     "metadata": {},
     "output_type": "execute_result"
    }
   ],
   "source": [
    "f(x) = x^5 - x - 1\n",
    "x = 1\n",
    "x = x - f(x) / f'(x)"
   ]
  },
  {
   "cell_type": "markdown",
   "metadata": {},
   "source": [
    "(We don't use indexing, but rather update our binding for the `x` variable.)\n"
   ]
  },
  {
   "cell_type": "markdown",
   "metadata": {},
   "source": [
    "Is `x` close to being the zero? We don't know the actual zero - we are trying to approximate it - but we do know the function's value at the actual zero. For this new guess the function value is\n"
   ]
  },
  {
   "cell_type": "code",
   "execution_count": 6,
   "metadata": {},
   "outputs": [
    {
     "data": {
      "text/plain": [
       "0.8017578125"
      ]
     },
     "execution_count": 6,
     "metadata": {},
     "output_type": "execute_result"
    }
   ],
   "source": [
    "f(x)"
   ]
  },
  {
   "cell_type": "markdown",
   "metadata": {},
   "source": [
    "This is much closer to $0$ than $f(1)$, the value at our initial guess, but not nearly as close as we can get using Newton's method. We just need to **iterate** - run a few more steps.\n"
   ]
  },
  {
   "cell_type": "markdown",
   "metadata": {},
   "source": [
    "We do another step just by running the last line. For example, we run 5 more steps by copying and pasting the same expression:\n"
   ]
  },
  {
   "cell_type": "code",
   "execution_count": 7,
   "metadata": {},
   "outputs": [
    {
     "data": {
      "text/plain": [
       "1.1673039782614187"
      ]
     },
     "execution_count": 7,
     "metadata": {},
     "output_type": "execute_result"
    }
   ],
   "source": [
    "x = x - f(x) / f'(x)\n",
    "x = x - f(x) / f'(x)\n",
    "x = x - f(x) / f'(x)\n",
    "x = x - f(x) / f'(x)\n",
    "x = x - f(x) / f'(x)"
   ]
  },
  {
   "cell_type": "markdown",
   "metadata": {},
   "source": [
    "The value of `x` updates. But is it getting closer to a *zero*? If so, then $f(x)$ should be close to zero. We can see both values with:\n"
   ]
  },
  {
   "cell_type": "code",
   "execution_count": 8,
   "metadata": {},
   "outputs": [
    {
     "data": {
      "text/plain": [
       "(1.1673039782614187, 6.661338147750939e-16)"
      ]
     },
     "execution_count": 8,
     "metadata": {},
     "output_type": "execute_result"
    }
   ],
   "source": [
    "x, f(x)"
   ]
  },
  {
   "cell_type": "markdown",
   "metadata": {},
   "source": [
    "This shows $f(x)$ is not exactly $0.0$ but it is as close as we can get. Repeating the algorithm does not change the value of `x`. (On a computer, floating point issues creep in when values are close to 0, and these prevent values being mathematically exact.) As we can't improve, we stop. Our value of `x` is an *approximate* zero and `f(x)` is within machine tolerance of being `0`.\n"
   ]
  },
  {
   "cell_type": "markdown",
   "metadata": {},
   "source": [
    "How do we know how to stop? When the algorithm works, we will stop when the `x` value *basically* stops updating, as `f(x)` is basically `0`. However, the algorithm need not work, so any implementation must keep track of how many steps are taken and stop when this gets out of hand.\n"
   ]
  },
  {
   "cell_type": "markdown",
   "metadata": {},
   "source": [
    "For convenience, the `newton` function in  the `MTH229` package (using the `Roots` package) will iterate until convergence. If we pass in the optional argument `verbose=true` we will see the sequence of steps.\n"
   ]
  },
  {
   "cell_type": "markdown",
   "metadata": {},
   "source": [
    "For example, for $f(x) = x^3 - 2x - 5$, a function that Newton himself considered, a solution near $2$, is found with:\n"
   ]
  },
  {
   "cell_type": "code",
   "execution_count": 9,
   "metadata": {},
   "outputs": [
    {
     "data": {
      "text/plain": [
       "2.0945514815423265"
      ]
     },
     "execution_count": 9,
     "metadata": {},
     "output_type": "execute_result"
    }
   ],
   "source": [
    "x = 2\n",
    "f(x) = x^3 - 2x -5\n",
    "xstar = newton(f, 2)"
   ]
  },
  {
   "cell_type": "markdown",
   "metadata": {},
   "source": [
    "We can see the approximate zero and the function value, as follows:\n"
   ]
  },
  {
   "cell_type": "code",
   "execution_count": 10,
   "metadata": {},
   "outputs": [
    {
     "data": {
      "text/plain": [
       "(2.0945514815423265, -8.881784197001252e-16)"
      ]
     },
     "execution_count": 10,
     "metadata": {},
     "output_type": "execute_result"
    }
   ],
   "source": [
    "xstar, f(xstar)"
   ]
  },
  {
   "cell_type": "markdown",
   "metadata": {},
   "source": [
    "---\n"
   ]
  },
  {
   "cell_type": "markdown",
   "metadata": {
    "internals": {
     "slide_type": "subslide"
    },
    "slide_helper": "slide_end",
    "slideshow": {
     "slide_type": "subslide"
    }
   },
   "source": [
    "### Using fzero from the Roots package\n"
   ]
  },
  {
   "cell_type": "markdown",
   "metadata": {},
   "source": [
    "As mentioned, the `newton` function in the `Roots` package implements Newton's method.  The `Roots` package also provides the `fzero` function for finding roots. (also known as `find_zero`.)  We have seen it used with a bracketing interval, but it also provides a solution when just given an initial guess - like Newton's method:\n"
   ]
  },
  {
   "cell_type": "code",
   "execution_count": 11,
   "metadata": {},
   "outputs": [
    {
     "data": {
      "text/plain": [
       "3.141592653589793"
      ]
     },
     "execution_count": 11,
     "metadata": {},
     "output_type": "execute_result"
    }
   ],
   "source": [
    "fzero(sin, 3)   # start with initial guess of 3, returns 3.141592653589793"
   ]
  },
  {
   "cell_type": "markdown",
   "metadata": {},
   "source": [
    "The utility of this function is that it does not require a derivative to be taken and it is a little less sensitive than Newton's method to the initial guess. The use of `fzero` is recommended.\n"
   ]
  },
  {
   "cell_type": "markdown",
   "metadata": {
    "internals": {
     "slide_type": "subslide"
    },
    "slide_helper": "slide_end",
    "slideshow": {
     "slide_type": "subslide"
    }
   },
   "source": [
    "### When Newton's method fails\n"
   ]
  },
  {
   "cell_type": "markdown",
   "metadata": {},
   "source": [
    "The error in the $n$th step using Newton's method at a simple zero follows a formula: $|e_{n+1}| \\leq (1/2) |f''(a)/f'(b)| \\cdot |e_n|^2$, for some $a$ and $b$. Generally this ensures that the error at step $n+1$ is smaller than the error at step $n$ squared. But this can fail due to various cases:\n"
   ]
  },
  {
   "cell_type": "markdown",
   "metadata": {},
   "source": [
    "  * the initial guess is not close to the zero\n",
    "  * the derivative, $|f'(x)|$, is too small\n",
    "  * the second derivative, $|f''(x)|$, is too big, or possibly undefined.\n"
   ]
  },
  {
   "cell_type": "markdown",
   "metadata": {
    "internals": {
     "slide_type": "subslide"
    },
    "slide_helper": "slide_end",
    "slideshow": {
     "slide_type": "subslide"
    }
   },
   "source": [
    "### Quadratic convergence\n"
   ]
  },
  {
   "cell_type": "markdown",
   "metadata": {},
   "source": [
    "When Newton's method converges to a *simple zero* it is said to have *quadratic convergence*. A simple zero is one with multiplicity 1 and quadratic convergence says basically that the error at the $i+1$st step is like the error for $i$th step squared. In particular, if the error is like $10^{-3}$ on one step, it will be like $10^{-6}$, then $10^{-12}$ then $10^{-24}$ on subsequent steps. (Which is typically beyond the limit of a floating point approximation.) This is why one can *usually* take just 5, or so, steps to get to an answer.\n"
   ]
  },
  {
   "cell_type": "markdown",
   "metadata": {},
   "source": [
    "Not so for multiple roots and some simple roots.\n"
   ]
  },
  {
   "cell_type": "markdown",
   "metadata": {},
   "source": [
    "---\n"
   ]
  },
  {
   "cell_type": "code",
   "execution_count": null,
   "metadata": {},
   "outputs": [],
   "source": []
  }
 ],
 "metadata": {
  "kernelspec": {
   "display_name": "Julia 1.7.2",
   "language": "julia",
   "name": "julia-1.7"
  },
  "language_info": {
   "file_extension": ".jl",
   "mimetype": "application/julia",
   "name": "julia",
   "version": "1.7.3"
  }
 },
 "nbformat": 4,
 "nbformat_minor": 2
}
