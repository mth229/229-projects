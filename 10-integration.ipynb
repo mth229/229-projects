{
  "cells": [
    {
      "cell_type": "markdown",
      "metadata": {},
      "source": [
        "# \n",
        "\n",
        "# Numeric integration with Julia\n",
        "\n",
        "To get started, we load the `MTH229` package:"
      ],
      "id": "166ac118-119b-46f7-b9c4-fe1046bd2bf4"
    },
    {
      "cell_type": "code",
      "execution_count": 0,
      "metadata": {},
      "outputs": [],
      "source": [
        "using MTH229\n",
        "using Plots\n",
        "plotly()"
      ],
      "id": "2"
    },
    {
      "cell_type": "markdown",
      "metadata": {},
      "source": [
        "### Quick background\n",
        "\n",
        "Read more about this material here:\n",
        "[integration](http://mth229.github.io/integration.html).\n",
        "\n",
        "In many cases the task of evaluating a definite integral is made easy by\n",
        "the fundamental theorem of calculus, one part of which states that for a\n",
        "continuous function $f$ with (any) antiderivative, $F$, the definite\n",
        "integral can be computed through:\n",
        "\n",
        "$$\n",
        "\\int_a^b f(x) dx = F(b) - F(a).\n",
        "$$\n",
        "\n",
        "That is, the definite integral is found by evaluating a related function\n",
        "at the endpoints, $a$ and $b$.\n",
        "\n",
        "The `SymPy` package can compute many antiderivatives using a version of\n",
        "the [Risch algorithm](http://en.wikipedia.org/wiki/Risch_algorithm) that\n",
        "works for [elementary\n",
        "functions](http://en.wikipedia.org/wiki/Elementary_function). `SymPy`’s\n",
        "`integrate` function can be used to find an indefinite integral:"
      ],
      "id": "697666b8-235f-4296-b816-d07d72473c24"
    },
    {
      "cell_type": "code",
      "execution_count": 1,
      "metadata": {},
      "outputs": [
        {
          "output_type": "display_data",
          "metadata": {},
          "data": {
            "text/plain": [
              " 3\n",
              "x \n",
              "──\n",
              "3 "
            ]
          }
        }
      ],
      "source": [
        "f(x) = x^2\n",
        "@syms x\n",
        "integrate(f(x), x)"
      ],
      "id": "6"
    },
    {
      "cell_type": "markdown",
      "metadata": {},
      "source": [
        "Or a definite integral by passing in values `a` and `b` through the\n",
        "grouping `(x,a,b)`:"
      ],
      "id": "c5519979-0b60-49d3-b37c-8a13dcc1e4ed"
    },
    {
      "cell_type": "code",
      "execution_count": 1,
      "metadata": {},
      "outputs": [
        {
          "output_type": "display_data",
          "metadata": {},
          "data": {
            "text/plain": [
              "1/3"
            ]
          }
        }
      ],
      "source": [
        "integrate(f(x), (x, 0, 1))      # returns a \"symbolic\" number"
      ],
      "id": "8"
    },
    {
      "cell_type": "markdown",
      "metadata": {},
      "source": [
        "However, this only works *if* there is a known antiderivative\n",
        "$F(x)$—which is not always the case. If not, what to do?\n",
        "\n",
        "In this case, we can appeal to the *definition* of the definite\n",
        "integral. For continuous non-negative $f(x)$, the definite integral is\n",
        "the area under the graph of $f$ over the interval $[a,b]$. For possibly\n",
        "negative functions, the indefinite integral is found by the *signed*\n",
        "area under $f$. This area can be directly *approximated* using Riemann\n",
        "sums, or some other approximation scheme.\n",
        "\n",
        "The Riemann approximation for a definite integral uses approximating\n",
        "rectangles. The following pattern will compute a Riemann sum with\n",
        "equal-sized partitions using right-hand endpoints:"
      ],
      "id": "a1742c2f-fa0c-4e2a-8cd4-713263cf4d05"
    },
    {
      "cell_type": "code",
      "execution_count": 1,
      "metadata": {},
      "outputs": [
        {
          "output_type": "display_data",
          "metadata": {},
          "data": {
            "text/plain": [
              "0.44000000000000006"
            ]
          }
        }
      ],
      "source": [
        "f(x) = x^2\n",
        "a, b, n = 0, 1, 5       # 5 partitions of [0,1] requested\n",
        "delta = (b - a)/n       # size of partition\n",
        "xs = a .+ (1:n) * delta # a < x₁ < ⋯ < xₙ₋₁ < xₙ = b\n",
        "sum(f.(xs)) * delta     # a new function `sum` to add up values in a container"
      ],
      "id": "10"
    },
    {
      "cell_type": "markdown",
      "metadata": {},
      "source": [
        "That value isn’t very close to $1/3$. But we only took $n=5$ rectangles\n",
        "$-$ clearly there will be some error."
      ],
      "id": "58529082-3d85-42a1-b465-27a56ffffa82"
    },
    {
      "cell_type": "code",
      "execution_count": 1,
      "metadata": {},
      "outputs": [
        {
          "output_type": "display_data",
          "metadata": {},
          "data": {
            "text/html": [
              "<img src=\"data:image/png;base64,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\" />"
            ]
          }
        }
      ],
      "source": [
        "plot(f, a, b; legend=false)\n",
        "riemann_plot!(f, a, b, n; fill=(\"red\", 0.25, 0))"
      ],
      "id": "12"
    },
    {
      "cell_type": "markdown",
      "metadata": {},
      "source": [
        "Bigger $n$s mean better approximations. This figure overlays the picture\n",
        "with $n=10$."
      ],
      "id": "0bbdd629-5a21-40cd-b926-a9acf7ab1d7e"
    },
    {
      "cell_type": "code",
      "execution_count": 1,
      "metadata": {},
      "outputs": [
        {
          "output_type": "display_data",
          "metadata": {},
          "data": {
            "text/html": [
              "<img src=\"data:image/png;base64,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\" />"
            ]
          }
        }
      ],
      "source": [
        "riemann_plot!(f, a, b, 10; fill=(\"blue\", 0.25, 0))"
      ],
      "id": "14"
    },
    {
      "cell_type": "markdown",
      "metadata": {},
      "source": [
        "With large `n` the figures become too crowded to illustrate, but we can\n",
        "easily use a large value of `n` in our computations. With $n=50,000$ we\n",
        "have the first $4$ decimal points are accurate:"
      ],
      "id": "54ac52c2-f083-4af0-80f0-faff4c9347ab"
    },
    {
      "cell_type": "code",
      "execution_count": 1,
      "metadata": {},
      "outputs": [
        {
          "output_type": "display_data",
          "metadata": {},
          "data": {
            "text/plain": [
              "0.33334333340000005"
            ]
          }
        }
      ],
      "source": [
        "f(x) = x^2\n",
        "a, b, n = 0, 1, 50_000      # 50,000 partitions of [0,1] requested\n",
        "delta = (b - a)/n\n",
        "xs = a .+ (1:n) * delta\n",
        "sum(f.(xs)) * delta"
      ],
      "id": "16"
    },
    {
      "cell_type": "markdown",
      "metadata": {},
      "source": [
        "Note that only the first two lines of the calculation needed changing to\n",
        "adjust to a new problem.\n",
        "\n",
        "------------------------------------------------------------------------\n",
        "\n",
        "As the pattern is similar, it is fairly easy to wrap the computations in\n",
        "a function for convenience. This is done for you in the `MTH229` package\n",
        "with the `riemann` function. The above would be done through:"
      ],
      "id": "6ef18bcb-7f43-469e-ba19-2e77e1c11dda"
    },
    {
      "cell_type": "code",
      "execution_count": 1,
      "metadata": {},
      "outputs": [
        {
          "output_type": "display_data",
          "metadata": {},
          "data": {
            "text/plain": [
              "0.33334333339999955"
            ]
          }
        }
      ],
      "source": [
        "f(x) = x^2\n",
        "a, b, n = 0, 1, 50_000\n",
        "riemann(f, a, b, n)"
      ],
      "id": "18"
    },
    {
      "cell_type": "markdown",
      "metadata": {},
      "source": [
        "------------------------------------------------------------------------\n",
        "\n",
        "The Riemann sum is slow to converge here. There are faster algorithms\n",
        "both mathematically and computationally. We will briefly discuss two:\n",
        "the [trapezoid](https://en.wikipedia.org/wiki/Trapezoidal_rule) rule,\n",
        "which replaces rectangles with trapezoids; and\n",
        "[Simpson’s](https://en.wikipedia.org/wiki/Simpson%27s_rule)rule which is\n",
        "a quadratic approximation. Each is invoked by passing a value to the\n",
        "`method` argument or `riemann`:"
      ],
      "id": "3cc36c3e-0f01-4b83-b229-8a23faf00850"
    },
    {
      "cell_type": "code",
      "execution_count": 1,
      "metadata": {},
      "outputs": [
        {
          "output_type": "display_data",
          "metadata": {},
          "data": {
            "text/plain": [
              "0.3333334999999997"
            ]
          }
        }
      ],
      "source": [
        "f(x) = x^2\n",
        "riemann(f, 0, 1, 1000, method=\"trapezoid\")"
      ],
      "id": "20"
    },
    {
      "cell_type": "markdown",
      "metadata": {},
      "source": [
        "And for Simpson’s method:"
      ],
      "id": "16dc6354-451b-4300-baae-e24dea369fa9"
    },
    {
      "cell_type": "code",
      "execution_count": 1,
      "metadata": {},
      "outputs": [
        {
          "output_type": "display_data",
          "metadata": {},
          "data": {
            "text/plain": [
              "0.3333333333333334"
            ]
          }
        }
      ],
      "source": [
        "riemann(f, 0, 1, 1000, method=\"simpsons\")"
      ],
      "id": "22"
    },
    {
      "cell_type": "markdown",
      "metadata": {},
      "source": [
        "------------------------------------------------------------------------\n",
        "\n",
        "For real-world use, `Julia` has the `QuadGK` package and its function\n",
        "`quadgk`, which is loaded with `MTH229`. By using a different approach\n",
        "altogether, this function is much more efficient and estimates the\n",
        "potential error in the approximation. It is used quite easily—no $n$ is\n",
        "needed, as the algorithm is adaptive:"
      ],
      "id": "92553167-3610-44d4-a877-5baa478d3fcc"
    },
    {
      "cell_type": "code",
      "execution_count": 1,
      "metadata": {},
      "outputs": [
        {
          "output_type": "display_data",
          "metadata": {},
          "data": {
            "text/plain": [
              "(0.3333333333333333, 0.0)"
            ]
          }
        }
      ],
      "source": [
        "f(x) = x^2\n",
        "answer, err = quadgk(f, 0, 1)"
      ],
      "id": "24"
    },
    {
      "cell_type": "markdown",
      "metadata": {},
      "source": [
        "The `quadgk` function returns two values, an answer and an estimated\n",
        "maximum possible error. The answer is the first number, clearly it is\n",
        "$1/3$, and the estimated maximum error is the second. In this case it is\n",
        "small ($10^{-17}$) $-$ basically `0`.\n",
        "\n",
        "------------------------------------------------------------------------\n",
        "\n",
        "In summary we consider here these functions to find definite integrals:\n",
        "\n",
        "-   `integrate`—symbolically find a definite integral using the\n",
        "    fundamental theorem of calculus, **if possible**.\n",
        "\n",
        "-   `riemann`—approximate a definite integral using either Riemann sums\n",
        "    or a related method.\n",
        "\n",
        "-   `quadgk`—use Gauss quadrature approach to efficiently find\n",
        "    approximations to definite integrals.\n",
        "\n",
        "## Different interpretations of other integrals\n",
        "\n",
        "The integral can represent other quantities besides the area under a\n",
        "curve. We give two examples: arc-length and certain volumes of\n",
        "revolution.\n",
        "\n",
        "A formula to compute the length of the graph of a differentiable\n",
        "function $f(x)$ from $a$ to $b$ is given by the formula:\n",
        "\n",
        "$$\n",
        "\\int_a^b \\sqrt{1 + f'(x)^2} dx\n",
        "$$\n",
        "\n",
        "That is, a function *related* to $f$ is integrated and this has a\n",
        "different interpretation than the area under $f$.\n",
        "\n",
        "For example, the arc-length of the square root function between $[0, 4]$\n",
        "is given by:"
      ],
      "id": "ed7b411b-1197-4953-a3e7-6863a9dd59e5"
    },
    {
      "cell_type": "code",
      "execution_count": 1,
      "metadata": {},
      "outputs": [
        {
          "output_type": "display_data",
          "metadata": {},
          "data": {
            "text/plain": [
              "(4.6467837188706085, 6.719391001417838e-8)"
            ]
          }
        }
      ],
      "source": [
        "f(x) = sqrt(x)\n",
        "dL(x) = sqrt(1 + f'(x)^2)\n",
        "answer, err = quadgk(dL, 0, 4)"
      ],
      "id": "26"
    },
    {
      "cell_type": "markdown",
      "metadata": {},
      "source": [
        "## Application: Volume of glasses.\n",
        "\n",
        "We discuss an application of the integral to finding volumes—not areas.\n",
        "\n",
        "A *solid of revolution* is a figure with rotational symmetry around some\n",
        "axis, such as a soda can, a snow cone, a red solo cup, and other common\n",
        "objects. A formula for the volume of an object with rotational symmetry\n",
        "can be written in terms of an integral based on a function, $r(h)$,\n",
        "which specifies the radius for various values of $h$.\n",
        "\n",
        "> If the radius as a function of height is given by $r(h)$, the the\n",
        "> volume is $\\int_a^b \\pi r(h)^2 dh$.\n",
        "\n",
        "So for example, a baseball has a overall diameter of $2\\cdot 37$mm, but\n",
        "if we place the center at the origin, its rotational radius is given by\n",
        "$r(h) = (37^2 - h^2)^{1/2}$ for $-37 \\leq h \\leq 37$. The volume in\n",
        "mm$^3$ is given by:"
      ],
      "id": "519a86cc-9548-4830-8799-adc5fe1511d1"
    },
    {
      "cell_type": "code",
      "execution_count": 1,
      "metadata": {},
      "outputs": [
        {
          "output_type": "display_data",
          "metadata": {},
          "data": {
            "text/plain": [
              "(212174.79024304505, 0.0)"
            ]
          }
        }
      ],
      "source": [
        "r(h) = (37^2 - h^2)^(1/2)\n",
        "dv(h) = pi * r(h)^2\n",
        "answer, err = quadgk(dv, -37, 37)"
      ],
      "id": "28"
    },
    {
      "cell_type": "markdown",
      "metadata": {},
      "source": [
        "The volume in cubic inches, then is:"
      ],
      "id": "5b0ae6af-2bf1-47be-bbf8-9ade6c927d0b"
    },
    {
      "cell_type": "code",
      "execution_count": 1,
      "metadata": {},
      "outputs": [
        {
          "output_type": "display_data",
          "metadata": {},
          "data": {
            "text/plain": [
              "12.947700103145083"
            ]
          }
        }
      ],
      "source": [
        "answer / (2.54 * 10)^3"
      ],
      "id": "30"
    },
    {
      "cell_type": "markdown",
      "metadata": {},
      "source": [
        "------------------------------------------------------------------------"
      ],
      "id": "7055ac9e-5b7a-4f96-bc4b-58b08c1ac076"
    },
    {
      "cell_type": "code",
      "execution_count": 1,
      "metadata": {},
      "outputs": [],
      "source": [
        "#  Your commands go here\n"
      ],
      "id": "32"
    }
  ],
  "nbformat": 4,
  "nbformat_minor": 5,
  "metadata": {
    "kernel_info": {
      "name": "julia"
    },
    "kernelspec": {
      "name": "julia",
      "display_name": "Julia",
      "language": "julia"
    },
    "language_info": {
      "name": "julia",
      "codemirror_mode": "julia",
      "version": "1.10.0"
    }
  }
}