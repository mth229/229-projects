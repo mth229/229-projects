{
  "cells": [
    {
      "cell_type": "markdown",
      "metadata": {},
      "source": [
        "# \n",
        "\n",
        "# Zeros of functions\n",
        "\n",
        "Read about this topic here: [Solving for zeros with\n",
        "julia](http://mth229.github.io/zeros.html).\n",
        "\n",
        "This project is about finding the real zeros of a real-valued function\n",
        "$f$. That is, those values of $x$ with $f(x)=0$.\n",
        "\n",
        "Finding zeros of a polynomial (called “roots” when the function is a\n",
        "polynomial) is a familiar task that can be aided by a few key equations,\n",
        "such as the quadratic equation. However, in general, finding a zero of a\n",
        "function will require a numeric approach. The `Roots` package of `Julia`\n",
        "will provide some features. This is loaded when `MTH229` is:"
      ],
      "id": "5b981949-09be-4682-a03f-ddd322054135"
    },
    {
      "cell_type": "code",
      "execution_count": 1,
      "metadata": {},
      "outputs": [],
      "source": [
        "using MTH229\n",
        "using Plots\n",
        "plotly()"
      ],
      "id": "89a4a928"
    },
    {
      "cell_type": "markdown",
      "metadata": {},
      "source": [
        "Graphically, a zero of a continuous function $f(x)$ occurs where the\n",
        "graph crosses or touches the $x$-axis. Without much work, a zero can be\n",
        "*estimated* to one or two decimal points from a graph. For example, we\n",
        "can zoom in on the zero of $f(x) = x^5 + x - 1$ by graphing over\n",
        "$[0,1]$:"
      ],
      "id": "78168f27-d43f-47c2-8d28-15a52d79c4e7"
    },
    {
      "cell_type": "code",
      "execution_count": 3,
      "metadata": {},
      "outputs": [
        {
          "output_type": "display_data",
          "metadata": {},
          "data": {
            "text/html": [
              "<img src=\"data:image/png;base64,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\" />"
            ]
          }
        }
      ],
      "source": [
        "f(x) = x^5 + x - 1\n",
        "plot(f, 0, 1)\n",
        "plot!(zero)"
      ],
      "id": "e5994769"
    },
    {
      "cell_type": "markdown",
      "metadata": {},
      "source": [
        "We can see that the zero is near $0.75$, but be careful reading too much\n",
        "into a graph. Since there are only so many pixels in a graph, and\n",
        "typically even fewer points chosen, what looks like a curve is really\n",
        "just a stick figure if you zoom in far enough. Replotting over a smaller\n",
        "domain can give more accuracy, but it is better to use a graph to get a\n",
        "sense of what the desired answer is *near* or *between* and then use a\n",
        "*numeric* method to “zoom” in on the answer.\n",
        "\n",
        "In this project we discuss one such method for “zooming in” – the\n",
        "*bisection method* - when the zero is between two values, such as in\n",
        "this plot where the zero is clearly **between**, say, $0$ and $1$.\n",
        "\n",
        "#### The bisection method\n",
        "\n",
        "The bisection method is a consequence on the *intermediate value\n",
        "theorem*:\n",
        "\n",
        "> The [intermediate value\n",
        "> theorem](https://en.wikipedia.org/wiki/Intermediate_value_theorem)\n",
        "> states that if a continuous function, $f$, over an interval, $[a, b]$,\n",
        "> takes values $f(a)$ and $f(b)$ at each end of the interval, then it\n",
        "> also takes any value between $f(a)$ and $f(b)$ at some point within\n",
        "> the interval.\n",
        "\n",
        "For our purposes, this is specialized to “Bolzano’s theorem:”\n",
        "\n",
        "> If a continuous function has values of opposite sign inside a closed\n",
        "> interval, then it has a zero in that interval\n",
        "\n",
        "In particular, if $f(x)$ is *continuous* on $[a,b]$ **and** $f(a)$ and\n",
        "$f(b)$ have different signs, then there **must** be a value $c$ with\n",
        "$a < c < b$ where $f(c) = 0$.\n",
        "\n",
        "There may be more than one zero, but there is a guarantee of at least\n",
        "one.\n",
        "\n",
        "## The bisection algorithm\n",
        "\n",
        "Not all functions can have their real zeros solved algebraically, and\n",
        "not all applications can be answered by the accuracy provided by a\n",
        "graph. In such situations, numeric methods may be of interest.\n",
        "\n",
        "To illustrate the bisection method, we discuss one step. This step is\n",
        "then repeated until termination.\n",
        "\n",
        "Consider $f(x) = \\sin(x)$. A graph shows plainly that there is a zero\n",
        "**between** $3$ and $4$. Formally, as $\\sin(3) > 0$ and $\\sin(4) < 0$\n",
        "and the $\\sin(x)$ function is continuous, this zero is guaranteed by\n",
        "Bolzano. The algorithm works by taking this observation of a bracketing\n",
        "interval ($[3,4]$) and reducing it in size by half at each step.\n",
        "\n",
        "Let $[a,b] = [3,4]$ and $c = (a+b)/2 = 3.5$ be the mid-point. The value\n",
        "of $f(c)$ must either be negative, positive, or zero. If $f(c)$ is zero,\n",
        "we are done – a zero to $f$ between $[a,b]$ was identified. Otherwise,\n",
        "either $f(a)$ and $f(c)$ or $f(c)$ and $f(b)$ have different signs. Form\n",
        "a new interval $[a,c]$ in the first case and $[c,b]$ in the second. This\n",
        "interval is half the size and has the same property of bracketing the\n",
        "guaranteed zero. The algorithm iterates this step until termination.\n",
        "\n",
        "The `MTH229` package defines a `bisection` method implementing the\n",
        "bisection method, it assumes it has been passed values $a < b$ with\n",
        "$f(a)$ and $f(b)$ having different signs. In short, `[a,b]` is a\n",
        "bracketing interval for $f$.\n",
        "\n",
        "Running this demo illustrates the division:"
      ],
      "id": "53a7c8d6-8d2e-48af-a0bd-b5e768ed743d"
    },
    {
      "cell_type": "code",
      "execution_count": 4,
      "metadata": {},
      "outputs": [],
      "source": [
        "bisection(sin,  3, 4)"
      ],
      "id": "6e0eb380"
    },
    {
      "cell_type": "markdown",
      "metadata": {},
      "source": [
        "The first line shows `[3,4]`, the second the resulting interval\n",
        "`[3, 3.5]`, the third the resulting interval `[3, 3.25]`, the fourth the\n",
        "resulting interval `[3.125, 3.25]`, etc.\n",
        "\n",
        "In the demo, after $8$ iterations, there isn’t enough resolution to show\n",
        "more subdivisions, but mathematically, unless the algorithm finds an\n",
        "exact zero, this process would continue infinitely, with the bracketing\n",
        "interval getting infinitely small. In the process this traps the zero.\n",
        "\n",
        "On the computer, the process basically stops when the size of the\n",
        "bracketing interval gets too small to subdivide using floating point\n",
        "numbers, unless instructed otherwise.\n",
        "\n",
        "## The fzero function\n",
        "\n",
        "In the `Roots` package is the `fzero` method that implements the\n",
        "bisection method, only a bit more carefully. The `MTH229` package loads\n",
        "this for you.\n",
        "\n",
        "For a bracketing interval, it is guaranteed to find a `c` such that the\n",
        "function changes sign between adjacent floating point values around `c`,\n",
        "or `c` is an exact zero. It is used as: `fzero(f, a, b)`:"
      ],
      "id": "1e34af15-47a1-4f3d-b96b-752307598b50"
    },
    {
      "cell_type": "code",
      "execution_count": 5,
      "metadata": {},
      "outputs": [
        {
          "output_type": "display_data",
          "metadata": {},
          "data": {
            "text/plain": [
              "1.4142135623730951"
            ]
          }
        }
      ],
      "source": [
        "f(x) = x^2 - 2\n",
        "fzero(f, 1, 2)          # finds sqrt(2)"
      ],
      "id": "90cf81ec"
    },
    {
      "cell_type": "markdown",
      "metadata": {},
      "source": [
        "### Solving $f(x) = c$\n",
        "\n",
        "Suppose the job is to identify when the function\n",
        "$f(x) = e^x / (1 + e^x)$ is equal to $3/4$. That is solving\n",
        "$f(x) = 3/4$. Our tool solves $f(x) = 0$. To use it, we define\n",
        "$eqn(x) = f(x) - 3/4$. Then $eqn(x)$ is zero when $f(x)$ is $3/4$.\n",
        "\n",
        "The function $f(x)$ is *increasing* so we can be very lazy with finding\n",
        "a bracketing interval, as $eqn(0)$ will be negative and $eqn(100)$ very\n",
        "close to $1$ and by monotonicity there can only be one zero, we have:"
      ],
      "id": "d43af5c1-efe4-4c86-afd5-ac62178986ea"
    },
    {
      "cell_type": "code",
      "execution_count": 6,
      "metadata": {},
      "outputs": [
        {
          "output_type": "display_data",
          "metadata": {},
          "data": {
            "text/plain": [
              "1.0986122886681096"
            ]
          }
        }
      ],
      "source": [
        "f(x) = exp(x) / (1 + exp(x))\n",
        "eqn(x) = f(x) - 3/4\n",
        "fzero(eqn, 0, 100)"
      ],
      "id": "64fe9219"
    },
    {
      "cell_type": "markdown",
      "metadata": {},
      "source": [
        "### Solving for $f(x) = g(x)$.\n",
        "\n",
        "Many problems are more naturally expressed by solving $f(x) = g(x)$, and\n",
        "not $f(x) = 0$, as expected by `fzero`. This is no issue, as it only\n",
        "requires the extra step of defining a function of the differences\n",
        "$eqn(x) = f(x) - g(x)$, as $eqn(x) = 0$ implies $f(x) = g(x)$.\n",
        "\n",
        "For example, find the intersection point of $4 - e^{x/10} = e^{x/15}$.\n",
        "\n",
        "First graph to see approximately where the answer is. From the graph,\n",
        "identify a bracket and then use `fzero` to numerically estimate the\n",
        "intersection point.\n",
        "\n",
        "We could plot both functions:"
      ],
      "id": "4e98f51c-8129-4833-ae15-7c7534c8547a"
    },
    {
      "cell_type": "code",
      "execution_count": 7,
      "metadata": {},
      "outputs": [
        {
          "output_type": "display_data",
          "metadata": {},
          "data": {
            "text/html": [
              "<img src=\"data:image/png;base64,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\" />"
            ]
          }
        }
      ],
      "source": [
        "f(x) = 4 - exp(x/10)\n",
        "g(x) = exp(x/15)\n",
        "plot(f, 0, 20)\n",
        "plot!(g)"
      ],
      "id": "ddbf5f05"
    },
    {
      "cell_type": "markdown",
      "metadata": {},
      "source": [
        "Or we could plot the difference:"
      ],
      "id": "4941e33f-39b0-4873-9fd5-b70a6b84ace0"
    },
    {
      "cell_type": "code",
      "execution_count": 8,
      "metadata": {},
      "outputs": [
        {
          "output_type": "display_data",
          "metadata": {},
          "data": {
            "text/html": [
              "<img src=\"data:image/png;base64,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\" />"
            ]
          }
        }
      ],
      "source": [
        "eqn(x) = f(x) - g(x)\n",
        "plot(eqn, 0, 20)\n",
        "plot!(zero)"
      ],
      "id": "23927446"
    },
    {
      "cell_type": "markdown",
      "metadata": {},
      "source": [
        "From *either* graph, we see quickly that the interval $[5,10]$ will be a\n",
        "bracketing interval for $\\text{eqn}(x)$. We can numerically zoom in on\n",
        "the the intersection point with:"
      ],
      "id": "60169787-fb4e-485d-b081-d235dbab70eb"
    },
    {
      "cell_type": "code",
      "execution_count": 9,
      "metadata": {},
      "outputs": [
        {
          "output_type": "display_data",
          "metadata": {},
          "data": {
            "text/plain": [
              "8.205886667065423"
            ]
          }
        }
      ],
      "source": [
        "fzero(eqn, 5, 10)"
      ],
      "id": "4a209a4b"
    },
    {
      "cell_type": "markdown",
      "metadata": {},
      "source": [
        "------------------------------------------------------------------------"
      ],
      "id": "0a12248b-4ce6-43e9-9fd3-fab0c9e404ce"
    },
    {
      "cell_type": "code",
      "execution_count": 10,
      "metadata": {},
      "outputs": [],
      "source": [
        "# your commands begin here\n"
      ],
      "id": "02fcbe5a"
    }
  ],
  "nbformat": 4,
  "nbformat_minor": 5,
  "metadata": {
    "kernelspec": {
      "name": "julia-1.11",
      "display_name": "Julia 1.11.2",
      "language": "julia",
      "path": "/Users/jverzani/Library/Jupyter/kernels/julia-1.11"
    },
    "language_info": {
      "name": "julia",
      "file_extension": ".jl",
      "mimetype": "application/julia",
      "version": "1.11.2"
    }
  }
}