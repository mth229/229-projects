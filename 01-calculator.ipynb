{
  "cells": [
     {"cell_type":"markdown","source":"<h1>Questions to be handed in on Julia as a calculator</h1>","metadata":{"internals":{"slide_type":"subslide","slide_helper":"subslide_end"},"slideshow":{"slide_type":"slide"},"slide_helper":"slide_end"}},
{"cell_type":"markdown","source":"<h3>Quick background</h3>","metadata":{"internals":{"slide_type":"subslide"},"slideshow":{"slide_type":"subslide"},"slide_helper":"slide_end"}},
{"cell_type":"markdown","source":"<p>Read about this material here: <a href=\"http://mth229.github.io/calculator.html\">Julia as a calculator</a>.</p>","metadata":{}},
{"cell_type":"markdown","source":"<p>For the impatient, these questions cover the use of <code>Julia</code> to replace what a calculator can do.</p>","metadata":{}},
{"cell_type":"markdown","source":"<h4>The common operations on numbers: addition, subtraction,  multiplication, division, and powers.</h4>","metadata":{"internals":{"slide_type":"subslide"},"slideshow":{"slide_type":"subslide"},"slide_helper":"slide_end"}},
{"cell_type":"markdown","source":"<p>For the most part there is no surprise, once you learn the notations:   <code>&#43;</code>, <code>-</code>, <code>*</code>, <code>/</code>, and <code>^</code>. (Though you may find that copying and   pasting minus signs will often cause an error, as only something   that looks like a minus sign is pasted in.)</p>","metadata":{}},
{"cell_type":"markdown","source":"<p>Using <code>IJulia</code>, one types the following into a cell and then presses the <em>run</em> button (or <em>shift-enter</em>):</p>","metadata":{}},
{"outputs":[{"output_type":"execute_result","data":{"text/plain":["4"]},"metadata":{},"execution_count":1}],"cell_type":"code","source":["2 + 2"],"metadata":{},"execution_count":1},
{"cell_type":"markdown","source":"<p>The answer follows below the cell.</p>","metadata":{}},
{"cell_type":"markdown","source":"<p>Here is how one does a slightly more complicated computation:</p>","metadata":{}},
{"outputs":[{"output_type":"execute_result","data":{"text/plain":["56.81818181818182"]},"metadata":{},"execution_count":1}],"cell_type":"code","source":["(2 + 3)^4/(5 + 6)"],"metadata":{},"execution_count":1},
{"cell_type":"markdown","source":"<p>As with your calculator, it is very important to use parentheses, as appropriate, to circumvent the usual order of operations.</p>","metadata":{}},
{"cell_type":"markdown","source":"<h4>The use of the basic families of function: trigonometric, exponential, logarithmic.</h4>","metadata":{"internals":{"slide_type":"subslide"},"slideshow":{"slide_type":"subslide"},"slide_helper":"slide_end"}},
{"cell_type":"markdown","source":"<p>On a calculator, there are buttons used to compute various functions. In <code>Julia</code>, there are <em>many</em> pre-defined functions that serve a similar role (later you will see how to define your own). Functions in <code>Julia</code> have names and are called using parentheses to enclose their argument(s), as with:</p>","metadata":{}},
{"outputs":[{"output_type":"execute_result","data":{"text/plain":["(0.7071067811865475, 0.5000000000000001)"]},"metadata":{},"execution_count":1}],"cell_type":"code","source":["sin(pi/4), cos(pi/3)"],"metadata":{},"execution_count":1},
{"cell_type":"markdown","source":"<p>(With <code>IJulia</code>, when a cell is executed only the last command computed is displayed, the above shows that using a comma to separate commands \ton the same line can be used to get two or more commands to be displayed.)</p>","metadata":{}},
{"cell_type":"markdown","source":"<p>Most basic functions in <code>Julia</code> have easy to guess names, though you will need to learn some differences, such as <code>log</code> is for $\\ln$ and <code>asin</code> for $\\sin^{-1}$. Function names encountered in this class include: <code>sqrt</code>, <code>cbrt</code>, <code>sin</code>, <code>cos</code>, <code>tan</code>, <code>sind</code>, <code>cosd</code>, <code>tand</code>, <code>asin</code>, <code>acos</code>, <code>atan</code>, <code>asind</code>, <code>acosd</code>, <code>atand</code>,<code>exp</code>, and <code>log</code>.</p>","metadata":{}},
{"cell_type":"markdown","source":"<h4>The use of memory registers to remember intermediate values.</h4>","metadata":{"internals":{"slide_type":"subslide"},"slideshow":{"slide_type":"subslide"},"slide_helper":"slide_end"}},
{"cell_type":"markdown","source":"<p>Rather than have numbered memory registers, it is <em>easy</em> to assign a name to a value. For example,</p>","metadata":{}},
{"outputs":[{"output_type":"execute_result","data":{"text/plain":["42"]},"metadata":{},"execution_count":1}],"cell_type":"code","source":["x = 42"],"metadata":{},"execution_count":1},
{"cell_type":"markdown","source":"<p>Names can be reassigned and repurposed. <em>However</em>, a function name cannot be repurposed as a variable name and a variable name cannot be repurposed as a function name. You will get an <code>ERROR</code> message if this is tried. (A suggestion is to use longer descriptive names or follow math conventions: use <code>x</code>, <code>y</code>, <code>z</code>, ... for variables; <code>f</code> and <code>g</code> for functions; and <code>a</code>,<code>b</code>, ... for parameters, though even then values like <code>h</code> may play a dual role)</p>","metadata":{}},
{"cell_type":"markdown","source":"<p>For assigning more than one value at once, commas can be used as with:</p>","metadata":{}},
{"outputs":[{"output_type":"execute_result","data":{"text/plain":["(1, 2, 3)"]},"metadata":{},"execution_count":1}],"cell_type":"code","source":["a,b,c = 1,2,3"],"metadata":{},"execution_count":1},
{"cell_type":"markdown","source":"<h4>Julia, like math, has different number types</h4>","metadata":{"internals":{"slide_type":"subslide"},"slideshow":{"slide_type":"subslide"},"slide_helper":"slide_end"}},
{"cell_type":"markdown","source":"<p>Unlike a calculator, but just like math, <code>Julia</code> has different types of numbers: integers, rational numbers, real numbers, and complex numbers. For the most part the distinction isn't much to worry about, but there are times where one must, such as overflow with integers. (One can only take the factorial of 20 with 64-bit integers, whereas on most calculators a factorial of 69 can be taken, but not 70.) Julia automatically assigns a type when it parses a value: a <code>1</code> will be an integer, a <code>1.0</code> an floating point number. Rational numbers are made by using two division symbols, <code>1//2</code>.</p>","metadata":{}},
{"cell_type":"markdown","source":"<p>For many operations the type will be conserved, such as adding to integers. For some operations, the type will be converted, such as dividing two integer values. Mathematically, we know we can divide some integers and still get an integer, but <code>Julia</code> usually opts for the same output for its functions (and division is also a function) based on the type of the input, not the specific values of the input.</p>","metadata":{}},
{"cell_type":"markdown","source":"<h2>Numbers</h2>","metadata":{"internals":{"slide_type":"subslide","slide_helper":"subslide_end"},"slideshow":{"slide_type":"slide"},"slide_helper":"slide_end"}},
{"cell_type":"markdown","source":"<p>Scientific notation represents real numbers as $\\pm a \\cdot 10^b$, where $b$ is an integer, and $a$ may be a real number in the range $[1.0, 10)$. In <code>Julia</code> such numbers are represented with an <code>e</code> to replace the 10, as with <code>1.2e3</code> which would be $1.2 \\cdot 10^3$ (1,230) or <code>3.2e-1</code>, which would be $3.2 \\cdot 10^{-1}$ (0.32).</p>","metadata":{}},
{"cell_type":"markdown","source":"<hr />","metadata":{}},
{"outputs":[{"output_type":"execute_result","data":{"text/latex":[""]},"metadata":{},"execution_count":1}],"cell_type":"code","source":[""],"metadata":{},"execution_count":1}
    ],
 "metadata": {
  "language_info": {
   "file_extension": ".jl",
   "mimetype": "application/julia",
   "name": "julia",
   "version": "1.4"
  },
 "kernelspec": {
   "display_name": "Julia 1.4",
   "language": "julia",
   "name": "julia-1.4"
  }

 },
 "nbformat": 4,
 "nbformat_minor": 2

}
