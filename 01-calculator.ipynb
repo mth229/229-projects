{
 "cells": [
  {
   "cell_type": "markdown",
   "metadata": {
    "internals": {
     "slide_helper": "subslide_end",
     "slide_type": "subslide"
    },
    "slide_helper": "slide_end",
    "slideshow": {
     "slide_type": "slide"
    }
   },
   "source": [
    "# Using Julia as a calculator\n"
   ]
  },
  {
   "cell_type": "markdown",
   "metadata": {
    "internals": {
     "slide_type": "subslide"
    },
    "slide_helper": "slide_end",
    "slideshow": {
     "slide_type": "subslide"
    }
   },
   "source": [
    "### Quick background\n"
   ]
  },
  {
   "cell_type": "markdown",
   "metadata": {},
   "source": [
    "Read about this material here: [Julia as a calculator](http://mth229.github.io/calculator.html).\n"
   ]
  },
  {
   "cell_type": "markdown",
   "metadata": {},
   "source": [
    "For the impatient, these questions cover the use of `Julia` to replace what a calculator can do.\n"
   ]
  },
  {
   "cell_type": "markdown",
   "metadata": {
    "internals": {
     "slide_type": "subslide"
    },
    "slide_helper": "slide_end",
    "slideshow": {
     "slide_type": "subslide"
    }
   },
   "source": [
    "#### Using Jupyter\n"
   ]
  },
  {
   "cell_type": "markdown",
   "metadata": {},
   "source": [
    "This workspace is a [Jupyter](https://jupyter.org/) notebook. For a bit of orientation:\n"
   ]
  },
  {
   "cell_type": "markdown",
   "metadata": {},
   "source": [
    "  * Commands are typed into cells. There can be one or more commands in a cell.\n",
    "  * Cells are executed in different ways: using \"shift-enter,\" using the \"Run\" button in the tool bar, or using the \"Cell\" menu in the menu bar (which has the \"Run All\" item which is suggested when first loading a notebook).\n",
    "  * Output from execution appears below the cell. Output shows the last command executed\n",
    "  * After a cell is executed, a running tally of what was executed when is displayed next to the `In [...]` and `Out[...]` labels.\n",
    "  * The actually running of a cell is executed in a kernel which may be on a different machine.\n",
    "  * Some cells – such as this one – are are marked `Markdown` in the toolbar, this is for formatted text. You will type commands into cells designated as \"Code.\"\n"
   ]
  },
  {
   "cell_type": "markdown",
   "metadata": {
    "internals": {
     "slide_type": "subslide"
    },
    "slide_helper": "slide_end",
    "slideshow": {
     "slide_type": "subslide"
    }
   },
   "source": [
    "#### The common operations on numbers: addition, subtraction,  multiplication, division, and powers.\n"
   ]
  },
  {
   "cell_type": "markdown",
   "metadata": {},
   "source": [
    "For the most part there is no surprise, once you learn the notations: `+`, `-`, `*`, `/`, and `^`. (Though you may find that copying and pasting minus signs will often cause an error, as only something that looks like a minus sign is pasted in.)\n"
   ]
  },
  {
   "cell_type": "markdown",
   "metadata": {},
   "source": [
    "Using `IJulia`, one types the following into a cell and then presses the *run* button (or *shift-enter*):\n"
   ]
  },
  {
   "cell_type": "code",
   "execution_count": 1,
   "metadata": {},
   "outputs": [
    {
     "data": {
      "text/plain": [
       "4"
      ]
     },
     "execution_count": 1,
     "metadata": {},
     "output_type": "execute_result"
    }
   ],
   "source": [
    "2 + 2"
   ]
  },
  {
   "cell_type": "markdown",
   "metadata": {},
   "source": [
    "The answer follows below the cell.\n"
   ]
  },
  {
   "cell_type": "markdown",
   "metadata": {},
   "source": [
    "Here is how one does a slightly more complicated computation:\n"
   ]
  },
  {
   "cell_type": "code",
   "execution_count": 1,
   "metadata": {},
   "outputs": [
    {
     "data": {
      "text/plain": [
       "56.81818181818182"
      ]
     },
     "execution_count": 1,
     "metadata": {},
     "output_type": "execute_result"
    }
   ],
   "source": [
    "(2 + 3)^4/(5 + 6)"
   ]
  },
  {
   "cell_type": "markdown",
   "metadata": {},
   "source": [
    "As with your calculator, it is very important to use parentheses, as appropriate, to circumvent the usual order of operations.\n"
   ]
  },
  {
   "cell_type": "markdown",
   "metadata": {
    "internals": {
     "slide_type": "subslide"
    },
    "slide_helper": "slide_end",
    "slideshow": {
     "slide_type": "subslide"
    }
   },
   "source": [
    "#### The use of the basic families of function: trigonometric, exponential, logarithmic.\n"
   ]
  },
  {
   "cell_type": "markdown",
   "metadata": {},
   "source": [
    "On a calculator, there are buttons used to compute various functions. In `Julia`, there are *many* pre-defined functions that serve a similar role (later you will see how to define your own). Functions in `Julia` have names and are called using parentheses to enclose their argument(s), as with:\n"
   ]
  },
  {
   "cell_type": "code",
   "execution_count": 1,
   "metadata": {},
   "outputs": [
    {
     "data": {
      "text/plain": [
       "(0.7071067811865475, 0.5000000000000001)"
      ]
     },
     "execution_count": 1,
     "metadata": {},
     "output_type": "execute_result"
    }
   ],
   "source": [
    "sin(pi/4), cos(pi/3)"
   ]
  },
  {
   "cell_type": "markdown",
   "metadata": {},
   "source": [
    "(With `IJulia`, when a cell is executed only the last command computed is displayed, the above shows that using a comma to separate commands \ton the same line can be used to get two or more commands to be displayed.)\n"
   ]
  },
  {
   "cell_type": "markdown",
   "metadata": {},
   "source": [
    "Most basic functions in `Julia` have easy to guess names, though you will need to learn some differences, such as `log` is for $\\ln$ and `asin` for $\\sin^{-1}$. Some function names encountered in this class include: `sqrt`, `cbrt`, `sin`, `cos`, `tan`,  `asin`, `acos`, `atan`,`exp`, and `log`.\n"
   ]
  },
  {
   "cell_type": "markdown",
   "metadata": {},
   "source": [
    "The trigonometric functions use *radians*. For degree measure the conversion factor $\\pi/180$ must be judiciously employed.\n"
   ]
  },
  {
   "cell_type": "markdown",
   "metadata": {},
   "source": [
    "The function $f(x) = e^x$ is implemented with function `exp(x)` and **not** using `e^x`. In base Julia `e` is not defined.\n"
   ]
  },
  {
   "cell_type": "markdown",
   "metadata": {
    "internals": {
     "slide_type": "subslide"
    },
    "slide_helper": "slide_end",
    "slideshow": {
     "slide_type": "subslide"
    }
   },
   "source": [
    "#### The use of memory registers to remember intermediate values.\n"
   ]
  },
  {
   "cell_type": "markdown",
   "metadata": {},
   "source": [
    "Rather than have numbered memory registers, it is *easy* to assign a name to a value. For example,\n"
   ]
  },
  {
   "cell_type": "code",
   "execution_count": 1,
   "metadata": {},
   "outputs": [
    {
     "data": {
      "text/plain": [
       "42"
      ]
     },
     "execution_count": 1,
     "metadata": {},
     "output_type": "execute_result"
    }
   ],
   "source": [
    "x = 42"
   ]
  },
  {
   "cell_type": "markdown",
   "metadata": {},
   "source": [
    "Names can be reassigned and repurposed. *However*, a function name can not be repurposed as a variable name and a variable name can not be repurposed as a function name. You will get an `ERROR` message if this is tried. (A suggestion is to use longer descriptive names or follow math conventions: use `x`, `y`, `z`, ... for variables; `f` and `g` for functions; and `a`,`b`, ... for parameters, though even then values like `h` may play a dual role)\n"
   ]
  },
  {
   "cell_type": "markdown",
   "metadata": {},
   "source": [
    "For assigning more than one value at once, commas can be used as with:\n"
   ]
  },
  {
   "cell_type": "code",
   "execution_count": 1,
   "metadata": {},
   "outputs": [
    {
     "data": {
      "text/plain": [
       "(1, 2, 3)"
      ]
     },
     "execution_count": 1,
     "metadata": {},
     "output_type": "execute_result"
    }
   ],
   "source": [
    "a, b, c = 1, 2, 3"
   ]
  },
  {
   "cell_type": "markdown",
   "metadata": {
    "internals": {
     "slide_type": "subslide"
    },
    "slide_helper": "slide_end",
    "slideshow": {
     "slide_type": "subslide"
    }
   },
   "source": [
    "#### Julia, like math, has different number types\n"
   ]
  },
  {
   "cell_type": "markdown",
   "metadata": {},
   "source": [
    "Unlike a calculator, but just like math, `Julia` has different types of numbers: integers, rational numbers, real numbers, and complex numbers. For the most part the distinction isn't much to worry about, but there are times where one must, such as overflow with integers. (One can only take the factorial of 20 with 64-bit integers, whereas on most calculators a factorial of 69 can be taken, but not 70.) Julia automatically assigns a type when it parses a value: a `1` will be an integer, a `1.0` an floating point number. Rational numbers are made by using two division symbols, `1//2`.\n"
   ]
  },
  {
   "cell_type": "markdown",
   "metadata": {},
   "source": [
    "For many operations the type will be conserved, such as adding two integers. For some operations, the type will be converted, such as dividing two integer values. Mathematically, we know we can divide some integers and still get an integer, but `Julia` usually opts for the same output for its functions (and division is also a function) based on the type of the input, not the specific values of the input.\n"
   ]
  },
  {
   "cell_type": "markdown",
   "metadata": {
    "internals": {
     "slide_helper": "subslide_end",
     "slide_type": "subslide"
    },
    "slide_helper": "slide_end",
    "slideshow": {
     "slide_type": "slide"
    }
   },
   "source": [
    "## Numbers\n"
   ]
  },
  {
   "cell_type": "markdown",
   "metadata": {},
   "source": [
    "Scientific notation represents real numbers as $\\pm a \\cdot 10^b$, where $b$ is an integer, and $a$ may be a real number in the range $[1.0, 10)$. In `Julia` such numbers are represented with an `e` to replace the 10, as with `1.2e3` which would be $1.2 \\cdot 10^3$ (better known as 1,230) or `3.2e-1`, which would be $3.2 \\cdot 10^{-1}$ (which is equal to $0.32$). Take note that this $e$ is not the special base of the natural logarithm, but is just notation indicating a power of $10$. To use this notation, you must have a number immediately before the \"e\", not a space or an asterisk. That is these are **not correct:** `1.2*e3` or `12 e 3`.\n"
   ]
  },
  {
   "cell_type": "markdown",
   "metadata": {},
   "source": [
    "---\n"
   ]
  },
  {
   "cell_type": "code",
   "execution_count": 1,
   "metadata": {},
   "outputs": [
    {
     "data": {
      "text/latex": []
     },
     "execution_count": 1,
     "metadata": {},
     "output_type": "execute_result"
    }
   ],
   "source": []
  }
 ],
 "metadata": {
  "kernelspec": {
   "display_name": "Julia 1.7.2",
   "language": "julia",
   "name": "julia-1.7"
  },
  "language_info": {
   "file_extension": ".jl",
   "mimetype": "application/julia",
   "name": "julia",
   "version": "1.7.3"
  }
 },
 "nbformat": 4,
 "nbformat_minor": 2
}
