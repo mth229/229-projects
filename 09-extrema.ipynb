{
  "cells": [
    {
      "cell_type": "markdown",
      "metadata": {},
      "source": [
        "# Quick background\n",
        "\n",
        "# Maximization and minimization with Julia\n",
        "\n",
        "To get started, we load our `MTH229` package for plotting and other\n",
        "features:"
      ],
      "id": "712f653f-6f20-4f89-aa30-05814b232df2"
    },
    {
      "cell_type": "code",
      "execution_count": 1,
      "metadata": {},
      "outputs": [],
      "source": [
        "using MTH229\n",
        "using Plots\n",
        "plotly()"
      ],
      "id": "407f2fd5"
    },
    {
      "cell_type": "markdown",
      "metadata": {},
      "source": [
        "Read about this material here: [Maximization and minimization with\n",
        "julia](http://mth229.github.io/extrema.html).\n",
        "\n",
        "*Extrema* is nothing more than a fancy word for describing either a\n",
        "maximum *or* a minimum. In calculus, we have **two** concepts of these:\n",
        "*relative* extrema and *absolute* extrema. Let’s focus for a second on\n",
        "*absolute* extrema which are defined through:\n",
        "\n",
        "> A value $y=f(x)$ is an *absolute maximum* over an interval $[a,b]$ if\n",
        "> $y \\geq f(x)$ for all $x$ in $[a,b]$. (An absolute minimum has\n",
        "> $y \\leq f(x)$ instead.)\n",
        "\n",
        "Of special note is that an absolute extrema involves *both* a function\n",
        "**and** an interval.\n",
        "\n",
        "There are two theorems which help identify extrema here. The first, due\n",
        "to Bolzano, says that any continuous function on a *closed* interval\n",
        "will *necessarily* have an absolute maximum and minimum on that\n",
        "interval. The second, due to Fermat, tells us where to look: these\n",
        "absolute maximums and minimums can only occur at the end points of the\n",
        "interval or critical points of the function inside the interval.\n",
        "\n",
        "Bolzano and Fermat are historic figures. For us, we can plot a function\n",
        "to visually identify extrema. The value of Bolzano is the knowledge that\n",
        "yes, plotting isn’t a waste of time, as we are *guaranteed* to see what\n",
        "we look for. The value of Fermat is that if we want to get *precise*\n",
        "numeric answers, we have a means: identify the end points and the\n",
        "critical points then compare the function at *just* these values.\n",
        "\n",
        "------------------------------------------------------------------------\n",
        "\n",
        "## An example\n",
        "\n",
        "Among all rectangles with perimeter $25$ find the one with maximum area.\n",
        "\n",
        "This problem leads to two equations:\n",
        "\n",
        "-   a constraint based on a fixed perimeter: $25 = 2b + 2h$.\n",
        "-   an expression for the area: $A=h \\cdot b$.\n",
        "\n",
        "We translate these into `Julia` functions. First, using the constraint,\n",
        "we solve for one variable and then substitute this in:"
      ],
      "id": "e7b08125-34ec-4168-b5cf-a33d5d85e3e5"
    },
    {
      "cell_type": "code",
      "execution_count": 3,
      "metadata": {},
      "outputs": [
        {
          "output_type": "display_data",
          "metadata": {},
          "data": {
            "text/plain": [
              "A (generic function with 1 method)"
            ]
          }
        }
      ],
      "source": [
        "h(b) = (25 - 2b) / 2\n",
        "A(b) = h(b) * b    # A = h * b translates to this"
      ],
      "id": "ab4085f5"
    },
    {
      "cell_type": "markdown",
      "metadata": {},
      "source": [
        "So we have area as a function of a single variable. Here `b` ranges from\n",
        "$0$ to no more than $12.5$, as both `b` and `h` need be non-negative. A\n",
        "plot shows the function to maximize:"
      ],
      "id": "914a7b55-3378-42c6-9349-65ec9e1f0afe"
    },
    {
      "cell_type": "code",
      "execution_count": 4,
      "metadata": {},
      "outputs": [
        {
          "output_type": "display_data",
          "metadata": {},
          "data": {
            "text/html": [
              "<img src=\"data:image/png;base64,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\" />"
            ]
          }
        }
      ],
      "source": [
        "plot(A, 0, 12.5)"
      ],
      "id": "f432a7a6"
    },
    {
      "cell_type": "markdown",
      "metadata": {},
      "source": [
        "Not only do we see a maximum value, we also can tell more:\n",
        "\n",
        "-   the maximum happens at a critical point - not an end point\n",
        "-   there is a unique critical point on this interval $[0,12.5]$.\n",
        "\n",
        "So, we can use `fzero` to find the critical point. The graph shows it is\n",
        "near $6$:"
      ],
      "id": "50bb9691-b192-4d51-9f5d-bc6e4cfda344"
    },
    {
      "cell_type": "code",
      "execution_count": 5,
      "metadata": {},
      "outputs": [
        {
          "output_type": "display_data",
          "metadata": {},
          "data": {
            "text/plain": [
              "6.25"
            ]
          }
        }
      ],
      "source": [
        "x = fzero(A', 6)"
      ],
      "id": "1dc96d94"
    },
    {
      "cell_type": "markdown",
      "metadata": {},
      "source": [
        "We store the value as `x`. Is this the answer? Not quite, the question\n",
        "asks for the rectangle that gives the maximum area, so we should also\n",
        "find the height. But this is just"
      ],
      "id": "fd80973b-4b55-48ba-98f5-bff6b6cdad46"
    },
    {
      "cell_type": "code",
      "execution_count": 6,
      "metadata": {},
      "outputs": [
        {
          "output_type": "display_data",
          "metadata": {},
          "data": {
            "text/plain": [
              "6.25"
            ]
          }
        }
      ],
      "source": [
        "h(x)"
      ],
      "id": "5c773663"
    },
    {
      "cell_type": "markdown",
      "metadata": {},
      "source": [
        "In fact, for the problems encountered within, the critical point, the\n",
        "constraint at the critical point, or the function evaluated at the\n",
        "critical point are used to answer the questions:"
      ],
      "id": "e5ba8a34-be6b-499c-a88a-dc1a5c11019e"
    },
    {
      "cell_type": "code",
      "execution_count": 7,
      "metadata": {},
      "outputs": [
        {
          "output_type": "display_data",
          "metadata": {},
          "data": {
            "text/plain": [
              "(6.25, 6.25, 39.0625)"
            ]
          }
        }
      ],
      "source": [
        "x, h(x), A(x)"
      ],
      "id": "1b8eef4f"
    },
    {
      "cell_type": "markdown",
      "metadata": {},
      "source": [
        "Play this video to see this problem again and a related problem:\n",
        "\n",
        "<figure>\n",
        "<a href=\"https://asciinema.org/a/4tdlumFtE2mBswLZJSw6q9K9J\"><img\n",
        "src=\"https://asciinema.org/a/4tdlumFtE2mBswLZJSw6q9K9J.svg\"\n",
        "alt=\"asciicast\" /></a>\n",
        "<figcaption>asciicast</figcaption>\n",
        "</figure>\n",
        "\n",
        "(This uses the Julia REPL, not a notebook.)\n",
        "\n",
        "------------------------------------------------------------------------"
      ],
      "id": "1d657ddf-2855-4f7a-979f-9ee89e7d8c51"
    },
    {
      "cell_type": "code",
      "execution_count": 8,
      "metadata": {},
      "outputs": [],
      "source": [
        "# Your commands go here"
      ],
      "id": "63d50ada"
    }
  ],
  "nbformat": 4,
  "nbformat_minor": 5,
  "metadata": {
    "kernelspec": {
      "name": "julia-1.11",
      "display_name": "Julia 1.11.2",
      "language": "julia",
      "path": "/Users/jverzani/Library/Jupyter/kernels/julia-1.11"
    },
    "language_info": {
      "name": "julia",
      "file_extension": ".jl",
      "mimetype": "application/julia",
      "version": "1.11.2"
    }
  }
}