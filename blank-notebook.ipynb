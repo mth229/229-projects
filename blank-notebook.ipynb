{
 "cells": [
  {
   "cell_type": "markdown",
   "id": "e17dd971",
   "metadata": {},
   "source": [
    "This blank notebook can be used to do most all of the questions in MTH229. \n",
    "\n",
    "This notebook can take 20-30 seconds to load, occasionally longer.\n"
   ]
  },
  {
   "cell_type": "code",
   "execution_count": 1,
   "id": "70839ad4",
   "metadata": {
    "tags": []
   },
   "outputs": [],
   "source": [
    "using MTH229Lite  # load package for utilities and plotting"
   ]
  },
  {
   "cell_type": "code",
   "execution_count": 2,
   "id": "cbb49a9b-2880-43c0-bf87-f8b93829ab70",
   "metadata": {
    "tags": []
   },
   "outputs": [],
   "source": [
    "?MTH229Lite # execute cell for details on package"
   ]
  },
  {
   "cell_type": "code",
   "execution_count": null,
   "id": "2cbf4669",
   "metadata": {
    "tags": []
   },
   "outputs": [],
   "source": []
  },
  {
   "cell_type": "code",
   "execution_count": null,
   "id": "b81074d0",
   "metadata": {},
   "outputs": [],
   "source": []
  },
  {
   "cell_type": "code",
   "execution_count": null,
   "id": "a67be740",
   "metadata": {},
   "outputs": [],
   "source": []
  },
  {
   "cell_type": "code",
   "execution_count": null,
   "id": "95a9810b-792c-4cb7-b19b-6cce0e47d518",
   "metadata": {},
   "outputs": [],
   "source": []
  }
 ],
 "metadata": {
  "kernelspec": {
   "display_name": "Julia 1.10.0",
   "language": "julia",
   "name": "julia-1.10"
  },
  "language_info": {
   "file_extension": ".jl",
   "mimetype": "application/julia",
   "name": "julia",
   "version": "1.10.0"
  }
 },
 "nbformat": 4,
 "nbformat_minor": 5
}
