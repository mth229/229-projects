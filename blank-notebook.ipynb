{
 "cells": [
  {
   "cell_type": "markdown",
   "id": "b7dcc5a3-341a-48e6-b4fa-443473acae41",
   "metadata": {
    "tags": []
   },
   "source": [
    "This notebook can be used for the problems of MTH229"
   ]
  },
  {
   "cell_type": "code",
   "execution_count": 1,
   "id": "1052a4cc-04aa-46fb-a70f-ddad471dfc43",
   "metadata": {
    "tags": []
   },
   "outputs": [],
   "source": [
    "using MTH229Lite, SymPy # load necessary packages"
   ]
  },
  {
   "cell_type": "code",
   "execution_count": null,
   "id": "59eed2d0-83f4-4815-8f84-2bd0f789eb74",
   "metadata": {},
   "outputs": [],
   "source": []
  }
 ],
 "metadata": {
  "kernelspec": {
   "display_name": "Julia 1.10.2",
   "language": "julia",
   "name": "julia-1.10"
  },
  "language_info": {
   "file_extension": ".jl",
   "mimetype": "application/julia",
   "name": "julia",
   "version": "1.10.2"
  }
 },
 "nbformat": 4,
 "nbformat_minor": 5
}
