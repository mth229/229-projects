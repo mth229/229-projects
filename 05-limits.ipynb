{
 "cells": [
  {
   "cell_type": "markdown",
   "metadata": {
    "internals": {
     "slide_helper": "subslide_end",
     "slide_type": "subslide"
    },
    "slide_helper": "slide_end",
    "slideshow": {
     "slide_type": "slide"
    }
   },
   "source": [
    "# Investigating limits with Julia\n"
   ]
  },
  {
   "cell_type": "markdown",
   "metadata": {},
   "source": [
    "To get started, we load the `MTH229` package so that we can make plots and use some symbolic math:\n"
   ]
  },
  {
   "cell_type": "code",
   "execution_count": 1,
   "metadata": {},
   "outputs": [
    {
     "name": "stderr",
     "output_type": "stream",
     "text": [
      "┌ Info: For saving to png with the Plotly backend PlotlyBase has to be installed.\n",
      "└ @ Plots /Users/verzani/.julia/packages/Plots/1KWPG/src/backends.jl:318\n"
     ]
    },
    {
     "data": {
      "text/plain": [
       "Plots.PlotlyBackend()"
      ]
     },
     "execution_count": 1,
     "metadata": {},
     "output_type": "execute_result"
    }
   ],
   "source": [
    "using MTH229\n",
    "using Plots\n",
    "plotly()"
   ]
  },
  {
   "cell_type": "markdown",
   "metadata": {},
   "source": [
    "---\n"
   ]
  },
  {
   "cell_type": "markdown",
   "metadata": {
    "internals": {
     "slide_type": "subslide"
    },
    "slide_helper": "slide_end",
    "slideshow": {
     "slide_type": "subslide"
    }
   },
   "source": [
    "### Quick background\n"
   ]
  },
  {
   "cell_type": "markdown",
   "metadata": {},
   "source": [
    "Read about this material here: [Investigating limits with Julia](http://mth229.github.io/limits.html).\n"
   ]
  },
  {
   "cell_type": "markdown",
   "metadata": {},
   "source": [
    "For the impatient, the expression\n"
   ]
  },
  {
   "cell_type": "markdown",
   "metadata": {},
   "source": [
    "$$ \\lim_{x \\rightarrow c} f(x) = L $$\n"
   ]
  },
  {
   "cell_type": "markdown",
   "metadata": {},
   "source": [
    "says that the limit as $x$ goes to $c$ of $f$ is $L$.\n"
   ]
  },
  {
   "cell_type": "markdown",
   "metadata": {},
   "source": [
    "> Intuitively, as $x$ gets \"close\" to $c$, $f(x)$ should be close to $L$.\n",
    "\n"
   ]
  },
  {
   "cell_type": "markdown",
   "metadata": {},
   "source": [
    "If $f(x)$ is *continuous* at $x=c$, then $L=f(c)$. This is almost always the case for a randomly chosen $c$ - but almost never the case for a textbook choice of $c$. Invariably with text book examples–-though not always–-we will have `f(c) = NaN` indicating the function is indeterminate at `c`. For such cases we need to do more work to identify if any such $L$ exists and when it does, what its value is.\n"
   ]
  },
  {
   "cell_type": "markdown",
   "metadata": {},
   "source": [
    "In this project, we investigate limits three ways: graphically, with a table of numbers, and analytically, developing the inituition of  limits along the way.\n"
   ]
  },
  {
   "cell_type": "markdown",
   "metadata": {
    "internals": {
     "slide_type": "subslide"
    },
    "slide_helper": "slide_end",
    "slideshow": {
     "slide_type": "subslide"
    }
   },
   "source": [
    "#### Graphical approach\n"
   ]
  },
  {
   "cell_type": "markdown",
   "metadata": {},
   "source": [
    "The graphical approach is to plot the expression *near* $c$ and look visually what $f(x)$ goes to as $x$ gets close to $c$.\n"
   ]
  },
  {
   "cell_type": "markdown",
   "metadata": {},
   "source": [
    "For example, what is this limit?\n"
   ]
  },
  {
   "cell_type": "markdown",
   "metadata": {},
   "source": [
    "$$ \\lim_{x \\rightarrow \\pi/2} \\frac{1 - \\sin(x)}{(\\pi/2 - x)^2}? $$\n"
   ]
  },
  {
   "cell_type": "markdown",
   "metadata": {},
   "source": [
    "Here is a graph to investigate the problem. We simply graph near $c$ and look:\n"
   ]
  },
  {
   "cell_type": "code",
   "execution_count": 2,
   "metadata": {},
   "outputs": [
    {
     "data": {
      "application/vnd.plotly.v1+json": {
       "data": [
        {
         "colorbar": {
          "title": ""
         },
         "legendgroup": "y1",
         "line": {
          "color": "rgba(0, 154, 250, 1.000)",
          "dash": "solid",
          "shape": "linear",
          "width": 1
         },
         "mode": "lines",
         "name": "y1",
         "showlegend": true,
         "type": "scatter",
         "x": [
          1.0471975511965979,
          1.0523109220780735,
          1.0574242929595492,
          1.1047047901877787,
          1.1519852874160081,
          1.1803988955028974,
          1.2088125035897865,
          1.2328358476127081,
          1.25685919163563,
          1.2829552767613621,
          1.3090513618870943,
          1.3331096441333907,
          1.3571679263796872,
          1.3829609475884905,
          1.4087539687972936,
          1.438637713333317,
          1.4685214578693404,
          1.4950786033712573,
          1.521635748873174,
          1.5449239722679058,
          1.5682121956626376,
          1.5936026103810694,
          1.618993025099501,
          1.644534342023039,
          1.6700756589465766,
          1.6983148509062276,
          1.7265540428658783,
          1.7534229214586143,
          1.7802918000513501,
          1.8082291995701005,
          1.836166599088851,
          1.859683938692498,
          1.883201278296145,
          1.9119132843734852,
          1.9406252904508254,
          1.9676154230122864,
          1.9946055555737474,
          2.037845840943368,
          2.0810861263129885,
          2.087740614353092,
          2.0943951023931953
         ],
         "xaxis": "x",
         "y": [
          0.48868072799633805,
          0.4888987620600501,
          0.4891147329956822,
          0.49101357158097714,
          0.4927341518383185,
          0.4936817515436444,
          0.49456411207911183,
          0.4952590284023089,
          0.4959069452324612,
          0.4965573337256644,
          0.49715190991811614,
          0.49765047179041155,
          0.4981013447832128,
          0.4985316391031191,
          0.4989068852380701,
          0.4992726777627013,
          0.4995643124025966,
          0.49976116341208277,
          0.49989930967757956,
          0.4999721098418936,
          0.49999972176439006,
          0.49997832843531037,
          0.4999032190887568,
          0.4997734871036299,
          0.4995894521631528,
          0.49932282655939514,
          0.49898996434976817,
          0.49861185768449345,
          0.49817399177673666,
          0.49765547749992783,
          0.49707265485699503,
          0.49653232357407234,
          0.4959466707663007,
          0.49517040051488936,
          0.4943270242902629,
          0.4934732831905783,
          0.49256073630941344,
          0.49097686198128276,
          0.4892439182546047,
          0.4889640707717137,
          0.48868072799633805
         ],
         "yaxis": "y",
         "zmax": null,
         "zmin": null
        }
       ],
       "layout": {
        "annotations": [],
        "height": 400,
        "legend_position": {
         "bgcolor": "rgba(255, 255, 255, 1.000)",
         "bordercolor": "rgba(0, 0, 0, 1.000)",
         "borderwidth": 1,
         "font": {
          "color": "rgba(0, 0, 0, 1.000)",
          "family": "sans-serif",
          "size": 11
         },
         "title": {
          "font": {
           "color": "rgba(0, 0, 0, 1.000)",
           "family": "sans-serif",
           "size": 15
          },
          "text": ""
         },
         "tracegroupgap": 0,
         "traceorder": "normal",
         "x": 1,
         "xanchor": "auto",
         "y": 1,
         "yanchor": "auto"
        },
        "margin": {
         "b": 20,
         "l": 0,
         "r": 0,
         "t": 20
        },
        "paper_bgcolor": "rgba(255, 255, 255, 1.000)",
        "plot_bgcolor": "rgba(255, 255, 255, 1.000)",
        "showlegend": true,
        "width": 600,
        "xaxis": {
         "anchor": "y",
         "domain": [
          0.09545056867891513,
          0.9934383202099738
         ],
         "gridcolor": "rgba(0, 0, 0, 0.100)",
         "gridwidth": 0.5,
         "linecolor": "rgba(0, 0, 0, 1.000)",
         "mirror": false,
         "range": [
          1.0157816246606999,
          2.125811028929093
         ],
         "showgrid": true,
         "showline": true,
         "showticklabels": true,
         "tickangle": 0,
         "tickcolor": "rgb(0, 0, 0)",
         "tickfont": {
          "color": "rgba(0, 0, 0, 1.000)",
          "family": "sans-serif",
          "size": 11
         },
         "tickmode": "array",
         "ticks": "inside",
         "ticktext": [
          "1.2",
          "1.4",
          "1.6",
          "1.8",
          "2.0"
         ],
         "tickvals": [
          1.2000000000000002,
          1.4000000000000001,
          1.6,
          1.8,
          2
         ],
         "title": "",
         "titlefont": {
          "color": "rgba(0, 0, 0, 1.000)",
          "family": "sans-serif",
          "size": 15
         },
         "type": "-",
         "visible": true,
         "zeroline": false,
         "zerolinecolor": "rgba(0, 0, 0, 1.000)"
        },
        "yaxis": {
         "anchor": "x",
         "domain": [
          0.03762029746281716,
          0.9901574803149606
         ],
         "gridcolor": "rgba(0, 0, 0, 0.100)",
         "gridwidth": 0.5,
         "linecolor": "rgba(0, 0, 0, 1.000)",
         "mirror": false,
         "range": [
          0.4883411581832965,
          0.5003392915774316
         ],
         "showgrid": true,
         "showline": true,
         "showticklabels": true,
         "tickangle": 0,
         "tickcolor": "rgb(0, 0, 0)",
         "tickfont": {
          "color": "rgba(0, 0, 0, 1.000)",
          "family": "sans-serif",
          "size": 11
         },
         "tickmode": "array",
         "ticks": "inside",
         "ticktext": [
          "0.4900",
          "0.4925",
          "0.4950",
          "0.4975",
          "0.5000"
         ],
         "tickvals": [
          0.49,
          0.4925,
          0.495,
          0.4975,
          0.5
         ],
         "title": "",
         "titlefont": {
          "color": "rgba(0, 0, 0, 1.000)",
          "family": "sans-serif",
          "size": 15
         },
         "type": "-",
         "visible": true,
         "zeroline": false,
         "zerolinecolor": "rgba(0, 0, 0, 1.000)"
        }
       }
      },
      "text/html": [
       "    <div id=\"66524297-88b8-4137-b22f-aaf97307cd0e\" style=\"width:600px;height:400px;\"></div>\n",
       "    <script>\n",
       "        requirejs.config({\n",
       "        paths: {\n",
       "            Plotly: 'https://cdn.plot.ly/plotly-2.6.3.min'\n",
       "        }\n",
       "    });\n",
       "    require(['Plotly'], function (Plotly) {\n",
       "\n",
       "        Plotly.newPlot('66524297-88b8-4137-b22f-aaf97307cd0e', [\n",
       "    {\n",
       "        \"xaxis\": \"x\",\n",
       "        \"colorbar\": {\n",
       "            \"title\": \"\"\n",
       "        },\n",
       "        \"yaxis\": \"y\",\n",
       "        \"x\": [\n",
       "            1.0471975511965979,\n",
       "            1.0523109220780735,\n",
       "            1.0574242929595492,\n",
       "            1.1047047901877787,\n",
       "            1.1519852874160081,\n",
       "            1.1803988955028974,\n",
       "            1.2088125035897865,\n",
       "            1.2328358476127081,\n",
       "            1.25685919163563,\n",
       "            1.2829552767613621,\n",
       "            1.3090513618870943,\n",
       "            1.3331096441333907,\n",
       "            1.3571679263796872,\n",
       "            1.3829609475884905,\n",
       "            1.4087539687972936,\n",
       "            1.438637713333317,\n",
       "            1.4685214578693404,\n",
       "            1.4950786033712573,\n",
       "            1.521635748873174,\n",
       "            1.5449239722679058,\n",
       "            1.5682121956626376,\n",
       "            1.5936026103810694,\n",
       "            1.618993025099501,\n",
       "            1.644534342023039,\n",
       "            1.6700756589465766,\n",
       "            1.6983148509062276,\n",
       "            1.7265540428658783,\n",
       "            1.7534229214586143,\n",
       "            1.7802918000513501,\n",
       "            1.8082291995701005,\n",
       "            1.836166599088851,\n",
       "            1.859683938692498,\n",
       "            1.883201278296145,\n",
       "            1.9119132843734852,\n",
       "            1.9406252904508254,\n",
       "            1.9676154230122864,\n",
       "            1.9946055555737474,\n",
       "            2.037845840943368,\n",
       "            2.0810861263129885,\n",
       "            2.087740614353092,\n",
       "            2.0943951023931953\n",
       "        ],\n",
       "        \"showlegend\": true,\n",
       "        \"mode\": \"lines\",\n",
       "        \"name\": \"y1\",\n",
       "        \"zmin\": null,\n",
       "        \"legendgroup\": \"y1\",\n",
       "        \"zmax\": null,\n",
       "        \"line\": {\n",
       "            \"color\": \"rgba(0, 154, 250, 1.000)\",\n",
       "            \"shape\": \"linear\",\n",
       "            \"dash\": \"solid\",\n",
       "            \"width\": 1\n",
       "        },\n",
       "        \"y\": [\n",
       "            0.48868072799633805,\n",
       "            0.4888987620600501,\n",
       "            0.4891147329956822,\n",
       "            0.49101357158097714,\n",
       "            0.4927341518383185,\n",
       "            0.4936817515436444,\n",
       "            0.49456411207911183,\n",
       "            0.4952590284023089,\n",
       "            0.4959069452324612,\n",
       "            0.4965573337256644,\n",
       "            0.49715190991811614,\n",
       "            0.49765047179041155,\n",
       "            0.4981013447832128,\n",
       "            0.4985316391031191,\n",
       "            0.4989068852380701,\n",
       "            0.4992726777627013,\n",
       "            0.4995643124025966,\n",
       "            0.49976116341208277,\n",
       "            0.49989930967757956,\n",
       "            0.4999721098418936,\n",
       "            0.49999972176439006,\n",
       "            0.49997832843531037,\n",
       "            0.4999032190887568,\n",
       "            0.4997734871036299,\n",
       "            0.4995894521631528,\n",
       "            0.49932282655939514,\n",
       "            0.49898996434976817,\n",
       "            0.49861185768449345,\n",
       "            0.49817399177673666,\n",
       "            0.49765547749992783,\n",
       "            0.49707265485699503,\n",
       "            0.49653232357407234,\n",
       "            0.4959466707663007,\n",
       "            0.49517040051488936,\n",
       "            0.4943270242902629,\n",
       "            0.4934732831905783,\n",
       "            0.49256073630941344,\n",
       "            0.49097686198128276,\n",
       "            0.4892439182546047,\n",
       "            0.4889640707717137,\n",
       "            0.48868072799633805\n",
       "        ],\n",
       "        \"type\": \"scatter\"\n",
       "    }\n",
       "]\n",
       ", {\n",
       "    \"showlegend\": true,\n",
       "    \"xaxis\": {\n",
       "        \"showticklabels\": true,\n",
       "        \"gridwidth\": 0.5,\n",
       "        \"tickvals\": [\n",
       "            1.2000000000000002,\n",
       "            1.4000000000000001,\n",
       "            1.6,\n",
       "            1.8,\n",
       "            2.0\n",
       "        ],\n",
       "        \"range\": [\n",
       "            1.0157816246606999,\n",
       "            2.125811028929093\n",
       "        ],\n",
       "        \"domain\": [\n",
       "            0.09545056867891513,\n",
       "            0.9934383202099738\n",
       "        ],\n",
       "        \"mirror\": false,\n",
       "        \"tickangle\": 0,\n",
       "        \"showline\": true,\n",
       "        \"ticktext\": [\n",
       "            \"1.2\",\n",
       "            \"1.4\",\n",
       "            \"1.6\",\n",
       "            \"1.8\",\n",
       "            \"2.0\"\n",
       "        ],\n",
       "        \"zeroline\": false,\n",
       "        \"tickfont\": {\n",
       "            \"color\": \"rgba(0, 0, 0, 1.000)\",\n",
       "            \"family\": \"sans-serif\",\n",
       "            \"size\": 11\n",
       "        },\n",
       "        \"zerolinecolor\": \"rgba(0, 0, 0, 1.000)\",\n",
       "        \"anchor\": \"y\",\n",
       "        \"visible\": true,\n",
       "        \"ticks\": \"inside\",\n",
       "        \"tickmode\": \"array\",\n",
       "        \"linecolor\": \"rgba(0, 0, 0, 1.000)\",\n",
       "        \"showgrid\": true,\n",
       "        \"title\": \"\",\n",
       "        \"gridcolor\": \"rgba(0, 0, 0, 0.100)\",\n",
       "        \"titlefont\": {\n",
       "            \"color\": \"rgba(0, 0, 0, 1.000)\",\n",
       "            \"family\": \"sans-serif\",\n",
       "            \"size\": 15\n",
       "        },\n",
       "        \"tickcolor\": \"rgb(0, 0, 0)\",\n",
       "        \"type\": \"-\"\n",
       "    },\n",
       "    \"paper_bgcolor\": \"rgba(255, 255, 255, 1.000)\",\n",
       "    \"annotations\": [],\n",
       "    \"height\": 400,\n",
       "    \"margin\": {\n",
       "        \"l\": 0,\n",
       "        \"b\": 20,\n",
       "        \"r\": 0,\n",
       "        \"t\": 20\n",
       "    },\n",
       "    \"plot_bgcolor\": \"rgba(255, 255, 255, 1.000)\",\n",
       "    \"yaxis\": {\n",
       "        \"showticklabels\": true,\n",
       "        \"gridwidth\": 0.5,\n",
       "        \"tickvals\": [\n",
       "            0.49,\n",
       "            0.4925,\n",
       "            0.495,\n",
       "            0.4975,\n",
       "            0.5\n",
       "        ],\n",
       "        \"range\": [\n",
       "            0.4883411581832965,\n",
       "            0.5003392915774316\n",
       "        ],\n",
       "        \"domain\": [\n",
       "            0.03762029746281716,\n",
       "            0.9901574803149606\n",
       "        ],\n",
       "        \"mirror\": false,\n",
       "        \"tickangle\": 0,\n",
       "        \"showline\": true,\n",
       "        \"ticktext\": [\n",
       "            \"0.4900\",\n",
       "            \"0.4925\",\n",
       "            \"0.4950\",\n",
       "            \"0.4975\",\n",
       "            \"0.5000\"\n",
       "        ],\n",
       "        \"zeroline\": false,\n",
       "        \"tickfont\": {\n",
       "            \"color\": \"rgba(0, 0, 0, 1.000)\",\n",
       "            \"family\": \"sans-serif\",\n",
       "            \"size\": 11\n",
       "        },\n",
       "        \"zerolinecolor\": \"rgba(0, 0, 0, 1.000)\",\n",
       "        \"anchor\": \"x\",\n",
       "        \"visible\": true,\n",
       "        \"ticks\": \"inside\",\n",
       "        \"tickmode\": \"array\",\n",
       "        \"linecolor\": \"rgba(0, 0, 0, 1.000)\",\n",
       "        \"showgrid\": true,\n",
       "        \"title\": \"\",\n",
       "        \"gridcolor\": \"rgba(0, 0, 0, 0.100)\",\n",
       "        \"titlefont\": {\n",
       "            \"color\": \"rgba(0, 0, 0, 1.000)\",\n",
       "            \"family\": \"sans-serif\",\n",
       "            \"size\": 15\n",
       "        },\n",
       "        \"tickcolor\": \"rgb(0, 0, 0)\",\n",
       "        \"type\": \"-\"\n",
       "    },\n",
       "    \"legend_position\": {\n",
       "        \"yanchor\": \"auto\",\n",
       "        \"xanchor\": \"auto\",\n",
       "        \"bordercolor\": \"rgba(0, 0, 0, 1.000)\",\n",
       "        \"bgcolor\": \"rgba(255, 255, 255, 1.000)\",\n",
       "        \"borderwidth\": 1,\n",
       "        \"tracegroupgap\": 0,\n",
       "        \"y\": 1.0,\n",
       "        \"font\": {\n",
       "            \"color\": \"rgba(0, 0, 0, 1.000)\",\n",
       "            \"family\": \"sans-serif\",\n",
       "            \"size\": 11\n",
       "        },\n",
       "        \"title\": {\n",
       "            \"font\": {\n",
       "                \"color\": \"rgba(0, 0, 0, 1.000)\",\n",
       "                \"family\": \"sans-serif\",\n",
       "                \"size\": 15\n",
       "            },\n",
       "            \"text\": \"\"\n",
       "        },\n",
       "        \"traceorder\": \"normal\",\n",
       "        \"x\": 1.0\n",
       "    },\n",
       "    \"width\": 600\n",
       "}\n",
       ");\n",
       "\n",
       "    });\n",
       "    </script>\n"
      ]
     },
     "execution_count": 2,
     "metadata": {},
     "output_type": "execute_result"
    }
   ],
   "source": [
    "f(x) = (1-sin(x)) / (pi/2 - x)^2\n",
    "c = pi/2\n",
    "plot(f, c - pi/6, c + pi/6)"
   ]
  },
  {
   "cell_type": "markdown",
   "metadata": {},
   "source": [
    "From the graph, we see clearly that as $x$ is close to $c=\\pi/2$, $f(x)$ is close to $1/2$. (The fact that `f(pi/2) = NaN` will either not come up, as `pi/2` is not among the points sampled or the `NaN` values will not be plotted.)\n"
   ]
  },
  {
   "cell_type": "markdown",
   "metadata": {
    "internals": {
     "slide_helper": "subslide_end",
     "slide_type": "subslide"
    },
    "slide_helper": "slide_end",
    "slideshow": {
     "slide_type": "slide"
    }
   },
   "source": [
    "## Using tables to investigate limits\n"
   ]
  },
  {
   "cell_type": "markdown",
   "metadata": {},
   "source": [
    "Investigating a limit numerically requires us to operationalize the idea of $x$ getting close to $c$ and $f(x)$ getting close to $L$. Here we do this manually:\n"
   ]
  },
  {
   "cell_type": "code",
   "execution_count": 3,
   "metadata": {},
   "outputs": [
    {
     "data": {
      "text/plain": [
       "(0.9983341664682815, 0.9999833334166665, 0.9999998333333416, 0.9999999983333334, 0.9999999999833332, 0.9999999999998334)"
      ]
     },
     "execution_count": 3,
     "metadata": {},
     "output_type": "execute_result"
    }
   ],
   "source": [
    "f(x) = sin(x)/x\n",
    "f(0.1), f(0.01), f(0.001), f(0.0001), f(0.00001), f(0.000001)"
   ]
  },
  {
   "cell_type": "markdown",
   "metadata": {},
   "source": [
    "From this we see a *right* limit at 0 appears to be $1$.\n"
   ]
  },
  {
   "cell_type": "markdown",
   "metadata": {},
   "source": [
    "We can put the above into a column, by wrapping things in square brackets (forming a vector):\n"
   ]
  },
  {
   "cell_type": "code",
   "execution_count": 4,
   "metadata": {},
   "outputs": [
    {
     "data": {
      "text/plain": [
       "6-element Vector{Float64}:\n",
       " 0.9983341664682815\n",
       " 0.9999833334166665\n",
       " 0.9999998333333416\n",
       " 0.9999999983333334\n",
       " 0.9999999999833332\n",
       " 0.9999999999998334"
      ]
     },
     "execution_count": 4,
     "metadata": {},
     "output_type": "execute_result"
    }
   ],
   "source": [
    "[f(0.1), f(0.01), f(0.001), f(0.0001), f(0.00001), f(0.000001)]"
   ]
  },
  {
   "cell_type": "markdown",
   "metadata": {},
   "source": [
    "The style of printing makes it clear, the limit here should be $L=1$.\n"
   ]
  },
  {
   "cell_type": "markdown",
   "metadata": {},
   "source": [
    "Limits when $c\\neq 0$ are similar, but require points getting close to $c$. For example,\n"
   ]
  },
  {
   "cell_type": "markdown",
   "metadata": {},
   "source": [
    "$$ \\lim_{x \\rightarrow \\pi/2} \\frac{1 - \\sin(x)}{(\\pi/2 - x)^2} $$\n"
   ]
  },
  {
   "cell_type": "markdown",
   "metadata": {},
   "source": [
    "has a limit of $1/2$. We can investigate with:\n"
   ]
  },
  {
   "cell_type": "code",
   "execution_count": 5,
   "metadata": {},
   "outputs": [
    {
     "data": {
      "text/plain": [
       "5-element Vector{Float64}:\n",
       " 0.49958347219742816\n",
       " 0.4999999583256134\n",
       " 0.5000000413636343\n",
       " 0.49960036049791995\n",
       " 0.0"
      ]
     },
     "execution_count": 5,
     "metadata": {},
     "output_type": "execute_result"
    }
   ],
   "source": [
    "c = pi/2\n",
    "f(x) = (1 - sin(x))/(pi/2 - x)^2\n",
    "[f(c+.1), f(c+.001), f(c+.00001), f(c+.0000001), f(c+.000000001)]"
   ]
  },
  {
   "cell_type": "markdown",
   "metadata": {},
   "source": [
    "Wait, is the limit $1/2$ or $0$? At first $1/2$ seems like the answer, but the last number is $0$.\n"
   ]
  },
  {
   "cell_type": "markdown",
   "metadata": {},
   "source": [
    "Here we see a limitation of tables - when numbers get too small, that fact that they are represented in floating point becomes important. In this case, for numbers too close to $\\pi/2$ the value on the computer for `sin(x)` is just 1 and not a number near 1. Hence the denominator becomes $0$, and so then the expression. (Near $1$, the floating point values are about $10^{-16}$ apart, so when two numbers are within $10^{-16}$ of each other, they can be rounded to the same number.)  So watch out when seeing what the values of $f(x)$ get close to. Here it is clear that the limit is heading towards $0.5$ until we get too close.\n"
   ]
  },
  {
   "cell_type": "markdown",
   "metadata": {},
   "source": [
    "For convenience, the `lim` function from the `MTH229` package can make the above computations easier to do. Its use follows the common pattern: `action(function, arguments...)`. For example,\n"
   ]
  },
  {
   "cell_type": "code",
   "execution_count": 6,
   "metadata": {},
   "outputs": [
    {
     "data": {
      "text/plain": [
       "6×2 Matrix{Float64}:\n",
       " 1.6708   0.499583\n",
       " 1.5808   0.499996\n",
       " 1.5718   0.5\n",
       " 1.5709   0.5\n",
       " 1.57081  0.5\n",
       " 1.5708   0.500044"
      ]
     },
     "execution_count": 6,
     "metadata": {},
     "output_type": "execute_result"
    }
   ],
   "source": [
    "f(x) = (1 - sin(x))/(pi/2 - x)^2\n",
    "lim(f, pi/2)"
   ]
  },
  {
   "cell_type": "markdown",
   "metadata": {},
   "source": [
    "The above will generate values just bigger than `pi/2` which are helpful to investigate the *right* limit. For a *left* limit, pass in `dir=\"-\"`, as with\n"
   ]
  },
  {
   "cell_type": "code",
   "execution_count": 7,
   "metadata": {},
   "outputs": [
    {
     "data": {
      "text/plain": [
       "6×2 Matrix{Float64}:\n",
       " 1.4708   0.499583\n",
       " 1.5608   0.499996\n",
       " 1.5698   0.5\n",
       " 1.5707   0.5\n",
       " 1.57079  0.5\n",
       " 1.5708   0.500044"
      ]
     },
     "execution_count": 7,
     "metadata": {},
     "output_type": "execute_result"
    }
   ],
   "source": [
    "lim(f, pi/2, dir=\"-\")"
   ]
  },
  {
   "cell_type": "markdown",
   "metadata": {
    "internals": {
     "slide_helper": "subslide_end",
     "slide_type": "subslide"
    },
    "slide_helper": "slide_end",
    "slideshow": {
     "slide_type": "slide"
    }
   },
   "source": [
    "## Symbolic limits\n"
   ]
  },
  {
   "cell_type": "markdown",
   "metadata": {},
   "source": [
    "The add-on package `SymPy` can be used to analytically compute the limit of a symbolic expressino. The package is loaded when `MTH229` is. `SymPy` provides the `limit` function. A sample usage is shown below:\n"
   ]
  },
  {
   "cell_type": "code",
   "execution_count": 8,
   "metadata": {},
   "outputs": [
    {
     "data": {
      "text/latex": [
       "$1$"
      ],
      "text/plain": [
       "1"
      ]
     },
     "execution_count": 8,
     "metadata": {},
     "output_type": "execute_result"
    }
   ],
   "source": [
    "f(x) = sin(x)/x\n",
    "@syms x\n",
    "limit(f(x), x => 0)"
   ]
  },
  {
   "cell_type": "markdown",
   "metadata": {},
   "source": [
    "The new command, `@syms x`, creates a symbolic variable named `x`. This makes `f(x)` a symbolic expression\n"
   ]
  },
  {
   "cell_type": "code",
   "execution_count": 9,
   "metadata": {},
   "outputs": [
    {
     "data": {
      "text/latex": [
       "$\\frac{\\sin{\\left(x \\right)}}{x}$"
      ],
      "text/plain": [
       "sin(x)\n",
       "──────\n",
       "  x   "
      ]
     },
     "execution_count": 9,
     "metadata": {},
     "output_type": "execute_result"
    }
   ],
   "source": [
    "f(x)"
   ]
  },
  {
   "cell_type": "markdown",
   "metadata": {},
   "source": [
    "To find the limit of an expression, `ex`, as a symbolic variable, `x`, goes towards some value `c`, `0` in the above example, is performed by the command `limit(ex, x => c)`. SymPy finds the right limit by default. A left limit can be asked for with the additional argument `dir=\"-\"`.\n"
   ]
  },
  {
   "cell_type": "markdown",
   "metadata": {},
   "source": [
    "---\n"
   ]
  },
  {
   "cell_type": "code",
   "execution_count": null,
   "metadata": {},
   "outputs": [],
   "source": []
  }
 ],
 "metadata": {
  "kernelspec": {
   "display_name": "Julia 1.7.2",
   "language": "julia",
   "name": "julia-1.7"
  },
  "language_info": {
   "file_extension": ".jl",
   "mimetype": "application/julia",
   "name": "julia",
   "version": "1.7.3"
  }
 },
 "nbformat": 4,
 "nbformat_minor": 2
}
