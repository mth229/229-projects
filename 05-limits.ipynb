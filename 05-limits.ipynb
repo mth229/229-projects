{
  "cells": [
    {
      "cell_type": "markdown",
      "metadata": {},
      "source": [
        "# \n",
        "\n",
        "# Investigating limits with Julia\n",
        "\n",
        "To get started, we load the `MTH229` package so that we can make plots\n",
        "and use some symbolic math:"
      ],
      "id": "491206ae-1911-4e3a-956f-d2ff41f70961"
    },
    {
      "cell_type": "code",
      "execution_count": 1,
      "metadata": {},
      "outputs": [],
      "source": [
        "using MTH229\n",
        "using Plots\n",
        "plotly()"
      ],
      "id": "9aabd026"
    },
    {
      "cell_type": "markdown",
      "metadata": {},
      "source": [
        "------------------------------------------------------------------------\n",
        "\n",
        "### Quick background\n",
        "\n",
        "Read about this material here: [Investigating limits with\n",
        "Julia](http://mth229.github.io/limits.html).\n",
        "\n",
        "The expression\n",
        "\n",
        "$$\n",
        "\\lim_{x \\rightarrow c} f(x) = L\n",
        "$$\n",
        "\n",
        "says that the limit as $x$ goes to $c$ of $f$ is $L$.\n",
        "\n",
        "> Intuitively, as $x$ gets “close” to $c$, $f(x)$ should be close to\n",
        "> $L$.\n",
        "\n",
        "If $f(x)$ is *continuous* at $x=c$, then $L=f(c)$. This is almost always\n",
        "the case for a randomly chosen $c$ - but almost never the case for a\n",
        "textbook choice of $c$. Invariably with text book examples—though not\n",
        "always—we will have `f(c) = NaN` indicating the function is\n",
        "indeterminate at `c`. For such cases we need to do more work to identify\n",
        "if any such $L$ exists and when it does, what its value is.\n",
        "\n",
        "In this project, we investigate limits three ways: graphically, with a\n",
        "table of numbers, and analytically, developing the inituition of limits\n",
        "along the way.\n",
        "\n",
        "#### Graphical approach\n",
        "\n",
        "The graphical approach is to plot the expression *near* $c$ and look\n",
        "visually what $f(x)$ goes to as $x$ gets close to $c$.\n",
        "\n",
        "For example, what is this limit?\n",
        "\n",
        "$$\n",
        "\\lim_{x \\rightarrow \\pi/2} \\frac{1 - \\sin(x)}{(\\pi/2 - x)^2}?\n",
        "$$\n",
        "\n",
        "Here is a graph to investigate the problem. We simply graph near $c$ and\n",
        "look:"
      ],
      "id": "8bda4595-2156-41af-b345-a191bdf4b270"
    },
    {
      "cell_type": "code",
      "execution_count": 3,
      "metadata": {},
      "outputs": [
        {
          "output_type": "display_data",
          "metadata": {},
          "data": {
            "text/html": [
              "<img src=\"data:image/png;base64,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\" />"
            ]
          }
        }
      ],
      "source": [
        "f(x) = (1-sin(x)) / (pi/2 - x)^2\n",
        "c = pi/2\n",
        "plot(f, c - pi/6, c + pi/6)"
      ],
      "id": "e0bb78c3"
    },
    {
      "cell_type": "markdown",
      "metadata": {},
      "source": [
        "From the graph, we see clearly that as $x$ is close to $c=\\pi/2$, $f(x)$\n",
        "is close to $1/2$. (The fact that `f(pi/2) = NaN` will either not come\n",
        "up, as `pi/2` is not among the points sampled or the `NaN` values will\n",
        "not be plotted.)\n",
        "\n",
        "## Using tables to investigate limits\n",
        "\n",
        "Investigating a limit numerically requires us to operationalize the idea\n",
        "of $x$ getting close to $c$ and $f(x)$ getting close to $L$. Here we do\n",
        "this manually:"
      ],
      "id": "10190b81-2884-4ede-bc9d-404acd088fc9"
    },
    {
      "cell_type": "code",
      "execution_count": 4,
      "metadata": {},
      "outputs": [
        {
          "output_type": "display_data",
          "metadata": {},
          "data": {
            "text/plain": [
              "(0.9983341664682815, 0.9999833334166665, 0.9999998333333416, 0.9999999983333334, 0.9999999999833332, 0.9999999999998334)"
            ]
          }
        }
      ],
      "source": [
        "f(x) = sin(x)/x\n",
        "f(0.1), f(0.01), f(0.001), f(0.0001), f(0.00001), f(0.000001)"
      ],
      "id": "132df3bb"
    },
    {
      "cell_type": "markdown",
      "metadata": {},
      "source": [
        "From this we see a *right* limit at 0 appears to be $1$.\n",
        "\n",
        "We can put the above into a column, by wrapping things in square\n",
        "brackets (forming a vector):"
      ],
      "id": "141b0f46-c9aa-476a-b987-45981299edcd"
    },
    {
      "cell_type": "code",
      "execution_count": 5,
      "metadata": {},
      "outputs": [
        {
          "output_type": "display_data",
          "metadata": {},
          "data": {
            "text/plain": [
              "6-element Vector{Float64}:\n",
              " 0.9983341664682815\n",
              " 0.9999833334166665\n",
              " 0.9999998333333416\n",
              " 0.9999999983333334\n",
              " 0.9999999999833332\n",
              " 0.9999999999998334"
            ]
          }
        }
      ],
      "source": [
        "[f(0.1), f(0.01), f(0.001), f(0.0001), f(0.00001), f(0.000001)]"
      ],
      "id": "4d85b4f3"
    },
    {
      "cell_type": "markdown",
      "metadata": {},
      "source": [
        "The style of printing makes it clear, the limit here should be $L=1$.\n",
        "\n",
        "Limits when $c\\neq 0$ are similar, but require points getting close to\n",
        "$c$. For example,\n",
        "\n",
        "$$\n",
        "\\lim_{x \\rightarrow \\pi/2} \\frac{1 - \\sin(x)}{(\\pi/2 - x)^2}\n",
        "$$\n",
        "\n",
        "has a limit of $1/2$. We can investigate with:"
      ],
      "id": "e7840500-b46b-4957-93bc-035f8f2abb8d"
    },
    {
      "cell_type": "code",
      "execution_count": 6,
      "metadata": {},
      "outputs": [
        {
          "output_type": "display_data",
          "metadata": {},
          "data": {
            "text/plain": [
              "5-element Vector{Float64}:\n",
              " 0.49958347219742816\n",
              " 0.4999999583256134\n",
              " 0.5000000413636343\n",
              " 0.49960036049791995\n",
              " 0.0"
            ]
          }
        }
      ],
      "source": [
        "c = pi/2\n",
        "f(x) = (1 - sin(x))/(pi/2 - x)^2\n",
        "[f(c+.1), f(c+.001), f(c+.00001), f(c+.0000001), f(c+.000000001)]"
      ],
      "id": "01dbf765"
    },
    {
      "cell_type": "markdown",
      "metadata": {},
      "source": [
        "Wait, is the limit $1/2$ or $0$? At first $1/2$ seems like the answer,\n",
        "but the last number is $0$.\n",
        "\n",
        "Here we see a limitation of tables - when numbers get too small, that\n",
        "fact that they are represented in floating point becomes important. In\n",
        "this case, for numbers too close to $\\pi/2$ the value on the computer\n",
        "for `sin(x)` is just 1 and not a number near 1. Hence the denominator\n",
        "becomes $0$, and so then the expression. (Near $1$, the floating point\n",
        "values are about $10^{-16}$ apart, so when two numbers are within\n",
        "$10^{-16}$ of each other, they can be rounded to the same number.) So\n",
        "watch out when seeing what the values of $f(x)$ get close to. Here it is\n",
        "clear that the limit is heading towards $0.5$ until we get too close.\n",
        "\n",
        "For convenience, the `lim` function from the `MTH229` package can make\n",
        "the above computations easier to do. Its use follows the common pattern:\n",
        "`action(function, arguments...)`. For example, the limit of $1$ is\n",
        "clearly suggested below:"
      ],
      "id": "d2deb755-4427-4979-9e2d-79669a70a7ed"
    },
    {
      "cell_type": "code",
      "execution_count": 7,
      "metadata": {},
      "outputs": [
        {
          "output_type": "display_data",
          "metadata": {},
          "data": {
            "text/html": [
              "<pre> 0.100000     0.9983341664682815\n",
              " 0.010000     <span class=\"ansi-bold\">0</span><span class=\"ansi-bold\">.</span><span class=\"ansi-bold\">9</span><span class=\"ansi-bold\">9</span>99833334166665\n",
              " 0.001000     <span class=\"ansi-bold\">0</span><span class=\"ansi-bold\">.</span><span class=\"ansi-bold\">9</span><span class=\"ansi-bold\">9</span><span class=\"ansi-bold\">9</span><span class=\"ansi-bold\">9</span>998333333416\n",
              " 0.000100     <span class=\"ansi-bold\">0</span><span class=\"ansi-bold\">.</span><span class=\"ansi-bold\">9</span><span class=\"ansi-bold\">9</span><span class=\"ansi-bold\">9</span><span class=\"ansi-bold\">9</span><span class=\"ansi-bold\">9</span><span class=\"ansi-bold\">9</span>9983333334\n",
              " 0.000010     <span class=\"ansi-bold\">0</span><span class=\"ansi-bold\">.</span><span class=\"ansi-bold\">9</span><span class=\"ansi-bold\">9</span><span class=\"ansi-bold\">9</span><span class=\"ansi-bold\">9</span><span class=\"ansi-bold\">9</span><span class=\"ansi-bold\">9</span><span class=\"ansi-bold\">9</span><span class=\"ansi-bold\">9</span>99833332\n",
              " 0.000001     <span class=\"ansi-bold\">0</span><span class=\"ansi-bold\">.</span><span class=\"ansi-bold\">9</span><span class=\"ansi-bold\">9</span><span class=\"ansi-bold\">9</span><span class=\"ansi-bold\">9</span><span class=\"ansi-bold\">9</span><span class=\"ansi-bold\">9</span><span class=\"ansi-bold\">9</span><span class=\"ansi-bold\">9</span><span class=\"ansi-bold\">9</span><span class=\"ansi-bold\">9</span>998334\n",
              "     ⋮              ⋮\n",
              "     c              L?\n",
              "     ⋮              ⋮\n",
              "-0.000001     <span class=\"ansi-bold\">0</span><span class=\"ansi-bold\">.</span><span class=\"ansi-bold\">9</span><span class=\"ansi-bold\">9</span><span class=\"ansi-bold\">9</span><span class=\"ansi-bold\">9</span><span class=\"ansi-bold\">9</span><span class=\"ansi-bold\">9</span><span class=\"ansi-bold\">9</span><span class=\"ansi-bold\">9</span><span class=\"ansi-bold\">9</span><span class=\"ansi-bold\">9</span>998334\n",
              "-0.000010     <span class=\"ansi-bold\">0</span><span class=\"ansi-bold\">.</span><span class=\"ansi-bold\">9</span><span class=\"ansi-bold\">9</span><span class=\"ansi-bold\">9</span><span class=\"ansi-bold\">9</span><span class=\"ansi-bold\">9</span><span class=\"ansi-bold\">9</span><span class=\"ansi-bold\">9</span><span class=\"ansi-bold\">9</span>99833332\n",
              "-0.000100     <span class=\"ansi-bold\">0</span><span class=\"ansi-bold\">.</span><span class=\"ansi-bold\">9</span><span class=\"ansi-bold\">9</span><span class=\"ansi-bold\">9</span><span class=\"ansi-bold\">9</span><span class=\"ansi-bold\">9</span><span class=\"ansi-bold\">9</span>9983333334\n",
              "-0.001000     <span class=\"ansi-bold\">0</span><span class=\"ansi-bold\">.</span><span class=\"ansi-bold\">9</span><span class=\"ansi-bold\">9</span><span class=\"ansi-bold\">9</span><span class=\"ansi-bold\">9</span>998333333416\n",
              "-0.010000     <span class=\"ansi-bold\">0</span><span class=\"ansi-bold\">.</span><span class=\"ansi-bold\">9</span><span class=\"ansi-bold\">9</span>99833334166665\n",
              "-0.100000     0.9983341664682815</pre>"
            ]
          }
        }
      ],
      "source": [
        "f(x) = sin(x) / x\n",
        "lim(f, 0)"
      ],
      "id": "ff30f3de"
    },
    {
      "cell_type": "markdown",
      "metadata": {},
      "source": [
        "The limit of $1/2$ is suggested by the following"
      ],
      "id": "573df535-4b66-4933-99b9-2dab0f65e36a"
    },
    {
      "cell_type": "code",
      "execution_count": 8,
      "metadata": {},
      "outputs": [
        {
          "output_type": "display_data",
          "metadata": {},
          "data": {
            "text/html": [
              "<pre>1.670796     0.49958347219742816\n",
              "1.580796     <span class=\"ansi-bold\">0</span><span class=\"ansi-bold\">.</span><span class=\"ansi-bold\">4</span><span class=\"ansi-bold\">9</span><span class=\"ansi-bold\">9</span>9958333473655\n",
              "1.571796     <span class=\"ansi-bold\">0</span><span class=\"ansi-bold\">.</span><span class=\"ansi-bold\">4</span><span class=\"ansi-bold\">9</span><span class=\"ansi-bold\">9</span><span class=\"ansi-bold\">9</span><span class=\"ansi-bold\">9</span>99583256134\n",
              "1.570896     <span class=\"ansi-bold\">0</span><span class=\"ansi-bold\">.</span><span class=\"ansi-bold\">4</span><span class=\"ansi-bold\">9</span><span class=\"ansi-bold\">9</span><span class=\"ansi-bold\">9</span><span class=\"ansi-bold\">9</span><span class=\"ansi-bold\">9</span><span class=\"ansi-bold\">9</span>969613747\n",
              "1.570806     <span class=\"ansi-bold\">0</span><span class=\"ansi-bold\">.</span>5000000413636343\n",
              "1.570797     <span class=\"ansi-bold\">0</span><span class=\"ansi-bold\">.</span><span class=\"ansi-bold\">5</span><span class=\"ansi-bold\">0</span><span class=\"ansi-bold\">0</span><span class=\"ansi-bold\">0</span>444503734445\n",
              "     ⋮              ⋮\n",
              "     c              L?\n",
              "     ⋮              ⋮\n",
              "1.570795     <span class=\"ansi-bold\">0</span><span class=\"ansi-bold\">.</span><span class=\"ansi-bold\">5</span><span class=\"ansi-bold\">0</span><span class=\"ansi-bold\">0</span><span class=\"ansi-bold\">0</span>444503734445\n",
              "1.570786     <span class=\"ansi-bold\">0</span><span class=\"ansi-bold\">.</span>5000000413636343\n",
              "1.570696     <span class=\"ansi-bold\">0</span><span class=\"ansi-bold\">.</span><span class=\"ansi-bold\">4</span><span class=\"ansi-bold\">9</span><span class=\"ansi-bold\">9</span><span class=\"ansi-bold\">9</span><span class=\"ansi-bold\">9</span><span class=\"ansi-bold\">9</span><span class=\"ansi-bold\">9</span>969613747\n",
              "1.569796     <span class=\"ansi-bold\">0</span><span class=\"ansi-bold\">.</span><span class=\"ansi-bold\">4</span><span class=\"ansi-bold\">9</span><span class=\"ansi-bold\">9</span><span class=\"ansi-bold\">9</span><span class=\"ansi-bold\">9</span>99583256134\n",
              "1.560796     <span class=\"ansi-bold\">0</span><span class=\"ansi-bold\">.</span><span class=\"ansi-bold\">4</span><span class=\"ansi-bold\">9</span><span class=\"ansi-bold\">9</span>9958333473655\n",
              "1.470796     0.49958347219742816</pre>"
            ]
          }
        }
      ],
      "source": [
        "f(x) = (1 - sin(x))/(pi/2 - x)^2\n",
        "lim(f, pi/2)"
      ],
      "id": "5d827351"
    },
    {
      "cell_type": "markdown",
      "metadata": {},
      "source": [
        "The above will generate values just bigger than `pi/2` and just smaller\n",
        "than `pi/2` which are helpful to investigate the limit from *both*\n",
        "sides. For just a *left* limit, pass in `dir=\"-\"`, as with"
      ],
      "id": "3b4984ec-0554-4dc2-bed7-b524835d6b14"
    },
    {
      "cell_type": "code",
      "execution_count": 9,
      "metadata": {},
      "outputs": [
        {
          "output_type": "display_data",
          "metadata": {},
          "data": {
            "text/html": [
              "<pre>     c              L?\n",
              "     ⋮              ⋮\n",
              "1.570795     <span class=\"ansi-bold\">0</span><span class=\"ansi-bold\">.</span><span class=\"ansi-bold\">5</span><span class=\"ansi-bold\">0</span><span class=\"ansi-bold\">0</span><span class=\"ansi-bold\">0</span>444503734445\n",
              "1.570786     <span class=\"ansi-bold\">0</span><span class=\"ansi-bold\">.</span>5000000413636343\n",
              "1.570696     <span class=\"ansi-bold\">0</span><span class=\"ansi-bold\">.</span><span class=\"ansi-bold\">4</span><span class=\"ansi-bold\">9</span><span class=\"ansi-bold\">9</span><span class=\"ansi-bold\">9</span><span class=\"ansi-bold\">9</span><span class=\"ansi-bold\">9</span><span class=\"ansi-bold\">9</span>969613747\n",
              "1.569796     <span class=\"ansi-bold\">0</span><span class=\"ansi-bold\">.</span><span class=\"ansi-bold\">4</span><span class=\"ansi-bold\">9</span><span class=\"ansi-bold\">9</span><span class=\"ansi-bold\">9</span><span class=\"ansi-bold\">9</span>99583256134\n",
              "1.560796     <span class=\"ansi-bold\">0</span><span class=\"ansi-bold\">.</span><span class=\"ansi-bold\">4</span><span class=\"ansi-bold\">9</span><span class=\"ansi-bold\">9</span>9958333473655\n",
              "1.470796     0.49958347219742816</pre>"
            ]
          }
        }
      ],
      "source": [
        "lim(f, pi/2, dir=\"-\")"
      ],
      "id": "fe9fb465"
    },
    {
      "cell_type": "markdown",
      "metadata": {},
      "source": [
        "Similarly, pass in `dir=\"+\"` to get just the right limit.\n",
        "\n",
        "## Symbolic limits\n",
        "\n",
        "The add-on package `SymPy` can be used to analytically compute the limit\n",
        "of a symbolic expression. The package is loaded when `MTH229` is.\n",
        "`SymPy` provides the `limit` function. A sample usage is shown below:"
      ],
      "id": "45870d7f-e502-4fee-81e7-7f92f0db7739"
    },
    {
      "cell_type": "code",
      "execution_count": 10,
      "metadata": {},
      "outputs": [],
      "source": [
        "f(x) = sin(x)/x\n",
        "@syms x\n",
        "limit(f(x), x => 0)"
      ],
      "id": "d0ffe84d"
    },
    {
      "cell_type": "markdown",
      "metadata": {},
      "source": [
        "The new command, `@syms x`, creates a symbolic variable named `x`. This\n",
        "makes `f(x)` a symbolic expression"
      ],
      "id": "82e0c4ef-57d2-4f64-8910-072a29dbaee6"
    },
    {
      "cell_type": "code",
      "execution_count": 11,
      "metadata": {},
      "outputs": [],
      "source": [
        "f(x)"
      ],
      "id": "4eccff9d"
    },
    {
      "cell_type": "markdown",
      "metadata": {},
      "source": [
        "To find the limit of an expression, `ex`, as a symbolic variable, `x`,\n",
        "goes towards some value `c`, `0` in the above example, is performed by\n",
        "the command `limit(ex, x => c)`.\n",
        "\n",
        "SymPy finds the *right limit by default*. A left limit can be asked for\n",
        "with the additional argument `dir=\"-\"`. Passing `dir=\"+-\"` to SymPy asks\n",
        "for both the left and right limit and a test for their equality (e.g.,\n",
        "the limit).\n",
        "\n",
        "------------------------------------------------------------------------"
      ],
      "id": "f2074309-d50c-40e6-b1bb-52bbbc49583c"
    },
    {
      "cell_type": "code",
      "execution_count": 12,
      "metadata": {},
      "outputs": [],
      "source": [
        "# Your commands go here\n"
      ],
      "id": "4fe72985"
    }
  ],
  "nbformat": 4,
  "nbformat_minor": 5,
  "metadata": {
    "kernelspec": {
      "name": "julia-1.11",
      "display_name": "Julia 1.11.2",
      "language": "julia",
      "path": "/Users/jverzani/Library/Jupyter/kernels/julia-1.11"
    },
    "language_info": {
      "name": "julia",
      "file_extension": ".jl",
      "mimetype": "application/julia",
      "version": "1.11.2"
    }
  }
}