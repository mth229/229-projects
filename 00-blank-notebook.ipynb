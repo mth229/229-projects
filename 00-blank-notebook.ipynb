{
  "cells": [
    {
      "cell_type": "markdown",
      "source": [
        "# Blank notebook\n\nThis is a blank notebook useful for test taking or as a scratch pad. New cells will appear at the bottom when the  last cell is run."
      ],
      "metadata": {}
    },
    {
      "outputs": [],
      "cell_type": "code",
      "source": [
        "using MTH229\nusing Plots"
      ],
      "metadata": {},
      "execution_count": null
    }
  ],
  "nbformat_minor": 2,
  "metadata": {
    "language_info": {
      "file_extension": ".jl",
      "mimetype": "application/julia",
      "name": "julia",
      "version": "1.7.0"
    },
    "kernelspec": {
      "name": "julia-1.7",
      "display_name": "Julia 1.7.0",
      "language": "julia"
    }
  },
  "nbformat": 4
}
