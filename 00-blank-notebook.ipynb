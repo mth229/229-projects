{
  "cells": [
    {
      "cell_type": "markdown",
      "metadata": {},
      "source": [
        "# Blank notebook\n",
        "\n",
        "This is a blank notebook.\n",
        "\n",
        "It is useful for test taking or as a scratch pad.\n",
        "\n",
        "New cells will appear at the bottom when the last cell is run."
      ],
      "id": "c9732844-1d4e-481b-ae78-5095ccd9dae3"
    },
    {
      "cell_type": "code",
      "execution_count": 1,
      "metadata": {},
      "outputs": [],
      "source": [
        "using MTH229\n",
        "using Plots\n",
        "plotly()"
      ],
      "id": "1f8f6353"
    },
    {
      "cell_type": "code",
      "execution_count": 2,
      "metadata": {},
      "outputs": [],
      "source": [
        "# Enter your commands here"
      ],
      "id": "faf22044"
    }
  ],
  "nbformat": 4,
  "nbformat_minor": 5,
  "metadata": {
    "kernelspec": {
      "name": "julia-1.11",
      "display_name": "Julia 1.11.2",
      "language": "julia",
      "path": "/Users/jverzani/Library/Jupyter/kernels/julia-1.11"
    }
  }
}