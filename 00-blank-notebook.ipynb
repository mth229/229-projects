{
  "cells": [
    {
      "cell_type": "markdown",
      "metadata": {},
      "source": [
        "# Blank notebook\n",
        "\n",
        "This is a blank notebook.\n",
        "\n",
        "It is useful for test taking or as a scratch pad.\n",
        "\n",
        "New cells will appear at the bottom when the last cell is run."
      ],
      "id": "b27dde36-d254-4624-9053-25c53a450ec4"
    },
    {
      "cell_type": "code",
      "execution_count": 1,
      "metadata": {},
      "outputs": [],
      "source": [
        "using MTH229\n",
        "using Plots\n",
        "plotly()"
      ],
      "id": "a3d856e5"
    },
    {
      "cell_type": "code",
      "execution_count": 2,
      "metadata": {},
      "outputs": [],
      "source": [
        "# Enter your commands here"
      ],
      "id": "31851f71"
    }
  ],
  "nbformat": 4,
  "nbformat_minor": 5,
  "metadata": {
    "kernelspec": {
      "name": "julia-1.10",
      "display_name": "Julia 1.10.0",
      "language": "julia",
      "path": "/Users/jverzani/Library/Jupyter/kernels/julia-1.10"
    }
  }
}