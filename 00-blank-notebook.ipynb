{
  "cells": [
    {
      "cell_type": "markdown",
      "metadata": {},
      "source": [
        "# Blank notebook\n",
        "\n",
        "This is a blank notebook.\n",
        "\n",
        "It is useful for test taking or as a scratch pad.\n",
        "\n",
        "New cells will appear at the bottom when the last cell is run."
      ],
      "id": "3f50eba2-c2a2-4a0b-980c-25cc15cd23d6"
    },
    {
      "cell_type": "code",
      "execution_count": 1,
      "metadata": {},
      "outputs": [],
      "source": [
        "using MTH229\n",
        "using Plots\n",
        "plotly()"
      ],
      "id": "f950889e"
    },
    {
      "cell_type": "code",
      "execution_count": 2,
      "metadata": {},
      "outputs": [],
      "source": [
        "# Enter your commands here"
      ],
      "id": "f43229f8"
    }
  ],
  "nbformat": 4,
  "nbformat_minor": 5,
  "metadata": {
    "kernelspec": {
      "name": "julia-1.10",
      "display_name": "Julia 1.10.0",
      "language": "julia",
      "path": "/Users/jverzani/Library/Jupyter/kernels/julia-1.10"
    },
    "language_info": {
      "name": "julia",
      "file_extension": ".jl",
      "mimetype": "application/julia",
      "version": "1.10.0"
    }
  }
}