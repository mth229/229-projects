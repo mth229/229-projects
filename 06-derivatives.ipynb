{
  "cells": [
    {
      "cell_type": "markdown",
      "metadata": {},
      "source": [
        "# \n",
        "\n",
        "# Approximate derivatives with Julia\n",
        "\n",
        "To get started, we load the `MTH229` package and a plotting package:"
      ],
      "id": "c37ab838-a17d-4ccc-926a-009c721a2d23"
    },
    {
      "cell_type": "code",
      "execution_count": 0,
      "metadata": {},
      "outputs": [],
      "source": [
        "using MTH229\n",
        "using Plots\n",
        "plotly()"
      ],
      "id": "2"
    },
    {
      "cell_type": "markdown",
      "metadata": {},
      "source": [
        "------------------------------------------------------------------------\n",
        "\n",
        "### Quick background\n",
        "\n",
        "Read about this material here: [Approximate derivatives in\n",
        "julia](http://mth229.github.io/derivatives.html).\n",
        "\n",
        "For the impatient, A secant line connecting points on the graph of\n",
        "$f(x)$ between $x=c$ and $x = c+h$ has slope:\n",
        "\n",
        "$$\n",
        "\\frac{f(c+h) - f(c)}{h}.\n",
        "$$\n",
        "\n",
        "The slope of the tangent line to the graph of $f(x)$ at the point\n",
        "$(c,f(c))$ is given by taking the limit as $h$ goes to $0$:\n",
        "\n",
        "$$\n",
        "\\lim_{h \\rightarrow 0} \\frac{f(c + h) - f(c)}{h}.\n",
        "$$\n",
        "\n",
        "The notation for this - when the limit exists - is $f'(c)$.\n",
        "\n",
        "In general the derivative of a function $f(x)$ is the function $f'(x)$,\n",
        "which returns the slope of the tangent line for each $x$ where it is\n",
        "defined. Though finding derivatives of mathematical functions is a skill\n",
        "that can be mastered, there are scenarios where approximating the value\n",
        "is desirable.\n",
        "\n",
        "#### Approximate derivatives\n",
        "\n",
        "We can approximate the slope of the tangent line several ways. The\n",
        "*forward difference quotient* takes a small value of $h$ and uses the\n",
        "value $(f(x+h) - f(x))/h$ as an approximation.\n",
        "\n",
        "For example, to estimate the derivative of $x^{\\ln(x)}$ at $c=2$ with\n",
        "`h=1e-6` we could have"
      ],
      "id": "4ee5c269-b815-4937-ab88-b68400d0987f"
    },
    {
      "cell_type": "code",
      "execution_count": 1,
      "metadata": {},
      "outputs": [
        {
          "output_type": "display_data",
          "metadata": {},
          "data": {
            "text/plain": [
              "1.120685498845475"
            ]
          }
        }
      ],
      "source": [
        "f(x) = x^log(x)\n",
        "c, h = 2, 1e-6\n",
        "(f(c+h) - f(c))/h"
      ],
      "id": "6"
    },
    {
      "cell_type": "markdown",
      "metadata": {},
      "source": [
        "The above pattern finds the approximate derivative at the point $c$.\n",
        "Though this can be pushed to return a function giving the derivative at\n",
        "any point, we will use the more convenient solution described next for\n",
        "finding the derivative as a function, when applicable.\n",
        "\n",
        "#### Automatic derivatives\n",
        "\n",
        "In mathematics we use the notation $f'(x)$ to refer to the function that\n",
        "computes the derivative of $f(x)$ at a given $x$. The `MTH229` package\n",
        "provides the same notation in `Julia`. In the background, this uses\n",
        "*automatic differentiation*, as provided by the `ForwardDiff` package,\n",
        "to compute the derivative. Automatic differentiation is a tad slower\n",
        "than using a hand-computed derivative, but as accurate as that, and much\n",
        "easier and more accurate than using an *approximate derivative*.\n",
        "\n",
        "The `MTH229` package, using `ForwardDiff.derivative`, overloads the\n",
        "default meaning of `'` allowing the usual notation for a derivative to\n",
        "be used:"
      ],
      "id": "d9cdf85d-c8fe-4701-9653-b2f8af932ccb"
    },
    {
      "cell_type": "code",
      "execution_count": 1,
      "metadata": {},
      "outputs": [
        {
          "output_type": "display_data",
          "metadata": {},
          "data": {
            "text/plain": [
              "(-1.0, -1.2246467991473532e-16)"
            ]
          }
        }
      ],
      "source": [
        "f(x) = sin(x)\n",
        "f'(pi), f''(pi)"
      ],
      "id": "8"
    },
    {
      "cell_type": "markdown",
      "metadata": {},
      "source": [
        "(The math notation is followed by `Julia`, in that `f'` itself returns a\n",
        "function which evaluates the derivative, and `f'(pi)` first computes the\n",
        "derivative and then evaluates that function at `pi`.)\n",
        "\n",
        "#### Symbolic derivatives\n",
        "\n",
        "Automatic differentiation gives accurate numeric values for first,\n",
        "second, and even higher-order derivatives. It does not however, return\n",
        "the expression one would get were these computed by hand. The `diff`\n",
        "function from `SymPy` will find symbolic derivatives, similar to what is\n",
        "achieved when differentiating “by hand,” though for many problems the\n",
        "effort will be much less.\n",
        "\n",
        "The `diff` function can be called with a symbolic expression and a\n",
        "variable to differentiate in:"
      ],
      "id": "9bdeb5e5-564e-42cd-8a4d-ce138f3e44c8"
    },
    {
      "cell_type": "code",
      "execution_count": 1,
      "metadata": {},
      "outputs": [
        {
          "output_type": "display_data",
          "metadata": {},
          "data": {
            "text/plain": [
              "                     ⎛ 2⎞        \n",
              "     ⎛ 2⎞            ⎝x ⎠        \n",
              "     ⎝x ⎠           ℯ    ⋅cos(√x)\n",
              "2⋅x⋅ℯ    ⋅sin(√x) + ─────────────\n",
              "                         2⋅√x    "
            ]
          }
        }
      ],
      "source": [
        "f(x) = exp(x^2) * sin(sqrt(x))\n",
        "@syms x\n",
        "diff(f(x), x)"
      ],
      "id": "10"
    },
    {
      "cell_type": "markdown",
      "metadata": {},
      "source": [
        "Symbolic expressions can be generated by passing `x` into the function,\n",
        "as illustrated, or written directly, as in\n",
        "`diff(exp(x^2)*sin(sqrt(x)), x)`.\n",
        "\n",
        "### Tangent lines\n",
        "\n",
        "The tangent line to the graph of $f(x)$ at $x=c$ is given by\n",
        "$y=f(c)+f'(c)(x-c)$. It is fairly easy to plot both the function and its\n",
        "tangent line - we just need a function to compute the tangent line. Such\n",
        "a function, `tangent(f,c)` is found in the `MTH229` package. This\n",
        "function consumes a function (`f`) and a point (`c`) and returns a\n",
        "**function** of `x` returning the `y` values of the tangent line."
      ],
      "id": "89b7e60b-95dd-4c9c-ba05-1a6643a93dfc"
    },
    {
      "cell_type": "code",
      "execution_count": 1,
      "metadata": {},
      "outputs": [
        {
          "output_type": "display_data",
          "metadata": {},
          "data": {
            "text/plain": [
              "Function of `x` to compute the tangent line of `f` at `c`:\n",
              "    f(c) + f'(c) * (x-c)"
            ]
          }
        }
      ],
      "source": [
        "f(x) = x^x\n",
        "a,b = 1/2, 2\n",
        "c = 1\n",
        "sl = secant(f, a, b)\n",
        "tl = tangent(f, c)"
      ],
      "id": "12"
    },
    {
      "cell_type": "markdown",
      "metadata": {},
      "source": [
        "Here we see how to use it and the related `secant(f,a,b)` function:"
      ],
      "id": "541eaeee-fd94-4b7f-9e31-5bdce4134090"
    },
    {
      "cell_type": "code",
      "execution_count": 1,
      "metadata": {},
      "outputs": [
        {
          "output_type": "display_data",
          "metadata": {},
          "data": {
            "text/html": [
              "<img src=\"data:image/png;base64,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\" />"
            ]
          }
        }
      ],
      "source": [
        "plot(f, 1/4, 2.5, legend=false)\n",
        "plot!(sl)\n",
        "plot!(tl)"
      ],
      "id": "14"
    },
    {
      "cell_type": "markdown",
      "metadata": {},
      "source": [
        "Suppose the intersection point between the secant and tangent lines\n",
        "between $0$ and $0.5$ is to be identified. This can be done with:"
      ],
      "id": "432e0b90-1a9f-4fea-be33-38610fa7a877"
    },
    {
      "cell_type": "code",
      "execution_count": 1,
      "metadata": {},
      "outputs": [
        {
          "output_type": "display_data",
          "metadata": {},
          "data": {
            "text/plain": [
              "0.3267268967722361"
            ]
          }
        }
      ],
      "source": [
        "u(x) = tl(x) - sl(x)\n",
        "fzero(u, 0, 0.5)"
      ],
      "id": "16"
    },
    {
      "cell_type": "markdown",
      "metadata": {},
      "source": [
        "#### Higher-order derivatives\n",
        "\n",
        "Higher-order derivatives can be computed as well:\n",
        "\n",
        "Automatic derivatives can be computed using the usual notation, e.g.,\n",
        "`f''` to find $f''(x)$.\n",
        "\n",
        "Higher-order symbolic derivatives can be computed by passing the order\n",
        "to `diff` as a second argument, as in `diff(f(x), x, n)`.\n",
        "\n",
        "For example, consider $f(x) = e^x \\sin(x)$. We have:"
      ],
      "id": "b7dccc35-a41a-4430-81c8-66e7db8d9723"
    },
    {
      "cell_type": "code",
      "execution_count": 1,
      "metadata": {},
      "outputs": [
        {
          "output_type": "display_data",
          "metadata": {},
          "data": {
            "text/plain": [
              "-39.769061688293974"
            ]
          }
        }
      ],
      "source": [
        "f(x) = exp(x) * sin(x)\n",
        "f''(3)"
      ],
      "id": "18"
    },
    {
      "cell_type": "markdown",
      "metadata": {},
      "source": [
        "As compared to the symbolic answer:"
      ],
      "id": "7acff907-9694-4d79-9c78-118e471dbee5"
    },
    {
      "cell_type": "code",
      "execution_count": 1,
      "metadata": {},
      "outputs": [
        {
          "output_type": "display_data",
          "metadata": {},
          "data": {
            "text/plain": [
              "   x       \n",
              "2⋅ℯ ⋅cos(x)"
            ]
          }
        }
      ],
      "source": [
        "@syms x\n",
        "fpp = diff(f(x), x, 2) # or diff(f(x), x, x)"
      ],
      "id": "20"
    },
    {
      "cell_type": "markdown",
      "metadata": {},
      "source": [
        "and its numeric value at `3`:"
      ],
      "id": "e0e46697-24e5-4e5e-8bdb-76bf0fe2b250"
    },
    {
      "cell_type": "code",
      "execution_count": 1,
      "metadata": {},
      "outputs": [
        {
          "output_type": "display_data",
          "metadata": {},
          "data": {
            "text/plain": [
              "-39.76906168829398"
            ]
          }
        }
      ],
      "source": [
        "float(fpp(3))    # make numeric"
      ],
      "id": "22"
    },
    {
      "cell_type": "markdown",
      "metadata": {},
      "source": [
        "------------------------------------------------------------------------"
      ],
      "id": "90100e51-0e37-4d7d-8232-fd7b6f64faa9"
    },
    {
      "cell_type": "code",
      "execution_count": 1,
      "metadata": {},
      "outputs": [],
      "source": [
        "# Your commands go here\n"
      ],
      "id": "24"
    }
  ],
  "nbformat": 4,
  "nbformat_minor": 5,
  "metadata": {
    "kernel_info": {
      "name": "julia"
    },
    "kernelspec": {
      "name": "julia",
      "display_name": "Julia",
      "language": "julia"
    },
    "language_info": {
      "name": "julia",
      "codemirror_mode": "julia",
      "version": "1.10.0"
    }
  }
}