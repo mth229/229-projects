{
  "cells": [
    {
      "cell_type": "markdown",
      "metadata": {},
      "source": [
        "# \n",
        "\n",
        "# Approximate derivatives with Julia\n",
        "\n",
        "To get started, we load the `MTH229` package and a plotting package:"
      ],
      "id": "17866994-7e6e-49a0-8e8d-df5470fd9a69"
    },
    {
      "cell_type": "code",
      "execution_count": 1,
      "metadata": {},
      "outputs": [],
      "source": [
        "using MTH229\n",
        "using Plots\n",
        "plotly()"
      ],
      "id": "e149e887"
    },
    {
      "cell_type": "markdown",
      "metadata": {},
      "source": [
        "------------------------------------------------------------------------\n",
        "\n",
        "### Quick background\n",
        "\n",
        "Read about this material here: [Approximate derivatives in\n",
        "julia](http://mth229.github.io/derivatives.html).\n",
        "\n",
        "For the impatient, A secant line connecting points on the graph of\n",
        "$f(x)$ between $x=c$ and $x = c+h$ has slope:\n",
        "\n",
        "$$\n",
        "\\frac{f(c+h) - f(c)}{h}.\n",
        "$$\n",
        "\n",
        "The slope of the tangent line to the graph of $f(x)$ at the point\n",
        "$(c,f(c))$ is given by taking the limit as $h$ goes to $0$:\n",
        "\n",
        "$$\n",
        "\\lim_{h \\rightarrow 0} \\frac{f(c + h) - f(c)}{h}.\n",
        "$$\n",
        "\n",
        "The notation for this - when the limit exists - is $f'(c)$.\n",
        "\n",
        "In general the derivative of a function $f(x)$ is the function $f'(x)$,\n",
        "which returns the slope of the tangent line for each $x$ where it is\n",
        "defined. Though finding derivatives of mathematical functions is a skill\n",
        "that can be mastered, there are scenarios where approximating the value\n",
        "is desirable.\n",
        "\n",
        "#### Approximate derivatives\n",
        "\n",
        "We can approximate the slope of the tangent line several ways. The\n",
        "*forward [difference\n",
        "quotient](https://en.wikipedia.org/wiki/Difference_quotient)* takes a\n",
        "small value of $h$ and uses the value $(f(x+h) - f(x))/h$ as an\n",
        "approximation to $f'(x)$.\n",
        "\n",
        "For example, to estimate the derivative of $x^{\\ln(x)}$ at $c=2$ with\n",
        "`h=1e-6` we could have"
      ],
      "id": "bea8d265-d167-4164-b165-0c9d2c67281f"
    },
    {
      "cell_type": "code",
      "execution_count": 3,
      "metadata": {},
      "outputs": [
        {
          "output_type": "display_data",
          "metadata": {},
          "data": {
            "text/plain": [
              "1.120685498845475"
            ]
          }
        }
      ],
      "source": [
        "f(x) = x^log(x)\n",
        "c, h = 2, 1e-6\n",
        "(f(c+h) - f(c)) / h"
      ],
      "id": "f2232867"
    },
    {
      "cell_type": "markdown",
      "metadata": {},
      "source": [
        "The above pattern finds the approximate derivative at the point $c$.\n",
        "Though this can be pushed to return a function giving the derivative at\n",
        "any point, we will use the more convenient solution described next for\n",
        "finding the derivative as a function, when applicable.\n",
        "\n",
        "#### Automatic derivatives\n",
        "\n",
        "In mathematics we use the notation $f'(x)$ to refer to the function that\n",
        "computes the derivative of $f(x)$ at a given $x$. The `MTH229` package\n",
        "provides the same notation in `Julia`. In the background, this uses\n",
        "*automatic differentiation*, as provided by the `ForwardDiff` package,\n",
        "to compute the derivative. Automatic differentiation is a tad slower\n",
        "than using a \\* \\[ \\] hand-computed derivative, but as accurate as that,\n",
        "and much easier and more accurate than using an *approximate\n",
        "derivative*.\n",
        "\n",
        "The `MTH229` package, using `ForwardDiff.derivative`, overloads the\n",
        "default meaning of `'` allowing the usual notation for a derivative to\n",
        "be used:"
      ],
      "id": "fdd7a2c8-224a-4033-9359-00e52ef3713b"
    },
    {
      "cell_type": "code",
      "execution_count": 4,
      "metadata": {},
      "outputs": [
        {
          "output_type": "display_data",
          "metadata": {},
          "data": {
            "text/plain": [
              "(-1.0, -1.2246467991473532e-16)"
            ]
          }
        }
      ],
      "source": [
        "f(x) = sin(x)\n",
        "f'(pi), f''(pi)"
      ],
      "id": "8227dcc7"
    },
    {
      "cell_type": "markdown",
      "metadata": {},
      "source": [
        "(The math notation is followed by `Julia`, in that `f'` itself returns a\n",
        "function which evaluates the derivative, and `f'(pi)` first computes the\n",
        "derivative and then evaluates that function at `pi`.)\n",
        "\n",
        "#### Symbolic derivatives\n",
        "\n",
        "Automatic differentiation gives accurate numeric values for first,\n",
        "second, and even higher-order derivatives. It does not however, return\n",
        "the expression one would get were these computed by hand. The `diff`\n",
        "function from `SymPy` will find symbolic derivatives, similar to what is\n",
        "achieved when differentiating “by hand,” though for many problems the\n",
        "effort will be much less.\n",
        "\n",
        "The `diff` function can be called with a symbolic expression and a\n",
        "variable to differentiate in:"
      ],
      "id": "78e559dd-19db-45f7-b255-44419e557b39"
    },
    {
      "cell_type": "code",
      "execution_count": 5,
      "metadata": {},
      "outputs": [],
      "source": [
        "f(x) = exp(x^2) * sin(sqrt(x))\n",
        "@syms x\n",
        "diff(f(x), x)"
      ],
      "id": "6ff9f3a5"
    },
    {
      "cell_type": "markdown",
      "metadata": {},
      "source": [
        "Symbolic expressions can be generated by passing `x` into the function,\n",
        "as illustrated, or written directly, as in\n",
        "`diff(exp(x^2)*sin(sqrt(x)), x)`.\n",
        "\n",
        "### Tangent lines\n",
        "\n",
        "The tangent line to the graph of $f(x)$ at $x=c$ is given by\n",
        "$y=f(c)+f'(c)(x-c)$. It is fairly easy to plot both the function and its\n",
        "tangent line — we just need a function to compute the tangent line. Such\n",
        "a function, `tangent(f,c)` is found in the `MTH229` package. This\n",
        "function consumes a function (`f`) and a point (`c`) and returns a\n",
        "**function** of `x` returning the `y` values of the tangent line."
      ],
      "id": "a761b5d7-6576-4d58-a6c4-f8fff86da238"
    },
    {
      "cell_type": "code",
      "execution_count": 6,
      "metadata": {},
      "outputs": [
        {
          "output_type": "display_data",
          "metadata": {},
          "data": {
            "text/plain": [
              "Function of `x` to compute the tangent line of `f` at `c`:\n",
              "    f(c) + f'(c) * (x-c)"
            ]
          }
        }
      ],
      "source": [
        "f(x) = x^x\n",
        "a,b = 1/2, 2\n",
        "c = 1\n",
        "sl = secant(f, a, b)\n",
        "tl = tangent(f, c)"
      ],
      "id": "118c0db1"
    },
    {
      "cell_type": "markdown",
      "metadata": {},
      "source": [
        "Here we see how to use it and the related `secant(f,a,b)` function:"
      ],
      "id": "8f68a464-786e-4170-9448-173c53d8b0c0"
    },
    {
      "cell_type": "code",
      "execution_count": 7,
      "metadata": {},
      "outputs": [
        {
          "output_type": "display_data",
          "metadata": {},
          "data": {
            "text/html": [
              "<img src=\"data:image/png;base64,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\" />"
            ]
          }
        }
      ],
      "source": [
        "plot(f, 1/4, 2.5, legend=false)\n",
        "plot!(sl)\n",
        "plot!(tl)"
      ],
      "id": "263864af"
    },
    {
      "cell_type": "markdown",
      "metadata": {},
      "source": [
        "Suppose the intersection point between the secant and tangent lines\n",
        "between $0$ and $0.5$ is to be identified. This can be done with:"
      ],
      "id": "14a42daa-068d-4d48-8edb-5c2231fd6f7b"
    },
    {
      "cell_type": "code",
      "execution_count": 8,
      "metadata": {},
      "outputs": [
        {
          "output_type": "display_data",
          "metadata": {},
          "data": {
            "text/plain": [
              "0.3267268967722361"
            ]
          }
        }
      ],
      "source": [
        "eqn(x) = tl(x) - sl(x)\n",
        "fzero(eqn, 0, 0.5)"
      ],
      "id": "3d86cd48"
    },
    {
      "cell_type": "markdown",
      "metadata": {},
      "source": [
        "#### Higher-order derivatives\n",
        "\n",
        "Higher-order derivatives can be computed as well:\n",
        "\n",
        "Automatic derivatives can be computed using the usual notation, e.g.,\n",
        "`f''` to find $f''(x)$.\n",
        "\n",
        "Higher-order symbolic derivatives can be computed by passing the order\n",
        "to `diff` as a second argument, as in `diff(f(x), x, n)`.\n",
        "\n",
        "For example, consider $f(x) = e^x \\sin(x)$. We have:"
      ],
      "id": "307c6c55-d8d9-4691-ad06-3ee0a121b643"
    },
    {
      "cell_type": "code",
      "execution_count": 9,
      "metadata": {},
      "outputs": [
        {
          "output_type": "display_data",
          "metadata": {},
          "data": {
            "text/plain": [
              "-39.769061688293974"
            ]
          }
        }
      ],
      "source": [
        "f(x) = exp(x) * sin(x)\n",
        "f''(3)"
      ],
      "id": "60cab8fa"
    },
    {
      "cell_type": "markdown",
      "metadata": {},
      "source": [
        "As compared to the symbolic answer:"
      ],
      "id": "819bd9f5-ec3e-4cb6-aca3-5b8ad7ce8004"
    },
    {
      "cell_type": "code",
      "execution_count": 10,
      "metadata": {},
      "outputs": [],
      "source": [
        "@syms x\n",
        "fpp = diff(f(x), x, 2) # or diff(f(x), x, x)"
      ],
      "id": "4beba7c7"
    },
    {
      "cell_type": "markdown",
      "metadata": {},
      "source": [
        "and its numeric value at `3`:"
      ],
      "id": "f1c5aefe-1bda-4c55-b25f-85819527a57e"
    },
    {
      "cell_type": "code",
      "execution_count": 11,
      "metadata": {},
      "outputs": [
        {
          "output_type": "display_data",
          "metadata": {},
          "data": {
            "text/plain": [
              "-39.76906168829398"
            ]
          }
        }
      ],
      "source": [
        "float(fpp(3))    # make numeric"
      ],
      "id": "c97970e1"
    },
    {
      "cell_type": "markdown",
      "metadata": {},
      "source": [
        "------------------------------------------------------------------------"
      ],
      "id": "f0ca6c19-7ebb-4824-8e33-9bafc3c3f464"
    },
    {
      "cell_type": "code",
      "execution_count": 12,
      "metadata": {},
      "outputs": [],
      "source": [
        "# Your commands go here"
      ],
      "id": "948293a9"
    }
  ],
  "nbformat": 4,
  "nbformat_minor": 5,
  "metadata": {
    "kernelspec": {
      "name": "julia-1.11",
      "display_name": "Julia 1.11.2",
      "language": "julia",
      "path": "/Users/jverzani/Library/Jupyter/kernels/julia-1.11"
    },
    "language_info": {
      "name": "julia",
      "file_extension": ".jl",
      "mimetype": "application/julia",
      "version": "1.11.2"
    }
  }
}