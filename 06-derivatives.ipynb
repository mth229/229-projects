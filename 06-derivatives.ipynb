{
 "cells": [
  {
   "cell_type": "markdown",
   "metadata": {
    "internals": {
     "slide_helper": "subslide_end",
     "slide_type": "subslide"
    },
    "slide_helper": "slide_end",
    "slideshow": {
     "slide_type": "slide"
    }
   },
   "source": [
    "# Approximate derivatives with Julia\n"
   ]
  },
  {
   "cell_type": "markdown",
   "metadata": {},
   "source": [
    "To get started, we load the `MTH229` package and a plotting package:\n"
   ]
  },
  {
   "cell_type": "code",
   "execution_count": 1,
   "metadata": {},
   "outputs": [
    {
     "name": "stderr",
     "output_type": "stream",
     "text": [
      "┌ Info: For saving to png with the Plotly backend PlotlyBase has to be installed.\n",
      "└ @ Plots /Users/verzani/.julia/packages/Plots/1KWPG/src/backends.jl:318\n"
     ]
    },
    {
     "data": {
      "text/plain": [
       "Plots.PlotlyBackend()"
      ]
     },
     "execution_count": 1,
     "metadata": {},
     "output_type": "execute_result"
    }
   ],
   "source": [
    "using MTH229\n",
    "using Plots\n",
    "plotly()"
   ]
  },
  {
   "cell_type": "markdown",
   "metadata": {},
   "source": [
    "---\n"
   ]
  },
  {
   "cell_type": "markdown",
   "metadata": {
    "internals": {
     "slide_type": "subslide"
    },
    "slide_helper": "slide_end",
    "slideshow": {
     "slide_type": "subslide"
    }
   },
   "source": [
    "### Quick background\n"
   ]
  },
  {
   "cell_type": "markdown",
   "metadata": {},
   "source": [
    "Read about this material here: [Approximate derivatives in julia](http://mth229.github.io/derivatives.html).\n"
   ]
  },
  {
   "cell_type": "markdown",
   "metadata": {},
   "source": [
    "For the impatient, A secant line connecting points on the graph of $f(x)$ between $x=c$ and $x = c+h$ has slope:\n"
   ]
  },
  {
   "cell_type": "markdown",
   "metadata": {},
   "source": [
    "$$ \\frac{f(c+h) - f(c)}{h}. $$\n"
   ]
  },
  {
   "cell_type": "markdown",
   "metadata": {},
   "source": [
    "The slope of the tangent line to the graph of $f(x)$ at the point $(c,f(c))$ is given by taking the limit as $h$ goes to $0$:\n"
   ]
  },
  {
   "cell_type": "markdown",
   "metadata": {},
   "source": [
    "$$ \\lim_{h \\rightarrow 0} \\frac{f(c + h) - f(c)}{h}. $$\n"
   ]
  },
  {
   "cell_type": "markdown",
   "metadata": {},
   "source": [
    "The notation for this - when the limit exists - is $f'(c)$.\n"
   ]
  },
  {
   "cell_type": "markdown",
   "metadata": {},
   "source": [
    "In general the derivative of a function $f(x)$ is the function $f'(x)$, which returns the slope of the tangent line for each $x$ where it is defined. For many functions, finding the derivative is straightforward, though may be complicated enough to seek alternatives. At times approximating the value is desirable.\n"
   ]
  },
  {
   "cell_type": "markdown",
   "metadata": {
    "internals": {
     "slide_type": "subslide"
    },
    "slide_helper": "slide_end",
    "slideshow": {
     "slide_type": "subslide"
    }
   },
   "source": [
    "#### Approximate derivatives\n"
   ]
  },
  {
   "cell_type": "markdown",
   "metadata": {},
   "source": [
    "We can approximate the slope of the tangent line several ways. The *forward difference quotient* takes a small value of $h$ and uses the value $(f(x+h) - f(x))/h$ as an approximation.\n"
   ]
  },
  {
   "cell_type": "markdown",
   "metadata": {},
   "source": [
    "For example, to estimate the derivative of $x^{\\ln(x)}$ at $c=2$ with `h=1e-6` we could have\n"
   ]
  },
  {
   "cell_type": "code",
   "execution_count": 2,
   "metadata": {},
   "outputs": [
    {
     "data": {
      "text/plain": [
       "1.120685498845475"
      ]
     },
     "execution_count": 2,
     "metadata": {},
     "output_type": "execute_result"
    }
   ],
   "source": [
    "f(x) = x^log(x)\n",
    "c, h = 2, 1e-6\n",
    "(f(c+h) - f(c))/h"
   ]
  },
  {
   "cell_type": "markdown",
   "metadata": {},
   "source": [
    "The above pattern finds the approximate derivative at the point $c$. Though this can be pushed to return a function giving the derivative at any point, we will use the more convenient solution described next for finding the derivative as a function, when applicable.\n"
   ]
  },
  {
   "cell_type": "markdown",
   "metadata": {
    "internals": {
     "slide_type": "subslide"
    },
    "slide_helper": "slide_end",
    "slideshow": {
     "slide_type": "subslide"
    }
   },
   "source": [
    "#### Automatic derivatives\n"
   ]
  },
  {
   "cell_type": "markdown",
   "metadata": {},
   "source": [
    "In mathematics we use the notation $f'(x)$ to refer to the function that computes the derivative of $f(x)$ at a given $x$. The `MTH229` package provides the same notation in `Julia`. In  the  background, this uses *automatic differentiation*, as provided by the `ForwardDiff` package, to compute the  derivative. Automatic differentiation is a tad slower than using a hand-computed derivative, but as accurate as that, and much easier and   more  accurate than using an *approximate derivative*.\n"
   ]
  },
  {
   "cell_type": "markdown",
   "metadata": {},
   "source": [
    "The `MTH229` package, using `ForwardDiff.derivative`, overloads  the default meaning of `'` allowing the usual notation for a derivative to be used:\n"
   ]
  },
  {
   "cell_type": "code",
   "execution_count": 3,
   "metadata": {},
   "outputs": [
    {
     "data": {
      "text/plain": [
       "(-1.0, -1.2246467991473532e-16)"
      ]
     },
     "execution_count": 3,
     "metadata": {},
     "output_type": "execute_result"
    }
   ],
   "source": [
    "f(x) = sin(x)\n",
    "f'(pi), f''(pi)"
   ]
  },
  {
   "cell_type": "markdown",
   "metadata": {},
   "source": [
    "(The math notation is followed by `Julia`, in that `f'` itself returns a function which evaluates the derivative, and `f'(pi)` first computes the derivative and then evaluates that function at `pi`.)\n"
   ]
  },
  {
   "cell_type": "markdown",
   "metadata": {
    "internals": {
     "slide_type": "subslide"
    },
    "slide_helper": "slide_end",
    "slideshow": {
     "slide_type": "subslide"
    }
   },
   "source": [
    "#### Symbolic derivatives\n"
   ]
  },
  {
   "cell_type": "markdown",
   "metadata": {},
   "source": [
    "Automatic differentiation gives accurate numeric values for first, second, and even higher-order derivatives. It does not however, return the expression one would get were these computed by hand. The `diff` function from `SymPy` will find symbolic derivatives, similar to what is achieved when differentiating \"by hand,\" though for many problems the effort will be much less.\n"
   ]
  },
  {
   "cell_type": "markdown",
   "metadata": {},
   "source": [
    "The `diff` function can be called with a symbolic expression and a variable to differentiate in:\n"
   ]
  },
  {
   "cell_type": "code",
   "execution_count": 4,
   "metadata": {},
   "outputs": [
    {
     "data": {
      "text/latex": [
       "$2 x e^{x^{2}} \\sin{\\left(\\sqrt{x} \\right)} + \\frac{e^{x^{2}} \\cos{\\left(\\sqrt{x} \\right)}}{2 \\sqrt{x}}$"
      ],
      "text/plain": [
       "                     ⎛ 2⎞        \n",
       "     ⎛ 2⎞            ⎝x ⎠        \n",
       "     ⎝x ⎠           ℯ    ⋅cos(√x)\n",
       "2⋅x⋅ℯ    ⋅sin(√x) + ─────────────\n",
       "                         2⋅√x    "
      ]
     },
     "execution_count": 4,
     "metadata": {},
     "output_type": "execute_result"
    }
   ],
   "source": [
    "f(x) = exp(x^2) * sin(sqrt(x))\n",
    "@syms x\n",
    "diff(f(x), x)"
   ]
  },
  {
   "cell_type": "markdown",
   "metadata": {},
   "source": [
    "Symbolic expressions can be generated by passing `x` into the function, as illustrated, or written directly, as in `diff(exp(x^2)*sin(sqrt(x)), x)`.\n"
   ]
  },
  {
   "cell_type": "markdown",
   "metadata": {
    "internals": {
     "slide_type": "subslide"
    },
    "slide_helper": "slide_end",
    "slideshow": {
     "slide_type": "subslide"
    }
   },
   "source": [
    "### Tangent lines\n"
   ]
  },
  {
   "cell_type": "markdown",
   "metadata": {},
   "source": [
    "The tangent line to the graph of $f(x)$ at $x=c$ is given by $y=f(c)+f'(c)(x-c)$.  It is fairly easy to plot both the function and its tangent line - we just need a function to compute the tangent line. Such a function, `tangent(f,c)` is found in the `MTH229` package. This function consumes a function (`f`) and a point (`c`) and returns a **function** of `x` returning the `y` values of the tangent line.\n"
   ]
  },
  {
   "cell_type": "markdown",
   "metadata": {},
   "source": [
    "Here we see how to use it and the related  `secant(f,a,b)` function:\n"
   ]
  },
  {
   "cell_type": "code",
   "execution_count": 5,
   "metadata": {},
   "outputs": [
    {
     "data": {
      "application/vnd.plotly.v1+json": {
       "data": [
        {
         "colorbar": {
          "title": ""
         },
         "legendgroup": "y1",
         "line": {
          "color": "rgba(0, 154, 250, 1.000)",
          "dash": "solid",
          "shape": "linear",
          "width": 1
         },
         "mode": "lines",
         "name": "y1",
         "showlegend": true,
         "type": "scatter",
         "x": [
          0.25,
          0.2719730927945233,
          0.4751460636288388,
          0.5972445504376538,
          0.7004772671104729,
          0.8126169325743657,
          0.9159997852029134,
          1.0268371294146021,
          1.1552530622616977,
          1.2693739887497981,
          1.369447757215495,
          1.4785550274744688,
          1.5883107521938273,
          1.7096597409049095,
          1.8251202416758978,
          1.8851463072882182,
          1.9451723729005388,
          1.99570153432547,
          2.0462306957504013,
          2.1079210746098602,
          2.169611453469319,
          2.227602229129457,
          2.285593004789594,
          2.332045864601229,
          2.3784987244128644,
          2.4249515842244995,
          2.4714044440361347,
          2.478553333027101,
          2.4857022220180673,
          2.492851111009034,
          2.5
         ],
         "xaxis": "x",
         "y": [
          0.7071067811865476,
          0.7017885383173676,
          0.7021755217729364,
          0.7350351683730256,
          0.7792952758446701,
          0.8448346741172641,
          0.9227757410376752,
          1.0275671995022075,
          1.181429863500049,
          1.3536111936707484,
          1.5381259044058275,
          1.7828470145957718,
          2.085201251297271,
          2.5014758347383808,
          2.9983917361171453,
          3.3041954306530905,
          3.6481551413020927,
          3.971012296013284,
          4.32797594066691,
          4.815699740242174,
          5.368069916630638,
          5.9544809576021605,
          6.614931791802789,
          7.204100356855105,
          7.853007676356603,
          8.568135461035695,
          9.356708747512222,
          9.485089474737975,
          9.615429941151568,
          9.747761910789439,
          9.882117688026186
         ],
         "yaxis": "y",
         "zmax": null,
         "zmin": null
        },
        {
         "colorbar": {
          "title": ""
         },
         "legendgroup": "y2",
         "line": {
          "color": "rgba(227, 111, 71, 1.000)",
          "dash": "solid",
          "shape": "linear",
          "width": 1
         },
         "mode": "lines",
         "name": "y2",
         "showlegend": true,
         "type": "scatter",
         "x": [
          0.25,
          0.2719730927945233,
          0.4751460636288388,
          0.5972445504376538,
          0.7004772671104729,
          0.8126169325743657,
          0.9159997852029134,
          1.0268371294146021,
          1.1552530622616977,
          1.2693739887497981,
          1.369447757215495,
          1.4785550274744688,
          1.5883107521938273,
          1.7096597409049095,
          1.8251202416758978,
          1.9451723729005388,
          2.0462306957504013,
          2.169611453469319,
          2.285593004789594,
          2.4714044440361347,
          2.5
         ],
         "xaxis": "x",
         "y": [
          0.15829124471763878,
          0.20652794355726845,
          0.6525458754949358,
          0.9205840616550228,
          1.147206936782767,
          1.3933828994268085,
          1.6203353623348984,
          1.863652388432207,
          2.145559024738743,
          2.396084374710326,
          2.6157725304181936,
          2.855291590657541,
          3.0962341784270957,
          3.362627019784824,
          3.6160930864712193,
          3.879638985680368,
          4.10148849635835,
          4.3723416033081435,
          4.626951512541475,
          5.034856331390077,
          5.097631072937818
         ],
         "yaxis": "y",
         "zmax": null,
         "zmin": null
        },
        {
         "colorbar": {
          "title": ""
         },
         "legendgroup": "y3",
         "line": {
          "color": "rgba(62, 164, 78, 1.000)",
          "dash": "solid",
          "shape": "linear",
          "width": 1
         },
         "mode": "lines",
         "name": "y3",
         "showlegend": true,
         "type": "scatter",
         "x": [
          0.25,
          0.2719730927945233,
          0.4751460636288388,
          0.5972445504376538,
          0.7004772671104729,
          0.8126169325743657,
          0.9159997852029134,
          1.0268371294146021,
          1.1552530622616977,
          1.2693739887497981,
          1.369447757215495,
          1.4785550274744688,
          1.5883107521938273,
          1.7096597409049095,
          1.8251202416758978,
          1.9451723729005388,
          2.0462306957504013,
          2.169611453469319,
          2.285593004789594,
          2.4714044440361347,
          2.5
         ],
         "xaxis": "x",
         "y": [
          0.25,
          0.2719730927945233,
          0.4751460636288388,
          0.5972445504376538,
          0.7004772671104729,
          0.8126169325743657,
          0.9159997852029134,
          1.0268371294146021,
          1.1552530622616977,
          1.2693739887497981,
          1.369447757215495,
          1.4785550274744688,
          1.5883107521938273,
          1.7096597409049095,
          1.8251202416758978,
          1.9451723729005388,
          2.0462306957504013,
          2.169611453469319,
          2.285593004789594,
          2.4714044440361347,
          2.5
         ],
         "yaxis": "y",
         "zmax": null,
         "zmin": null
        }
       ],
       "layout": {
        "annotations": [],
        "height": 400,
        "margin": {
         "b": 20,
         "l": 0,
         "r": 0,
         "t": 20
        },
        "paper_bgcolor": "rgba(255, 255, 255, 1.000)",
        "plot_bgcolor": "rgba(255, 255, 255, 1.000)",
        "showlegend": false,
        "width": 600,
        "xaxis": {
         "anchor": "y",
         "domain": [
          0.0658209390492855,
          0.9934383202099738
         ],
         "gridcolor": "rgba(0, 0, 0, 0.100)",
         "gridwidth": 0.5,
         "linecolor": "rgba(0, 0, 0, 1.000)",
         "mirror": false,
         "range": [
          0.1825,
          2.5675
         ],
         "showgrid": true,
         "showline": true,
         "showticklabels": true,
         "tickangle": 0,
         "tickcolor": "rgb(0, 0, 0)",
         "tickfont": {
          "color": "rgba(0, 0, 0, 1.000)",
          "family": "sans-serif",
          "size": 11
         },
         "tickmode": "array",
         "ticks": "inside",
         "ticktext": [
          "0.5",
          "1.0",
          "1.5",
          "2.0",
          "2.5"
         ],
         "tickvals": [
          0.5,
          1,
          1.5,
          2,
          2.5
         ],
         "title": "",
         "titlefont": {
          "color": "rgba(0, 0, 0, 1.000)",
          "family": "sans-serif",
          "size": 15
         },
         "type": "-",
         "visible": true,
         "zeroline": false,
         "zerolinecolor": "rgba(0, 0, 0, 1.000)"
        },
        "yaxis": {
         "anchor": "x",
         "domain": [
          0.03762029746281716,
          0.9901574803149606
         ],
         "gridcolor": "rgba(0, 0, 0, 0.100)",
         "gridwidth": 0.5,
         "linecolor": "rgba(0, 0, 0, 1.000)",
         "mirror": false,
         "range": [
          -0.13342354858161765,
          10.173832481325443
         ],
         "showgrid": true,
         "showline": true,
         "showticklabels": true,
         "tickangle": 0,
         "tickcolor": "rgb(0, 0, 0)",
         "tickfont": {
          "color": "rgba(0, 0, 0, 1.000)",
          "family": "sans-serif",
          "size": 11
         },
         "tickmode": "array",
         "ticks": "inside",
         "ticktext": [
          "0.0",
          "2.5",
          "5.0",
          "7.5",
          "10.0"
         ],
         "tickvals": [
          0,
          2.5,
          5,
          7.5,
          10
         ],
         "title": "",
         "titlefont": {
          "color": "rgba(0, 0, 0, 1.000)",
          "family": "sans-serif",
          "size": 15
         },
         "type": "-",
         "visible": true,
         "zeroline": false,
         "zerolinecolor": "rgba(0, 0, 0, 1.000)"
        }
       }
      },
      "text/html": [
       "    <div id=\"f55a6508-169f-4350-a0d9-42fe7031ab79\" style=\"width:600px;height:400px;\"></div>\n",
       "    <script>\n",
       "        requirejs.config({\n",
       "        paths: {\n",
       "            Plotly: 'https://cdn.plot.ly/plotly-2.6.3.min'\n",
       "        }\n",
       "    });\n",
       "    require(['Plotly'], function (Plotly) {\n",
       "\n",
       "        Plotly.newPlot('f55a6508-169f-4350-a0d9-42fe7031ab79', [\n",
       "    {\n",
       "        \"xaxis\": \"x\",\n",
       "        \"colorbar\": {\n",
       "            \"title\": \"\"\n",
       "        },\n",
       "        \"yaxis\": \"y\",\n",
       "        \"x\": [\n",
       "            0.25,\n",
       "            0.2719730927945233,\n",
       "            0.4751460636288388,\n",
       "            0.5972445504376538,\n",
       "            0.7004772671104729,\n",
       "            0.8126169325743657,\n",
       "            0.9159997852029134,\n",
       "            1.0268371294146021,\n",
       "            1.1552530622616977,\n",
       "            1.2693739887497981,\n",
       "            1.369447757215495,\n",
       "            1.4785550274744688,\n",
       "            1.5883107521938273,\n",
       "            1.7096597409049095,\n",
       "            1.8251202416758978,\n",
       "            1.8851463072882182,\n",
       "            1.9451723729005388,\n",
       "            1.99570153432547,\n",
       "            2.0462306957504013,\n",
       "            2.1079210746098602,\n",
       "            2.169611453469319,\n",
       "            2.227602229129457,\n",
       "            2.285593004789594,\n",
       "            2.332045864601229,\n",
       "            2.3784987244128644,\n",
       "            2.4249515842244995,\n",
       "            2.4714044440361347,\n",
       "            2.478553333027101,\n",
       "            2.4857022220180673,\n",
       "            2.492851111009034,\n",
       "            2.5\n",
       "        ],\n",
       "        \"showlegend\": true,\n",
       "        \"mode\": \"lines\",\n",
       "        \"name\": \"y1\",\n",
       "        \"zmin\": null,\n",
       "        \"legendgroup\": \"y1\",\n",
       "        \"zmax\": null,\n",
       "        \"line\": {\n",
       "            \"color\": \"rgba(0, 154, 250, 1.000)\",\n",
       "            \"shape\": \"linear\",\n",
       "            \"dash\": \"solid\",\n",
       "            \"width\": 1\n",
       "        },\n",
       "        \"y\": [\n",
       "            0.7071067811865476,\n",
       "            0.7017885383173676,\n",
       "            0.7021755217729364,\n",
       "            0.7350351683730256,\n",
       "            0.7792952758446701,\n",
       "            0.8448346741172641,\n",
       "            0.9227757410376752,\n",
       "            1.0275671995022075,\n",
       "            1.181429863500049,\n",
       "            1.3536111936707484,\n",
       "            1.5381259044058275,\n",
       "            1.7828470145957718,\n",
       "            2.085201251297271,\n",
       "            2.5014758347383808,\n",
       "            2.9983917361171453,\n",
       "            3.3041954306530905,\n",
       "            3.6481551413020927,\n",
       "            3.971012296013284,\n",
       "            4.32797594066691,\n",
       "            4.815699740242174,\n",
       "            5.368069916630638,\n",
       "            5.9544809576021605,\n",
       "            6.614931791802789,\n",
       "            7.204100356855105,\n",
       "            7.853007676356603,\n",
       "            8.568135461035695,\n",
       "            9.356708747512222,\n",
       "            9.485089474737975,\n",
       "            9.615429941151568,\n",
       "            9.747761910789439,\n",
       "            9.882117688026186\n",
       "        ],\n",
       "        \"type\": \"scatter\"\n",
       "    },\n",
       "    {\n",
       "        \"xaxis\": \"x\",\n",
       "        \"colorbar\": {\n",
       "            \"title\": \"\"\n",
       "        },\n",
       "        \"yaxis\": \"y\",\n",
       "        \"x\": [\n",
       "            0.25,\n",
       "            0.2719730927945233,\n",
       "            0.4751460636288388,\n",
       "            0.5972445504376538,\n",
       "            0.7004772671104729,\n",
       "            0.8126169325743657,\n",
       "            0.9159997852029134,\n",
       "            1.0268371294146021,\n",
       "            1.1552530622616977,\n",
       "            1.2693739887497981,\n",
       "            1.369447757215495,\n",
       "            1.4785550274744688,\n",
       "            1.5883107521938273,\n",
       "            1.7096597409049095,\n",
       "            1.8251202416758978,\n",
       "            1.9451723729005388,\n",
       "            2.0462306957504013,\n",
       "            2.169611453469319,\n",
       "            2.285593004789594,\n",
       "            2.4714044440361347,\n",
       "            2.5\n",
       "        ],\n",
       "        \"showlegend\": true,\n",
       "        \"mode\": \"lines\",\n",
       "        \"name\": \"y2\",\n",
       "        \"zmin\": null,\n",
       "        \"legendgroup\": \"y2\",\n",
       "        \"zmax\": null,\n",
       "        \"line\": {\n",
       "            \"color\": \"rgba(227, 111, 71, 1.000)\",\n",
       "            \"shape\": \"linear\",\n",
       "            \"dash\": \"solid\",\n",
       "            \"width\": 1\n",
       "        },\n",
       "        \"y\": [\n",
       "            0.15829124471763878,\n",
       "            0.20652794355726845,\n",
       "            0.6525458754949358,\n",
       "            0.9205840616550228,\n",
       "            1.147206936782767,\n",
       "            1.3933828994268085,\n",
       "            1.6203353623348984,\n",
       "            1.863652388432207,\n",
       "            2.145559024738743,\n",
       "            2.396084374710326,\n",
       "            2.6157725304181936,\n",
       "            2.855291590657541,\n",
       "            3.0962341784270957,\n",
       "            3.362627019784824,\n",
       "            3.6160930864712193,\n",
       "            3.879638985680368,\n",
       "            4.10148849635835,\n",
       "            4.3723416033081435,\n",
       "            4.626951512541475,\n",
       "            5.034856331390077,\n",
       "            5.097631072937818\n",
       "        ],\n",
       "        \"type\": \"scatter\"\n",
       "    },\n",
       "    {\n",
       "        \"xaxis\": \"x\",\n",
       "        \"colorbar\": {\n",
       "            \"title\": \"\"\n",
       "        },\n",
       "        \"yaxis\": \"y\",\n",
       "        \"x\": [\n",
       "            0.25,\n",
       "            0.2719730927945233,\n",
       "            0.4751460636288388,\n",
       "            0.5972445504376538,\n",
       "            0.7004772671104729,\n",
       "            0.8126169325743657,\n",
       "            0.9159997852029134,\n",
       "            1.0268371294146021,\n",
       "            1.1552530622616977,\n",
       "            1.2693739887497981,\n",
       "            1.369447757215495,\n",
       "            1.4785550274744688,\n",
       "            1.5883107521938273,\n",
       "            1.7096597409049095,\n",
       "            1.8251202416758978,\n",
       "            1.9451723729005388,\n",
       "            2.0462306957504013,\n",
       "            2.169611453469319,\n",
       "            2.285593004789594,\n",
       "            2.4714044440361347,\n",
       "            2.5\n",
       "        ],\n",
       "        \"showlegend\": true,\n",
       "        \"mode\": \"lines\",\n",
       "        \"name\": \"y3\",\n",
       "        \"zmin\": null,\n",
       "        \"legendgroup\": \"y3\",\n",
       "        \"zmax\": null,\n",
       "        \"line\": {\n",
       "            \"color\": \"rgba(62, 164, 78, 1.000)\",\n",
       "            \"shape\": \"linear\",\n",
       "            \"dash\": \"solid\",\n",
       "            \"width\": 1\n",
       "        },\n",
       "        \"y\": [\n",
       "            0.25,\n",
       "            0.2719730927945233,\n",
       "            0.4751460636288388,\n",
       "            0.5972445504376538,\n",
       "            0.7004772671104729,\n",
       "            0.8126169325743657,\n",
       "            0.9159997852029134,\n",
       "            1.0268371294146021,\n",
       "            1.1552530622616977,\n",
       "            1.2693739887497981,\n",
       "            1.369447757215495,\n",
       "            1.4785550274744688,\n",
       "            1.5883107521938273,\n",
       "            1.7096597409049095,\n",
       "            1.8251202416758978,\n",
       "            1.9451723729005388,\n",
       "            2.0462306957504013,\n",
       "            2.169611453469319,\n",
       "            2.285593004789594,\n",
       "            2.4714044440361347,\n",
       "            2.5\n",
       "        ],\n",
       "        \"type\": \"scatter\"\n",
       "    }\n",
       "]\n",
       ", {\n",
       "    \"showlegend\": false,\n",
       "    \"xaxis\": {\n",
       "        \"showticklabels\": true,\n",
       "        \"gridwidth\": 0.5,\n",
       "        \"tickvals\": [\n",
       "            0.5,\n",
       "            1.0,\n",
       "            1.5,\n",
       "            2.0,\n",
       "            2.5\n",
       "        ],\n",
       "        \"range\": [\n",
       "            0.1825,\n",
       "            2.5675\n",
       "        ],\n",
       "        \"domain\": [\n",
       "            0.0658209390492855,\n",
       "            0.9934383202099738\n",
       "        ],\n",
       "        \"mirror\": false,\n",
       "        \"tickangle\": 0,\n",
       "        \"showline\": true,\n",
       "        \"ticktext\": [\n",
       "            \"0.5\",\n",
       "            \"1.0\",\n",
       "            \"1.5\",\n",
       "            \"2.0\",\n",
       "            \"2.5\"\n",
       "        ],\n",
       "        \"zeroline\": false,\n",
       "        \"tickfont\": {\n",
       "            \"color\": \"rgba(0, 0, 0, 1.000)\",\n",
       "            \"family\": \"sans-serif\",\n",
       "            \"size\": 11\n",
       "        },\n",
       "        \"zerolinecolor\": \"rgba(0, 0, 0, 1.000)\",\n",
       "        \"anchor\": \"y\",\n",
       "        \"visible\": true,\n",
       "        \"ticks\": \"inside\",\n",
       "        \"tickmode\": \"array\",\n",
       "        \"linecolor\": \"rgba(0, 0, 0, 1.000)\",\n",
       "        \"showgrid\": true,\n",
       "        \"title\": \"\",\n",
       "        \"gridcolor\": \"rgba(0, 0, 0, 0.100)\",\n",
       "        \"titlefont\": {\n",
       "            \"color\": \"rgba(0, 0, 0, 1.000)\",\n",
       "            \"family\": \"sans-serif\",\n",
       "            \"size\": 15\n",
       "        },\n",
       "        \"tickcolor\": \"rgb(0, 0, 0)\",\n",
       "        \"type\": \"-\"\n",
       "    },\n",
       "    \"paper_bgcolor\": \"rgba(255, 255, 255, 1.000)\",\n",
       "    \"annotations\": [],\n",
       "    \"height\": 400,\n",
       "    \"margin\": {\n",
       "        \"l\": 0,\n",
       "        \"b\": 20,\n",
       "        \"r\": 0,\n",
       "        \"t\": 20\n",
       "    },\n",
       "    \"plot_bgcolor\": \"rgba(255, 255, 255, 1.000)\",\n",
       "    \"yaxis\": {\n",
       "        \"showticklabels\": true,\n",
       "        \"gridwidth\": 0.5,\n",
       "        \"tickvals\": [\n",
       "            0.0,\n",
       "            2.5,\n",
       "            5.0,\n",
       "            7.5,\n",
       "            10.0\n",
       "        ],\n",
       "        \"range\": [\n",
       "            -0.13342354858161765,\n",
       "            10.173832481325443\n",
       "        ],\n",
       "        \"domain\": [\n",
       "            0.03762029746281716,\n",
       "            0.9901574803149606\n",
       "        ],\n",
       "        \"mirror\": false,\n",
       "        \"tickangle\": 0,\n",
       "        \"showline\": true,\n",
       "        \"ticktext\": [\n",
       "            \"0.0\",\n",
       "            \"2.5\",\n",
       "            \"5.0\",\n",
       "            \"7.5\",\n",
       "            \"10.0\"\n",
       "        ],\n",
       "        \"zeroline\": false,\n",
       "        \"tickfont\": {\n",
       "            \"color\": \"rgba(0, 0, 0, 1.000)\",\n",
       "            \"family\": \"sans-serif\",\n",
       "            \"size\": 11\n",
       "        },\n",
       "        \"zerolinecolor\": \"rgba(0, 0, 0, 1.000)\",\n",
       "        \"anchor\": \"x\",\n",
       "        \"visible\": true,\n",
       "        \"ticks\": \"inside\",\n",
       "        \"tickmode\": \"array\",\n",
       "        \"linecolor\": \"rgba(0, 0, 0, 1.000)\",\n",
       "        \"showgrid\": true,\n",
       "        \"title\": \"\",\n",
       "        \"gridcolor\": \"rgba(0, 0, 0, 0.100)\",\n",
       "        \"titlefont\": {\n",
       "            \"color\": \"rgba(0, 0, 0, 1.000)\",\n",
       "            \"family\": \"sans-serif\",\n",
       "            \"size\": 15\n",
       "        },\n",
       "        \"tickcolor\": \"rgb(0, 0, 0)\",\n",
       "        \"type\": \"-\"\n",
       "    },\n",
       "    \"width\": 600\n",
       "}\n",
       ");\n",
       "\n",
       "    });\n",
       "    </script>\n"
      ]
     },
     "execution_count": 5,
     "metadata": {},
     "output_type": "execute_result"
    }
   ],
   "source": [
    "f(x) = x^x\n",
    "a,b = 1/2, 2\n",
    "c = 1\n",
    "plot(f, 1/4, 2.5, legend=false)\n",
    "plot!(secant(f, a, b))\n",
    "plot!(tangent(f, c))"
   ]
  },
  {
   "cell_type": "markdown",
   "metadata": {
    "internals": {
     "slide_type": "subslide"
    },
    "slide_helper": "slide_end",
    "slideshow": {
     "slide_type": "subslide"
    }
   },
   "source": [
    "#### Higher-order derivatives\n"
   ]
  },
  {
   "cell_type": "markdown",
   "metadata": {},
   "source": [
    "Higher-order derivatives can be computed as well:\n"
   ]
  },
  {
   "cell_type": "markdown",
   "metadata": {},
   "source": [
    "Automatic derivatives can be computed using the usual notation, e.g., `f''`  to find $f''(x)$.\n"
   ]
  },
  {
   "cell_type": "markdown",
   "metadata": {},
   "source": [
    "Higher-order symbolic derivatives can be computed by passing the order to `diff` as a second argument, as in `diff(f(x), x, n)`.\n"
   ]
  },
  {
   "cell_type": "markdown",
   "metadata": {},
   "source": [
    "For example, consider $f(x) = e^x \\sin(x)$. We have:\n"
   ]
  },
  {
   "cell_type": "code",
   "execution_count": 6,
   "metadata": {},
   "outputs": [
    {
     "data": {
      "text/plain": [
       "-39.769061688293974"
      ]
     },
     "execution_count": 6,
     "metadata": {},
     "output_type": "execute_result"
    }
   ],
   "source": [
    "f(x) = exp(x) * sin(x)\n",
    "f''(3)"
   ]
  },
  {
   "cell_type": "markdown",
   "metadata": {},
   "source": [
    "As compared to the symbolic answer:\n"
   ]
  },
  {
   "cell_type": "code",
   "execution_count": 7,
   "metadata": {},
   "outputs": [
    {
     "data": {
      "text/latex": [
       "$2 e^{x} \\cos{\\left(x \\right)}$"
      ],
      "text/plain": [
       "   x       \n",
       "2⋅ℯ ⋅cos(x)"
      ]
     },
     "execution_count": 7,
     "metadata": {},
     "output_type": "execute_result"
    }
   ],
   "source": [
    "@syms x\n",
    "fpp = diff(f(x), x, 2) # or diff(f(x), x, x)"
   ]
  },
  {
   "cell_type": "markdown",
   "metadata": {},
   "source": [
    "and its numeric  value at `3`:\n"
   ]
  },
  {
   "cell_type": "code",
   "execution_count": 8,
   "metadata": {},
   "outputs": [
    {
     "data": {
      "text/plain": [
       "-39.76906168829397773129798975944675106812894879110228655084531523121728543571319"
      ]
     },
     "execution_count": 8,
     "metadata": {},
     "output_type": "execute_result"
    }
   ],
   "source": [
    "N(fpp(3))    # make numeric"
   ]
  },
  {
   "cell_type": "markdown",
   "metadata": {},
   "source": [
    "---\n"
   ]
  },
  {
   "cell_type": "code",
   "execution_count": null,
   "metadata": {},
   "outputs": [],
   "source": []
  }
 ],
 "metadata": {
  "kernelspec": {
   "display_name": "Julia 1.7.2",
   "language": "julia",
   "name": "julia-1.7"
  },
  "language_info": {
   "file_extension": ".jl",
   "mimetype": "application/julia",
   "name": "julia",
   "version": "1.7.3"
  }
 },
 "nbformat": 4,
 "nbformat_minor": 2
}
