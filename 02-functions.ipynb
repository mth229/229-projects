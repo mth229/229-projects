{
  "cells": [
    {
      "cell_type": "markdown",
      "metadata": {},
      "source": [
        "# \n",
        "\n",
        "# Functions in Julia\n",
        "\n",
        "Read more about this [here](http://mth229.github.io/functions.html).\n",
        "\n",
        "For some problems in this project, you will need features made available\n",
        "in the add-on `MTH229` package, which is loaded with the following\n",
        "command:"
      ],
      "id": "1b6af246-9483-448a-a906-7d26f8637290"
    },
    {
      "cell_type": "code",
      "execution_count": 1,
      "metadata": {},
      "outputs": [],
      "source": [
        "using MTH229"
      ],
      "id": "9b6533da"
    },
    {
      "cell_type": "markdown",
      "metadata": {},
      "source": [
        "(When you run the cell to load the `MTH229` – and other add-on packages\n",
        "– an asterisk will appear in the label to the left of the cell: `[*]`.\n",
        "When the packages have been loaded, which can take awhile, the asterisk\n",
        "will turn into a number.)\n",
        "\n",
        "This command loads the `Plots` package, which we will use in these\n",
        "notes."
      ],
      "id": "01a7d2d1-970a-4e9d-94b2-2bbbbecc8743"
    },
    {
      "cell_type": "code",
      "execution_count": 2,
      "metadata": {},
      "outputs": [],
      "source": [
        "using Plots"
      ],
      "id": "57933335"
    },
    {
      "cell_type": "markdown",
      "metadata": {},
      "source": [
        "We will typically combine these and run this command when loading a\n",
        "`Julia` notebook at the *start* of a session:"
      ],
      "id": "f9791148-8ae6-4e91-a88d-6ca6e12886b3"
    },
    {
      "cell_type": "code",
      "execution_count": 3,
      "metadata": {},
      "outputs": [],
      "source": [
        "using MTH229\n",
        "using Plots\n",
        "plotly()"
      ],
      "id": "a95048c5"
    },
    {
      "cell_type": "markdown",
      "metadata": {},
      "source": [
        "(The last command loads a plotting backend which allows some\n",
        "interactivity.)\n",
        "\n",
        "------------------------------------------------------------------------\n",
        "\n",
        "A *function* in mathematics is [defined](http://tinyurl.com/c2rwqyb) as\n",
        "“a relation between a set of inputs and a set of permissible outputs\n",
        "with the property that each input is related to exactly one output.”\n",
        "That is a general definition. Specialized to mathematical functions of\n",
        "one real variable returning a real value (univariate, scalar-valued\n",
        "functions), we can define a function in terms of a rule—what happens to\n",
        "$x$ to produce $y$, such as this one which squares $x$ then subtracts\n",
        "$2$:\n",
        "\n",
        "$$\n",
        "f(x) = x^2 - 2.\n",
        "$$\n",
        "\n",
        "The **domain** of a function is the set of all permissible values for\n",
        "$x$, in this example this is all $x$, but this need not be the case\n",
        "either due to the rule not being defined for some $x$ or a more explicit\n",
        "restriction, such as $x \\geq 0$.\n",
        "\n",
        "The **range** is the set of all possible outputs. Written in set\n",
        "notation, this is $\\{f(x): x \\in \\text{ the domain }\\}$.\n",
        "\n",
        "Mathematically, we evaluate or **call** a function with the notation\n",
        "$f(2)$ or $f(3)$, say.\n",
        "\n",
        "Mathematically we might refer to the function by its name, $f$, or its\n",
        "values such as $f(2)$ or $f(\\pi)$.\n",
        "\n",
        "In `Julia` basic mathematical functions are defined and used with the\n",
        "*exact* same notation, save for accommodations in translating math to\n",
        "`Julia`.\n",
        "\n",
        "For example, this command creates a function `f`:"
      ],
      "id": "31f08963-5aa3-439b-99bc-fa89a5b87206"
    },
    {
      "cell_type": "code",
      "execution_count": 5,
      "metadata": {},
      "outputs": [
        {
          "output_type": "display_data",
          "metadata": {},
          "data": {
            "text/plain": [
              "f (generic function with 1 method)"
            ]
          }
        }
      ],
      "source": [
        "f(x) = x^2 - 2"
      ],
      "id": "76183e3d"
    },
    {
      "cell_type": "markdown",
      "metadata": {},
      "source": [
        "Unlike an expression, the value `x` in the definition of `f(x)` does not\n",
        "need to be defined until the function is actually called. As with math,\n",
        "this variable name need not be `x` – it could be `t`, `y`, `theta`, or\n",
        "any other valid name.\n",
        "\n",
        "We *call* `f` for the given value using the same `f(x)` notation. For\n",
        "example, finding our `f` at the value of `2` is done with:"
      ],
      "id": "46c5938e-32d4-4286-9776-3a6af7ea8a6e"
    },
    {
      "cell_type": "code",
      "execution_count": 6,
      "metadata": {},
      "outputs": [
        {
          "output_type": "display_data",
          "metadata": {},
          "data": {
            "text/plain": [
              "2"
            ]
          }
        }
      ],
      "source": [
        "f(2)"
      ],
      "id": "edc94c09"
    },
    {
      "cell_type": "markdown",
      "metadata": {},
      "source": [
        "That is, as with typical mathematical notation, the function is “called”\n",
        "by passing a value to it with parentheses.\n",
        "\n",
        "Within a cell, we can evaluate one or more values by using commas to\n",
        "separate them:"
      ],
      "id": "77461aca-66f9-420e-a8be-3ff1e2e8b0e5"
    },
    {
      "cell_type": "code",
      "execution_count": 7,
      "metadata": {},
      "outputs": [
        {
          "output_type": "display_data",
          "metadata": {},
          "data": {
            "text/plain": [
              "(-1, 2, 7)"
            ]
          }
        }
      ],
      "source": [
        "f(1), f(2), f(3)"
      ],
      "id": "9bea8981"
    },
    {
      "cell_type": "markdown",
      "metadata": {},
      "source": [
        "The function name refers to the function object:"
      ],
      "id": "14ef3d03-cc9f-44fb-bf76-a81f1de25c2b"
    },
    {
      "cell_type": "code",
      "execution_count": 8,
      "metadata": {},
      "outputs": [
        {
          "output_type": "display_data",
          "metadata": {},
          "data": {
            "text/plain": [
              "f (generic function with 1 method)"
            ]
          }
        }
      ],
      "source": [
        "f"
      ],
      "id": "2bad2aa0"
    },
    {
      "cell_type": "markdown",
      "metadata": {},
      "source": [
        "Don’t worry about the words “generic” and “method”, but be aware that\n",
        "because of this once you have defined a name as a variable it can not be\n",
        "re-purposed as a *generic* function name and vice versa. (In the common\n",
        "first case, read the error message, it will say something like:\n",
        "`ERROR: cannot define function a; it already has a value`; in the second\n",
        "it might say `ERROR: invalid redefinition of constant`.)\n",
        "\n",
        "The “domain” of a `Julia` function is similar in meaning to its\n",
        "mathematical counterpart. `Julia` may respond with different values,\n",
        "such as `Inf`, for infinity; `NaN`, when an expression is indeterminate;\n",
        "or it may throw an error, typically a `DomainError`:"
      ],
      "id": "340e1169-00bc-42d9-bd9f-f45c9ff3d626"
    },
    {
      "cell_type": "code",
      "execution_count": 9,
      "metadata": {},
      "outputs": [
        {
          "output_type": "display_data",
          "metadata": {},
          "data": {
            "text/plain": [
              "(Inf, NaN)"
            ]
          }
        }
      ],
      "source": [
        "f(x) = sqrt(x)/(x*(1-x))\n",
        "f(1), f(0)"
      ],
      "id": "9a932d3e"
    },
    {
      "cell_type": "markdown",
      "metadata": {},
      "source": [
        "and an error with:"
      ],
      "id": "848d7cb8-6877-407e-b0cc-42e3f1b5cd54"
    },
    {
      "cell_type": "code",
      "execution_count": 10,
      "metadata": {},
      "outputs": [],
      "source": [
        "f(-1)"
      ],
      "id": "378cd3c6"
    },
    {
      "cell_type": "markdown",
      "metadata": {},
      "source": [
        "Functions can be more complicated than the “one-liners” illustrated. In\n",
        "that case, a multiline form is available:"
      ],
      "id": "83a24d09-5743-4740-854f-6fad2c21d305"
    },
    {
      "cell_type": "code",
      "execution_count": 11,
      "metadata": {},
      "outputs": [],
      "source": [
        "function fn_name(args...)\n",
        "  body\n",
        "end"
      ],
      "id": "937a426d"
    },
    {
      "cell_type": "markdown",
      "metadata": {},
      "source": [
        "The keyword `function` indicates this is a function whose name is given\n",
        "in the definition. Within the body, the last expression evaluated is the\n",
        "output, unless a `return` statement is used.\n",
        "\n",
        "------------------------------------------------------------------------\n",
        "\n",
        "For basic uses of functions—90 percent of the uses in this class—the\n",
        "above covers what you need to know about functions.\n",
        "\n",
        "## Cases\n",
        "\n",
        "Some functions are defined in terms of cases. For example, a cell phone\n",
        "plan might depend on the data used through:\n",
        "\n",
        "> The amount is 35 dollars for the first 9 Gb of data, and 10 dollars\n",
        "> more for each *additional* Gb of data.\n",
        "\n",
        "This function has two cases to consider: one if the data is less than 9\n",
        "Gb and the other when it is more.\n",
        "\n",
        "In a math class we would write this as:\n",
        "\n",
        "$$\n",
        "\\text{cost}(\\text{data}) = \\begin{cases}\n",
        "35.0,                   & \\text{data} \\leq 9.0 \\\\\\\\\n",
        "35.0+10.0\\cdot(\\text{data}-9.0), & \\text{otherwise.}\n",
        "\\end{cases}\n",
        "$$\n",
        "\n",
        "How to write this in `Julia`?\n",
        "\n",
        "The ternary operator `predicate ? expression1 : expression2` has three\n",
        "pieces: a predicate question, such as `x < 10` and two expressions, the\n",
        "first is evaluated if the predicate is `true` and the second if the\n",
        "predicate is `false`. Using the ternary operator, simple case-like\n",
        "functions can be defined in one line.\n",
        "\n",
        "For example, the above can be defined in `Julia` with:"
      ],
      "id": "dae02a28-3f37-4c65-a5e7-b85565b47121"
    },
    {
      "cell_type": "code",
      "execution_count": 12,
      "metadata": {},
      "outputs": [
        {
          "output_type": "display_data",
          "metadata": {},
          "data": {
            "text/plain": [
              "cost (generic function with 1 method)"
            ]
          }
        }
      ],
      "source": [
        "cost(data) = data <= 9.0 ? 35.00 : 35.00 + 10.00 * (data - 9.0)"
      ],
      "id": "8e33e079"
    },
    {
      "cell_type": "markdown",
      "metadata": {},
      "source": [
        "So, three pieces: **First**, you ask a question. **Second**, what should\n",
        "the function do if the answer is ‘yes’? **Third**, what should the\n",
        "function do if the answer is ‘no’?\n",
        "\n",
        "## Composition\n",
        "\n",
        "Composition of functions is a useful means to break complicated problems\n",
        "into easier to solve ones. The math notation is typically $f(g(x))$ and\n",
        "in `Julia` this is no different.\n",
        "\n",
        "## Functions may need more than one argument\n",
        "\n",
        "In `Julia` some functions require more than one argument. There are two\n",
        "ways that a function can distinguish between arguments:\n",
        "\n",
        "**Using position**. A typical case is the function expressing the $\\log$\n",
        "of $x$ base $b$. The function must have both a position to pass in\n",
        "values for either $x$ or $b$. In `Julia` the function is written\n",
        "`log(b, x)`:"
      ],
      "id": "81402648-d5f8-46a6-88ef-e0c5aba0cc2b"
    },
    {
      "cell_type": "code",
      "execution_count": 13,
      "metadata": {},
      "outputs": [
        {
          "output_type": "display_data",
          "metadata": {},
          "data": {
            "text/plain": [
              "8.526512829121202e-14"
            ]
          }
        }
      ],
      "source": [
        "b, x = 5, 100\n",
        "a = log(b, x)\n",
        "b^a - x  # verify, is this close to 0?"
      ],
      "id": "b2643383"
    },
    {
      "cell_type": "markdown",
      "metadata": {},
      "source": [
        "(This also shows that `Julia` can have the same name for **different**\n",
        "functions, as `log(x)` does the logarithm base $e$ and takes only $1$\n",
        "argument.)\n",
        "\n",
        "**Using keyword names**. Some arguments can be designated by a\n",
        "“keyword”, which have default values. This is heavily used with the\n",
        "plotting package we use, where data is specified by position and\n",
        "attributes of the resulting figure are adjusted with keyword arguments.\n",
        "Plotting features are provided in add-on packages; we use `Plots` in\n",
        "these projects.\n",
        "\n",
        "Here is a mathematical example from the theory of\n",
        "[wavelets](https://en.wikipedia.org/wiki/Wavelet).\n",
        "\n",
        "Define `mother` by"
      ],
      "id": "7b6f1bde-fc04-472f-a489-2b82a2f9b87e"
    },
    {
      "cell_type": "code",
      "execution_count": 14,
      "metadata": {},
      "outputs": [
        {
          "output_type": "display_data",
          "metadata": {},
          "data": {
            "text/plain": [
              "mother (generic function with 1 method)"
            ]
          }
        }
      ],
      "source": [
        "mother(x) = (sin(2*pi*x) - sin(pi*x))/(pi*x)"
      ],
      "id": "80b6a3e7"
    },
    {
      "cell_type": "markdown",
      "metadata": {},
      "source": [
        "This function is *scaled* and *shifted* in application. To keep track of\n",
        "the scale (by `a`) and the shift (by `b`) we might define a function\n",
        "that allows these to be passed as *parameters*"
      ],
      "id": "a2d5cd0e-1ae4-460a-b786-b846783691a5"
    },
    {
      "cell_type": "code",
      "execution_count": 15,
      "metadata": {},
      "outputs": [
        {
          "output_type": "display_data",
          "metadata": {},
          "data": {
            "text/plain": [
              "child (generic function with 1 method)"
            ]
          }
        }
      ],
      "source": [
        "child(x, a, b) = mother((x-b)/a) / sqrt(a)"
      ],
      "id": "2e8e06fb"
    },
    {
      "cell_type": "markdown",
      "metadata": {},
      "source": [
        "This would then be called like:"
      ],
      "id": "5327e0da-c7c5-4570-ac4c-603c29a208b8"
    },
    {
      "cell_type": "code",
      "execution_count": 16,
      "metadata": {},
      "outputs": [
        {
          "output_type": "display_data",
          "metadata": {},
          "data": {
            "text/plain": [
              "-0.6366197723675813"
            ]
          }
        }
      ],
      "source": [
        "child(1/2, 1, 0)"
      ],
      "id": "0b75eaac"
    },
    {
      "cell_type": "markdown",
      "metadata": {},
      "source": [
        "or like"
      ],
      "id": "7db645c5-12d8-4f10-a4d4-9e7798dfb6a1"
    },
    {
      "cell_type": "code",
      "execution_count": 17,
      "metadata": {},
      "outputs": [
        {
          "output_type": "display_data",
          "metadata": {},
          "data": {
            "text/plain": [
              "0.2636965437895248"
            ]
          }
        }
      ],
      "source": [
        "child(1/2, 2, 1)"
      ],
      "id": "cde951f5"
    },
    {
      "cell_type": "markdown",
      "metadata": {},
      "source": [
        "(It isn’t illustrated, but there are means to make default values for\n",
        "the parameters.)\n",
        "\n",
        "## Functions can be used as arguments to other functions:\n",
        "\n",
        "Calculus has three main operations: The limit of a *function*, the\n",
        "derivative of a *function*, and the integral of a *function*. These\n",
        "operations take a function and compute some value. For limits this value\n",
        "is a number, for derivatives this value is another function. In `Julia`\n",
        "we will use functions to implement each.\n",
        "\n",
        "Using `Julia` operations on functions are just functions where the\n",
        "*arguments* are themselves functions and, *possibly*, the return value\n",
        "is also a function.\n",
        "\n",
        "The first example we will encounter is related to plotting. The details\n",
        "come later:"
      ],
      "id": "ac2530fd-98e7-4f01-a86d-ebb41af12422"
    },
    {
      "cell_type": "code",
      "execution_count": 18,
      "metadata": {},
      "outputs": [
        {
          "output_type": "display_data",
          "metadata": {},
          "data": {
            "text/html": [
              "<img src=\"data:image/png;base64,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\" />"
            ]
          }
        }
      ],
      "source": [
        "f(x) = sin(x^2)\n",
        "plot(f, 0, pi)"
      ],
      "id": "3bea6e30"
    },
    {
      "cell_type": "markdown",
      "metadata": {},
      "source": [
        "The first argument to `plot` is a function object–not a function call,\n",
        "as in `f(x)`, the second and third describe an interval to plot over.\n",
        "This will be a typical pattern: `someaction(f, arguments...)`.\n",
        "\n",
        "When a function returns a function, we may simply assign it a name. For\n",
        "example, there is a `tangent` function in the `MTH229` package takes a\n",
        "function `f` and a point `c` and returns a function that computes the\n",
        "tangent line to `f` at `c`. Here we give it a name:"
      ],
      "id": "ff81e202-416d-4d3e-ace6-c39b073bd135"
    },
    {
      "cell_type": "code",
      "execution_count": 19,
      "metadata": {},
      "outputs": [
        {
          "output_type": "display_data",
          "metadata": {},
          "data": {
            "text/plain": [
              "Function of `x` to compute the tangent line of `f` at `c`:\n",
              "    f(c) + f'(c) * (x-c)"
            ]
          }
        }
      ],
      "source": [
        "tl = tangent(f, pi/4)"
      ],
      "id": "13bb91a1"
    },
    {
      "cell_type": "markdown",
      "metadata": {},
      "source": [
        "It is called, just like other functions:"
      ],
      "id": "eadb60ce-555a-4fcb-91cc-6f552b8d2d68"
    },
    {
      "cell_type": "code",
      "execution_count": 20,
      "metadata": {},
      "outputs": [
        {
          "output_type": "display_data",
          "metadata": {},
          "data": {
            "text/plain": [
              "(0.38460897507732444, 0.3772017669761397)"
            ]
          }
        }
      ],
      "source": [
        "f(pi/5), tl(pi/5)"
      ],
      "id": "57023e30"
    },
    {
      "cell_type": "markdown",
      "metadata": {},
      "source": [
        "------------------------------------------------------------------------"
      ],
      "id": "c5e78ba4-3e16-4f40-ab81-2fdb190866b7"
    },
    {
      "cell_type": "code",
      "execution_count": 21,
      "metadata": {},
      "outputs": [],
      "source": [
        "# Enter your commands here"
      ],
      "id": "9294e714"
    }
  ],
  "nbformat": 4,
  "nbformat_minor": 5,
  "metadata": {
    "kernelspec": {
      "name": "julia-1.11",
      "display_name": "Julia 1.11.2",
      "language": "julia",
      "path": "/Users/jverzani/Library/Jupyter/kernels/julia-1.11"
    },
    "language_info": {
      "name": "julia",
      "file_extension": ".jl",
      "mimetype": "application/julia",
      "version": "1.11.2"
    }
  }
}